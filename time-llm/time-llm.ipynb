{
 "cells": [
  {
   "cell_type": "markdown",
   "id": "67f7663d-a538-402b-803e-69985e7b31c0",
   "metadata": {
    "tags": []
   },
   "source": [
    "# Time-LLM"
   ]
  },
  {
   "cell_type": "markdown",
   "id": "14039abf-2626-4c14-b4c6-c194f5322c3d",
   "metadata": {},
   "source": [
    "Install the dependencies."
   ]
  },
  {
   "cell_type": "code",
   "execution_count": 1,
   "id": "f077e8dd-4589-46fe-aaf4-a64e9876959a",
   "metadata": {
    "tags": []
   },
   "outputs": [
    {
     "name": "stdout",
     "output_type": "stream",
     "text": [
      "Requirement already satisfied: transformers in /home/ec2-user/anaconda3/envs/pytorch_p310/lib/python3.10/site-packages (4.46.3)\n",
      "Requirement already satisfied: sentencepiece in /home/ec2-user/anaconda3/envs/pytorch_p310/lib/python3.10/site-packages (0.2.0)\n",
      "Requirement already satisfied: filelock in /home/ec2-user/anaconda3/envs/pytorch_p310/lib/python3.10/site-packages (from transformers) (3.16.1)\n",
      "Requirement already satisfied: huggingface-hub<1.0,>=0.23.2 in /home/ec2-user/anaconda3/envs/pytorch_p310/lib/python3.10/site-packages (from transformers) (0.26.3)\n",
      "Requirement already satisfied: numpy>=1.17 in /home/ec2-user/anaconda3/envs/pytorch_p310/lib/python3.10/site-packages (from transformers) (1.26.4)\n",
      "Requirement already satisfied: packaging>=20.0 in /home/ec2-user/anaconda3/envs/pytorch_p310/lib/python3.10/site-packages (from transformers) (21.3)\n",
      "Requirement already satisfied: pyyaml>=5.1 in /home/ec2-user/anaconda3/envs/pytorch_p310/lib/python3.10/site-packages (from transformers) (6.0.2)\n",
      "Requirement already satisfied: regex!=2019.12.17 in /home/ec2-user/anaconda3/envs/pytorch_p310/lib/python3.10/site-packages (from transformers) (2024.11.6)\n",
      "Requirement already satisfied: requests in /home/ec2-user/anaconda3/envs/pytorch_p310/lib/python3.10/site-packages (from transformers) (2.32.3)\n",
      "Requirement already satisfied: tokenizers<0.21,>=0.20 in /home/ec2-user/anaconda3/envs/pytorch_p310/lib/python3.10/site-packages (from transformers) (0.20.3)\n",
      "Requirement already satisfied: safetensors>=0.4.1 in /home/ec2-user/anaconda3/envs/pytorch_p310/lib/python3.10/site-packages (from transformers) (0.4.5)\n",
      "Requirement already satisfied: tqdm>=4.27 in /home/ec2-user/anaconda3/envs/pytorch_p310/lib/python3.10/site-packages (from transformers) (4.66.5)\n",
      "Requirement already satisfied: fsspec>=2023.5.0 in /home/ec2-user/anaconda3/envs/pytorch_p310/lib/python3.10/site-packages (from huggingface-hub<1.0,>=0.23.2->transformers) (2024.10.0)\n",
      "Requirement already satisfied: typing-extensions>=3.7.4.3 in /home/ec2-user/anaconda3/envs/pytorch_p310/lib/python3.10/site-packages (from huggingface-hub<1.0,>=0.23.2->transformers) (4.12.2)\n",
      "Requirement already satisfied: pyparsing!=3.0.5,>=2.0.2 in /home/ec2-user/anaconda3/envs/pytorch_p310/lib/python3.10/site-packages (from packaging>=20.0->transformers) (3.2.0)\n",
      "Requirement already satisfied: charset-normalizer<4,>=2 in /home/ec2-user/anaconda3/envs/pytorch_p310/lib/python3.10/site-packages (from requests->transformers) (3.4.0)\n",
      "Requirement already satisfied: idna<4,>=2.5 in /home/ec2-user/anaconda3/envs/pytorch_p310/lib/python3.10/site-packages (from requests->transformers) (3.10)\n",
      "Requirement already satisfied: urllib3<3,>=1.21.1 in /home/ec2-user/anaconda3/envs/pytorch_p310/lib/python3.10/site-packages (from requests->transformers) (2.2.3)\n",
      "Requirement already satisfied: certifi>=2017.4.17 in /home/ec2-user/anaconda3/envs/pytorch_p310/lib/python3.10/site-packages (from requests->transformers) (2024.8.30)\n"
     ]
    }
   ],
   "source": [
    "!pip install transformers sentencepiece"
   ]
  },
  {
   "cell_type": "markdown",
   "id": "bdd2fdb9-c9f9-4931-870c-eee4f36be4cb",
   "metadata": {},
   "source": [
    "Import the dependencies."
   ]
  },
  {
   "cell_type": "code",
   "execution_count": 2,
   "id": "a79b4297-7e95-4325-8f42-4520dc4029db",
   "metadata": {
    "tags": []
   },
   "outputs": [],
   "source": [
    "import os\n",
    "import types\n",
    "import random\n",
    "import torch\n",
    "import pandas as pd\n",
    "import numpy as np\n",
    "import matplotlib.pyplot as plt\n",
    "from sklearn.metrics import mean_absolute_error, median_absolute_error, root_mean_squared_error\n",
    "\n",
    "from models.TimeLLM import Model"
   ]
  },
  {
   "cell_type": "markdown",
   "id": "124eb528-c043-4ff2-9167-26515013e8e9",
   "metadata": {},
   "source": [
    "Set the device."
   ]
  },
  {
   "cell_type": "code",
   "execution_count": 3,
   "id": "c52e0994-f3f9-455d-9da5-450fffc9fbce",
   "metadata": {},
   "outputs": [],
   "source": [
    "device = torch.device(\"cuda:0\")"
   ]
  },
  {
   "cell_type": "markdown",
   "id": "08b8727c-17b8-4a25-8fbf-400c279b6009",
   "metadata": {},
   "source": [
    "Fix all random seeds."
   ]
  },
  {
   "cell_type": "code",
   "execution_count": 4,
   "id": "ecc125e4-c87e-4ffa-9400-7c07bde8943a",
   "metadata": {},
   "outputs": [],
   "source": [
    "random_seed = 0\n",
    "np.random.seed(random_seed)\n",
    "random.seed(random_seed)\n",
    "torch.manual_seed(random_seed)\n",
    "torch.cuda.manual_seed(random_seed)\n",
    "torch.backends.cudnn.deterministic = True\n",
    "torch.backends.cudnn.benchmark = False"
   ]
  },
  {
   "cell_type": "markdown",
   "id": "cba331e4-84f6-45cd-a8cc-cb6fcb80823e",
   "metadata": {},
   "source": [
    "Get the data. "
   ]
  },
  {
   "cell_type": "code",
   "execution_count": 5,
   "id": "9c71e6bb-b4d0-48f5-b711-9181b1e91009",
   "metadata": {
    "tags": []
   },
   "outputs": [],
   "source": [
    "df = pd.read_csv(\n",
    "    \"https://raw.githubusercontent.com/jbrownlee/Datasets/refs/heads/master/airline-passengers.csv\",\n",
    "    parse_dates=[\"Month\"],\n",
    "    dtype=float\n",
    ")"
   ]
  },
  {
   "cell_type": "code",
   "execution_count": 6,
   "id": "c76ff25d-006f-43d9-8e99-164811a5273d",
   "metadata": {
    "tags": []
   },
   "outputs": [
    {
     "data": {
      "text/plain": [
       "(144, 2)"
      ]
     },
     "execution_count": 6,
     "metadata": {},
     "output_type": "execute_result"
    }
   ],
   "source": [
    "df.shape"
   ]
  },
  {
   "cell_type": "code",
   "execution_count": 7,
   "id": "ef0c0436-78fb-4680-b05f-f92afea4fdeb",
   "metadata": {
    "tags": []
   },
   "outputs": [
    {
     "data": {
      "text/html": [
       "<div>\n",
       "<style scoped>\n",
       "    .dataframe tbody tr th:only-of-type {\n",
       "        vertical-align: middle;\n",
       "    }\n",
       "\n",
       "    .dataframe tbody tr th {\n",
       "        vertical-align: top;\n",
       "    }\n",
       "\n",
       "    .dataframe thead th {\n",
       "        text-align: right;\n",
       "    }\n",
       "</style>\n",
       "<table border=\"1\" class=\"dataframe\">\n",
       "  <thead>\n",
       "    <tr style=\"text-align: right;\">\n",
       "      <th></th>\n",
       "      <th>Month</th>\n",
       "      <th>Passengers</th>\n",
       "    </tr>\n",
       "  </thead>\n",
       "  <tbody>\n",
       "    <tr>\n",
       "      <th>0</th>\n",
       "      <td>1949-01-01</td>\n",
       "      <td>112.0</td>\n",
       "    </tr>\n",
       "    <tr>\n",
       "      <th>1</th>\n",
       "      <td>1949-02-01</td>\n",
       "      <td>118.0</td>\n",
       "    </tr>\n",
       "    <tr>\n",
       "      <th>2</th>\n",
       "      <td>1949-03-01</td>\n",
       "      <td>132.0</td>\n",
       "    </tr>\n",
       "    <tr>\n",
       "      <th>3</th>\n",
       "      <td>1949-04-01</td>\n",
       "      <td>129.0</td>\n",
       "    </tr>\n",
       "    <tr>\n",
       "      <th>4</th>\n",
       "      <td>1949-05-01</td>\n",
       "      <td>121.0</td>\n",
       "    </tr>\n",
       "  </tbody>\n",
       "</table>\n",
       "</div>"
      ],
      "text/plain": [
       "       Month  Passengers\n",
       "0 1949-01-01       112.0\n",
       "1 1949-02-01       118.0\n",
       "2 1949-03-01       132.0\n",
       "3 1949-04-01       129.0\n",
       "4 1949-05-01       121.0"
      ]
     },
     "execution_count": 7,
     "metadata": {},
     "output_type": "execute_result"
    }
   ],
   "source": [
    "df.head()"
   ]
  },
  {
   "cell_type": "markdown",
   "id": "b907ac58-cb83-4c3e-b477-6c323e9c7be4",
   "metadata": {},
   "source": [
    "Visualize the data."
   ]
  },
  {
   "cell_type": "code",
   "execution_count": 8,
   "id": "abf0744f-fb2d-475d-9ada-8353822a1e45",
   "metadata": {
    "tags": []
   },
   "outputs": [
    {
     "data": {
      "image/png": "[encoded data removed]",
      "text/plain": [
       "<Figure size 800x400 with 1 Axes>"
      ]
     },
     "metadata": {},
     "output_type": "display_data"
    }
   ],
   "source": [
    "fig, ax = plt.subplots(figsize=(8, 4))\n",
    "ax.plot(df[\"Month\"], df[\"Passengers\"], color=\"#7f8ea3\", lw=1)\n",
    "ax.xaxis.set_tick_params(labelbottom=True)\n",
    "ax.tick_params(axis=\"both\", which=\"major\", labelsize=7)\n",
    "ax.tick_params(axis=\"both\", which=\"minor\", labelsize=7)\n",
    "fig.tight_layout()\n",
    "fig.show()"
   ]
  },
  {
   "cell_type": "markdown",
   "id": "f1c772d5-ab70-452a-a5f7-e7e405de64ed",
   "metadata": {},
   "source": [
    "Define the sequence lenghts."
   ]
  },
  {
   "cell_type": "code",
   "execution_count": 9,
   "id": "6a49a80a-26d2-4405-b88b-a5cf11bad2ba",
   "metadata": {
    "tags": []
   },
   "outputs": [],
   "source": [
    "seq_len = 24\n",
    "pred_len = 12"
   ]
  },
  {
   "cell_type": "markdown",
   "id": "bf660a50-faf0-4f2b-82f4-5f0725e336dc",
   "metadata": {},
   "source": [
    "Split the data into training and test sets."
   ]
  },
  {
   "cell_type": "code",
   "execution_count": 10,
   "id": "adf9647f-ce97-4cd4-a37b-b5deed7a264c",
   "metadata": {
    "tags": []
   },
   "outputs": [],
   "source": [
    "df_train = df[[\"Passengers\"]].iloc[:- pred_len]\n",
    "df_test = df[[\"Passengers\"]].iloc[- (seq_len + pred_len):]"
   ]
  },
  {
   "cell_type": "markdown",
   "id": "9c6f472b-805c-45b1-bf36-a069e5890ac0",
   "metadata": {},
   "source": [
    "Calculate the scaling parameters."
   ]
  },
  {
   "cell_type": "code",
   "execution_count": 11,
   "id": "2f715cae-ef0e-46a0-9037-52417510f3c7",
   "metadata": {
    "tags": []
   },
   "outputs": [],
   "source": [
    "mu = df_train.mean(axis=0).item()\n",
    "sigma = df_train.std(axis=0, ddof=1).item()"
   ]
  },
  {
   "cell_type": "markdown",
   "id": "e1305fde-430b-42f7-bfaf-8007b9eada29",
   "metadata": {},
   "source": [
    "Scale the data."
   ]
  },
  {
   "cell_type": "code",
   "execution_count": 12,
   "id": "3fad332c-42a8-442c-b76c-2372cacf2ff4",
   "metadata": {
    "tags": []
   },
   "outputs": [],
   "source": [
    "df_train = (df_train - mu) / sigma\n",
    "df_test = (df_test - mu) / sigma"
   ]
  },
  {
   "cell_type": "markdown",
   "id": "907a9c2f-3a54-4e6f-a696-d9863734accb",
   "metadata": {},
   "source": [
    "Define a function for splitting the data into input and output sequences. "
   ]
  },
  {
   "cell_type": "code",
   "execution_count": 13,
   "id": "f0981fbd-d86e-45e3-87d3-d6a3bedcd66e",
   "metadata": {
    "tags": []
   },
   "outputs": [],
   "source": [
    "def get_sequences(df, seq_len, pred_len):\n",
    "    x = []\n",
    "    y = []\n",
    "    for t in range(seq_len, len(df) - pred_len + 1):\n",
    "        x.append(df.iloc[t - seq_len: t].values)\n",
    "        y.append(df.iloc[t: t + pred_len].values)\n",
    "    x = np.array(x)\n",
    "    y = np.array(y)\n",
    "    return x, y"
   ]
  },
  {
   "cell_type": "markdown",
   "id": "e8c434fd-3996-46aa-9193-52b1240bde90",
   "metadata": {},
   "source": [
    "Generate the training sequences."
   ]
  },
  {
   "cell_type": "code",
   "execution_count": 14,
   "id": "bf3f423c-d9ce-4ba9-acb7-2f52cac5163a",
   "metadata": {
    "tags": []
   },
   "outputs": [],
   "source": [
    "x_train, y_train = get_sequences(df_train, seq_len, pred_len)"
   ]
  },
  {
   "cell_type": "markdown",
   "id": "5609056c-8d1d-4eb8-bebd-38141d16bb66",
   "metadata": {},
   "source": [
    "Generate the test sequences."
   ]
  },
  {
   "cell_type": "code",
   "execution_count": 15,
   "id": "3425c1cf-8aae-4648-87ff-812e450c44be",
   "metadata": {
    "tags": []
   },
   "outputs": [],
   "source": [
    "x_test, y_test = get_sequences(df_test, seq_len, pred_len)"
   ]
  },
  {
   "cell_type": "markdown",
   "id": "cfb641c1-a468-4826-946b-97977672848e",
   "metadata": {},
   "source": [
    "Define the training parameters."
   ]
  },
  {
   "cell_type": "code",
   "execution_count": 16,
   "id": "a50d9d27-336f-4602-b41f-8d060d04d4c9",
   "metadata": {
    "tags": []
   },
   "outputs": [],
   "source": [
    "batch_size = 8\n",
    "lr = 0.001\n",
    "epochs = 40"
   ]
  },
  {
   "cell_type": "markdown",
   "id": "0513d3c0-14cb-4f8d-bf70-5387fefe789b",
   "metadata": {
    "tags": []
   },
   "source": [
    "Create the training dataset."
   ]
  },
  {
   "cell_type": "code",
   "execution_count": 17,
   "id": "b7ede7c3-1a75-4b3f-8100-e13b35c168d3",
   "metadata": {
    "tags": []
   },
   "outputs": [],
   "source": [
    "dataset = torch.utils.data.TensorDataset(\n",
    "    torch.from_numpy(x_train).float(),\n",
    "    torch.from_numpy(y_train).float()\n",
    ")"
   ]
  },
  {
   "cell_type": "markdown",
   "id": "57dfa808-92df-44d1-893e-fc5ba62062df",
   "metadata": {},
   "source": [
    "Create the training dataloader."
   ]
  },
  {
   "cell_type": "code",
   "execution_count": 18,
   "id": "bd31760d-6cc8-46fa-8533-79fb1b3a9e53",
   "metadata": {
    "tags": []
   },
   "outputs": [],
   "source": [
    "dataloader = torch.utils.data.DataLoader(\n",
    "    dataset=dataset,\n",
    "    batch_size=batch_size,\n",
    "    shuffle=True,\n",
    ")"
   ]
  },
  {
   "cell_type": "markdown",
   "id": "2341ec61-48ab-48aa-a603-e0ecdda9aaec",
   "metadata": {},
   "source": [
    "Instantiate the model."
   ]
  },
  {
   "cell_type": "code",
   "execution_count": 19,
   "id": "21fc6e9e-7402-4bc9-92bf-11c961e8cc24",
   "metadata": {
    "tags": []
   },
   "outputs": [
    {
     "data": {
      "application/vnd.jupyter.widget-view+json": {
       "model_id": "db61154c6cbd4f95b8f4ae7b11fb58c0",
       "version_major": 2,
       "version_minor": 0
      },
      "text/plain": [
       "Loading checkpoint shards:   0%|          | 0/2 [00:00<?, ?it/s]"
      ]
     },
     "metadata": {},
     "output_type": "display_data"
    },
    {
     "data": {
      "text/plain": [
       "Model(\n",
       "  (llm_model): LlamaModel(\n",
       "    (embed_tokens): Embedding(32000, 4096, padding_idx=0)\n",
       "    (layers): ModuleList(\n",
       "      (0): LlamaDecoderLayer(\n",
       "        (self_attn): LlamaSdpaAttention(\n",
       "          (q_proj): Linear(in_features=4096, out_features=4096, bias=False)\n",
       "          (k_proj): Linear(in_features=4096, out_features=4096, bias=False)\n",
       "          (v_proj): Linear(in_features=4096, out_features=4096, bias=False)\n",
       "          (o_proj): Linear(in_features=4096, out_features=4096, bias=False)\n",
       "          (rotary_emb): LlamaRotaryEmbedding()\n",
       "        )\n",
       "        (mlp): LlamaMLP(\n",
       "          (gate_proj): Linear(in_features=4096, out_features=11008, bias=False)\n",
       "          (up_proj): Linear(in_features=4096, out_features=11008, bias=False)\n",
       "          (down_proj): Linear(in_features=11008, out_features=4096, bias=False)\n",
       "          (act_fn): SiLU()\n",
       "        )\n",
       "        (input_layernorm): LlamaRMSNorm((4096,), eps=1e-06)\n",
       "        (post_attention_layernorm): LlamaRMSNorm((4096,), eps=1e-06)\n",
       "      )\n",
       "    )\n",
       "    (norm): LlamaRMSNorm((4096,), eps=1e-06)\n",
       "    (rotary_emb): LlamaRotaryEmbedding()\n",
       "  )\n",
       "  (dropout): Dropout(p=0, inplace=False)\n",
       "  (patch_embedding): PatchEmbedding(\n",
       "    (padding_patch_layer): ReplicationPad1d()\n",
       "    (value_embedding): TokenEmbedding(\n",
       "      (tokenConv): Conv1d(16, 32, kernel_size=(3,), stride=(1,), padding=(1,), bias=False, padding_mode=circular)\n",
       "    )\n",
       "    (dropout): Dropout(p=0, inplace=False)\n",
       "  )\n",
       "  (mapping_layer): Linear(in_features=32000, out_features=1000, bias=True)\n",
       "  (reprogramming_layer): ReprogrammingLayer(\n",
       "    (query_projection): Linear(in_features=32, out_features=128, bias=True)\n",
       "    (key_projection): Linear(in_features=4096, out_features=128, bias=True)\n",
       "    (value_projection): Linear(in_features=4096, out_features=128, bias=True)\n",
       "    (out_projection): Linear(in_features=128, out_features=4096, bias=True)\n",
       "    (dropout): Dropout(p=0.1, inplace=False)\n",
       "  )\n",
       "  (output_projection): FlattenHead(\n",
       "    (flatten): Flatten(start_dim=-2, end_dim=-1)\n",
       "    (linear): Linear(in_features=96, out_features=12, bias=True)\n",
       "    (dropout): Dropout(p=0, inplace=False)\n",
       "  )\n",
       "  (normalize_layers): Normalize()\n",
       ")"
      ]
     },
     "execution_count": 19,
     "metadata": {},
     "output_type": "execute_result"
    }
   ],
   "source": [
    "model = Model(\n",
    "    configs=types.SimpleNamespace(\n",
    "        prompt_domain=True,\n",
    "        content=\"Monthly totals of a airline passengers from USA, from January 1949 through December 1960.\",\n",
    "        task_name=\"short_term_forecast\",  # not used\n",
    "        enc_in=None,  # not used\n",
    "        pred_len=pred_len,\n",
    "        seq_len=seq_len,\n",
    "        llm_model=\"LLAMA\",\n",
    "        llm_dim=4096,\n",
    "        llm_layers=1,\n",
    "        d_model=32,\n",
    "        d_ff=32,\n",
    "        patch_len=16,\n",
    "        stride=8,\n",
    "        n_heads=4,\n",
    "        dropout=0,\n",
    "    )\n",
    ")\n",
    "model.to(torch.bfloat16)\n",
    "model.to(device)"
   ]
  },
  {
   "cell_type": "code",
   "execution_count": 20,
   "id": "c0b8eb1c-d65a-417e-8b23-a84a2fc54425",
   "metadata": {
    "tags": []
   },
   "outputs": [
    {
     "name": "stdout",
     "output_type": "stream",
     "text": [
      "Number of parameters: 367,044,596\n",
      "Number of frozen parameters: 333,459,456\n",
      "Number of trainable parameters: 33,585,140\n"
     ]
    }
   ],
   "source": [
    "print(f\"Number of parameters: {format(sum(p.numel() for p in model.parameters()), ',.0f')}\")\n",
    "print(f\"Number of frozen parameters: {format(sum(p.numel() for p in model.parameters() if not p.requires_grad), ',.0f')}\")\n",
    "print(f\"Number of trainable parameters: {format(sum(p.numel() for p in model.parameters() if p.requires_grad), ',.0f')}\")"
   ]
  },
  {
   "cell_type": "markdown",
   "id": "31cd2756-a45d-4f8e-8f3e-b2f36e5668ff",
   "metadata": {},
   "source": [
    "Instantiate the optimizer."
   ]
  },
  {
   "cell_type": "code",
   "execution_count": 21,
   "id": "2e60c35b-a7be-4ab8-bb34-1df4e4b6341b",
   "metadata": {},
   "outputs": [],
   "source": [
    "optimizer = torch.optim.Adam(\n",
    "    params=[p for p in model.parameters() if p.requires_grad],\n",
    "    lr=lr\n",
    ")"
   ]
  },
  {
   "cell_type": "markdown",
   "id": "4ef89844-f904-4945-a8bf-77f02fc38c77",
   "metadata": {},
   "source": [
    "Train the model."
   ]
  },
  {
   "cell_type": "code",
   "execution_count": 22,
   "id": "4321451a-c119-4746-bc69-0395b032a117",
   "metadata": {},
   "outputs": [
    {
     "name": "stdout",
     "output_type": "stream",
     "text": [
      "epoch: 1 loss: 0.29851346\n",
      "epoch: 2 loss: 0.15955588\n",
      "epoch: 3 loss: 0.08472076\n",
      "epoch: 4 loss: 0.05967870\n",
      "epoch: 5 loss: 0.06023220\n",
      "epoch: 6 loss: 0.06349146\n",
      "epoch: 7 loss: 0.06728122\n",
      "epoch: 8 loss: 0.06126707\n",
      "epoch: 9 loss: 0.05353234\n",
      "epoch: 10 loss: 0.05658055\n",
      "epoch: 11 loss: 0.04822905\n",
      "epoch: 12 loss: 0.04843022\n",
      "epoch: 13 loss: 0.04471244\n",
      "epoch: 14 loss: 0.05880081\n",
      "epoch: 15 loss: 0.05236155\n",
      "epoch: 16 loss: 0.05229929\n",
      "epoch: 17 loss: 0.04131612\n",
      "epoch: 18 loss: 0.03974260\n",
      "epoch: 19 loss: 0.04010143\n",
      "epoch: 20 loss: 0.04502358\n",
      "epoch: 21 loss: 0.05139145\n",
      "epoch: 22 loss: 0.04821363\n",
      "epoch: 23 loss: 0.05030083\n",
      "epoch: 24 loss: 0.04305501\n",
      "epoch: 25 loss: 0.03821681\n",
      "epoch: 26 loss: 0.03685588\n",
      "epoch: 27 loss: 0.04157941\n",
      "epoch: 28 loss: 0.03874546\n",
      "epoch: 29 loss: 0.04502921\n",
      "epoch: 30 loss: 0.04382845\n",
      "epoch: 31 loss: 0.04558949\n",
      "epoch: 32 loss: 0.04334464\n",
      "epoch: 33 loss: 0.04241312\n",
      "epoch: 34 loss: 0.03419355\n",
      "epoch: 35 loss: 0.03252470\n",
      "epoch: 36 loss: 0.03761013\n",
      "epoch: 37 loss: 0.03659076\n",
      "epoch: 38 loss: 0.04324745\n",
      "epoch: 39 loss: 0.03865493\n",
      "epoch: 40 loss: 0.03808260\n"
     ]
    }
   ],
   "source": [
    "model.train()\n",
    "for epoch in range(epochs):\n",
    "    losses = []\n",
    "    for x, y in dataloader:\n",
    "        x, y = x.to(device), y.to(device)\n",
    "        optimizer.zero_grad()\n",
    "        yhat = model(\n",
    "            x_enc=x,\n",
    "            x_mark_enc=None,\n",
    "            x_dec=None,\n",
    "            x_mark_dec=None\n",
    "        )\n",
    "        loss = torch.nn.functional.mse_loss(yhat, y)\n",
    "        losses.append(loss.item())\n",
    "        loss.backward()\n",
    "        optimizer.step()\n",
    "    print(f'epoch: {format(1 + epoch, \".0f\")} loss: {format(np.mean(losses), \",.8f\")}')"
   ]
  },
  {
   "cell_type": "markdown",
   "id": "b99de6a1-81cb-4968-9fde-a9c30e3d9752",
   "metadata": {},
   "source": [
    "Generate the forecasts."
   ]
  },
  {
   "cell_type": "code",
   "execution_count": 23,
   "id": "12d9ea39-32ea-43c3-b6fb-a584c062508e",
   "metadata": {},
   "outputs": [],
   "source": [
    "model.eval()\n",
    "yhat_test = model(\n",
    "    x_enc=torch.from_numpy(x_test).float().to(device),\n",
    "    x_mark_enc=None,\n",
    "    x_dec=None,\n",
    "    x_mark_dec=None\n",
    ").detach().cpu().numpy().flatten()"
   ]
  },
  {
   "cell_type": "markdown",
   "id": "3e55b442-7dde-4666-8857-6530ef9d2ca3",
   "metadata": {},
   "source": [
    "Transform the forecasts back to the original scale."
   ]
  },
  {
   "cell_type": "code",
   "execution_count": 24,
   "id": "5c77e9d5-b30d-447b-bb50-274f7bd19faa",
   "metadata": {
    "tags": []
   },
   "outputs": [],
   "source": [
    "yhat_test = mu + sigma * yhat_test"
   ]
  },
  {
   "cell_type": "markdown",
   "id": "5ee5a065-2673-4fae-90af-09f352f8f0d7",
   "metadata": {},
   "source": [
    "Organize the forecasts in a data frame."
   ]
  },
  {
   "cell_type": "code",
   "execution_count": 25,
   "id": "3172f7e0-ba83-447d-bc73-7659490ec990",
   "metadata": {
    "tags": []
   },
   "outputs": [],
   "source": [
    "predictions = pd.DataFrame(\n",
    "    data=yhat_test,\n",
    "    columns=[\"Passengers\"],\n",
    "    index=df[\"Month\"].iloc[-pred_len:]\n",
    ").reset_index()"
   ]
  },
  {
   "cell_type": "code",
   "execution_count": 26,
   "id": "c28daaac-fc5c-4564-be66-a787acedc936",
   "metadata": {
    "tags": []
   },
   "outputs": [
    {
     "data": {
      "text/html": [
       "<div>\n",
       "<style scoped>\n",
       "    .dataframe tbody tr th:only-of-type {\n",
       "        vertical-align: middle;\n",
       "    }\n",
       "\n",
       "    .dataframe tbody tr th {\n",
       "        vertical-align: top;\n",
       "    }\n",
       "\n",
       "    .dataframe thead th {\n",
       "        text-align: right;\n",
       "    }\n",
       "</style>\n",
       "<table border=\"1\" class=\"dataframe\">\n",
       "  <thead>\n",
       "    <tr style=\"text-align: right;\">\n",
       "      <th></th>\n",
       "      <th>Month</th>\n",
       "      <th>Passengers</th>\n",
       "    </tr>\n",
       "  </thead>\n",
       "  <tbody>\n",
       "    <tr>\n",
       "      <th>0</th>\n",
       "      <td>1960-01-01</td>\n",
       "      <td>391.472290</td>\n",
       "    </tr>\n",
       "    <tr>\n",
       "      <th>1</th>\n",
       "      <td>1960-02-01</td>\n",
       "      <td>388.123474</td>\n",
       "    </tr>\n",
       "    <tr>\n",
       "      <th>2</th>\n",
       "      <td>1960-03-01</td>\n",
       "      <td>444.852570</td>\n",
       "    </tr>\n",
       "    <tr>\n",
       "      <th>3</th>\n",
       "      <td>1960-04-01</td>\n",
       "      <td>443.780945</td>\n",
       "    </tr>\n",
       "    <tr>\n",
       "      <th>4</th>\n",
       "      <td>1960-05-01</td>\n",
       "      <td>455.300903</td>\n",
       "    </tr>\n",
       "    <tr>\n",
       "      <th>5</th>\n",
       "      <td>1960-06-01</td>\n",
       "      <td>540.762878</td>\n",
       "    </tr>\n",
       "    <tr>\n",
       "      <th>6</th>\n",
       "      <td>1960-07-01</td>\n",
       "      <td>617.919800</td>\n",
       "    </tr>\n",
       "    <tr>\n",
       "      <th>7</th>\n",
       "      <td>1960-08-01</td>\n",
       "      <td>618.991394</td>\n",
       "    </tr>\n",
       "    <tr>\n",
       "      <th>8</th>\n",
       "      <td>1960-09-01</td>\n",
       "      <td>527.367554</td>\n",
       "    </tr>\n",
       "    <tr>\n",
       "      <th>9</th>\n",
       "      <td>1960-10-01</td>\n",
       "      <td>438.958618</td>\n",
       "    </tr>\n",
       "    <tr>\n",
       "      <th>10</th>\n",
       "      <td>1960-11-01</td>\n",
       "      <td>384.841644</td>\n",
       "    </tr>\n",
       "    <tr>\n",
       "      <th>11</th>\n",
       "      <td>1960-12-01</td>\n",
       "      <td>426.099152</td>\n",
       "    </tr>\n",
       "  </tbody>\n",
       "</table>\n",
       "</div>"
      ],
      "text/plain": [
       "        Month  Passengers\n",
       "0  1960-01-01  391.472290\n",
       "1  1960-02-01  388.123474\n",
       "2  1960-03-01  444.852570\n",
       "3  1960-04-01  443.780945\n",
       "4  1960-05-01  455.300903\n",
       "5  1960-06-01  540.762878\n",
       "6  1960-07-01  617.919800\n",
       "7  1960-08-01  618.991394\n",
       "8  1960-09-01  527.367554\n",
       "9  1960-10-01  438.958618\n",
       "10 1960-11-01  384.841644\n",
       "11 1960-12-01  426.099152"
      ]
     },
     "execution_count": 26,
     "metadata": {},
     "output_type": "execute_result"
    }
   ],
   "source": [
    "predictions"
   ]
  },
  {
   "cell_type": "markdown",
   "id": "37aff5a4-823f-4d82-af3f-20474c709991",
   "metadata": {},
   "source": [
    "Visualize the forecasts."
   ]
  },
  {
   "cell_type": "code",
   "execution_count": 27,
   "id": "4395dec0-2f37-4ea0-bd43-f22746cc7623",
   "metadata": {
    "tags": []
   },
   "outputs": [
    {
     "data": {
      "image/png": "[encoded data removed]",
      "text/plain": [
       "<Figure size 800x400 with 1 Axes>"
      ]
     },
     "metadata": {},
     "output_type": "display_data"
    }
   ],
   "source": [
    "fig, ax = plt.subplots(figsize=(8, 4))\n",
    "ax.plot(df[\"Month\"], df[\"Passengers\"], color=\"#7f8ea3\", lw=1, label=\"Actual\")\n",
    "ax.plot(predictions[\"Month\"], predictions[\"Passengers\"], color=\"#009ad3\", lw=1.5, label=\"Forecast\")\n",
    "ax.xaxis.set_tick_params(labelbottom=True)\n",
    "ax.tick_params(axis=\"both\", which=\"major\", labelsize=7)\n",
    "ax.tick_params(axis=\"both\", which=\"minor\", labelsize=7)\n",
    "ax.legend(loc=0)\n",
    "fig.tight_layout()\n",
    "fig.show()"
   ]
  },
  {
   "cell_type": "markdown",
   "id": "573bc0f0-3cb5-400a-8de8-8d64301a2fb1",
   "metadata": {},
   "source": [
    "Calculate the error metrics."
   ]
  },
  {
   "cell_type": "code",
   "execution_count": 28,
   "id": "0d2f138b-24b0-4d9f-a0e6-ced3de4fbef7",
   "metadata": {
    "tags": []
   },
   "outputs": [],
   "source": [
    "metrics = pd.DataFrame({\n",
    "    \"Mean Absolute Error\": mean_absolute_error(y_true=df[\"Passengers\"].iloc[-pred_len:], y_pred=predictions[\"Passengers\"]),\n",
    "    \"Median Absolute Error\": median_absolute_error(y_true=df[\"Passengers\"].iloc[-pred_len:], y_pred=predictions[\"Passengers\"]),\n",
    "    \"Root Mean Squared Error\": root_mean_squared_error(y_true=df[\"Passengers\"].iloc[-pred_len:], y_pred=predictions[\"Passengers\"]),\n",
    "}, index=[\"\"]).transpose()"
   ]
  },
  {
   "cell_type": "code",
   "execution_count": 29,
   "id": "35f4a616-d9b9-4873-af53-82d892122813",
   "metadata": {
    "tags": []
   },
   "outputs": [
    {
     "data": {
      "text/html": [
       "<div>\n",
       "<style scoped>\n",
       "    .dataframe tbody tr th:only-of-type {\n",
       "        vertical-align: middle;\n",
       "    }\n",
       "\n",
       "    .dataframe tbody tr th {\n",
       "        vertical-align: top;\n",
       "    }\n",
       "\n",
       "    .dataframe thead th {\n",
       "        text-align: right;\n",
       "    }\n",
       "</style>\n",
       "<table border=\"1\" class=\"dataframe\">\n",
       "  <thead>\n",
       "    <tr style=\"text-align: right;\">\n",
       "      <th></th>\n",
       "      <th></th>\n",
       "    </tr>\n",
       "  </thead>\n",
       "  <tbody>\n",
       "    <tr>\n",
       "      <th>Mean Absolute Error</th>\n",
       "      <td>13.623131</td>\n",
       "    </tr>\n",
       "    <tr>\n",
       "      <th>Median Absolute Error</th>\n",
       "      <td>14.845245</td>\n",
       "    </tr>\n",
       "    <tr>\n",
       "      <th>Root Mean Squared Error</th>\n",
       "      <td>15.928585</td>\n",
       "    </tr>\n",
       "  </tbody>\n",
       "</table>\n",
       "</div>"
      ],
      "text/plain": [
       "                                  \n",
       "Mean Absolute Error      13.623131\n",
       "Median Absolute Error    14.845245\n",
       "Root Mean Squared Error  15.928585"
      ]
     },
     "execution_count": 29,
     "metadata": {},
     "output_type": "execute_result"
    }
   ],
   "source": [
    "metrics"
   ]
  },
  {
   "cell_type": "code",
   "execution_count": null,
   "id": "c0ce55b8-00b0-4dd6-9508-c7f3e05d3b9e",
   "metadata": {},
   "outputs": [],
   "source": []
  }
 ],
 "metadata": {
  "kernelspec": {
   "display_name": "conda_pytorch_p310",
   "language": "python",
   "name": "conda_pytorch_p310"
  },
  "language_info": {
   "codemirror_mode": {
    "name": "ipython",
    "version": 3
   },
   "file_extension": ".py",
   "mimetype": "text/x-python",
   "name": "python",
   "nbconvert_exporter": "python",
   "pygments_lexer": "ipython3",
   "version": "3.10.14"
  }
 },
 "nbformat": 4,
 "nbformat_minor": 5
}

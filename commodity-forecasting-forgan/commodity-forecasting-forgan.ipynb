{
 "cells": [
  {
   "cell_type": "markdown",
   "id": "9b4c8073-eff3-41bd-9985-5564a6c92825",
   "metadata": {},
   "source": [
    "# Forecasting commodity prices with generative adversarial networks"
   ]
  },
  {
   "cell_type": "markdown",
   "id": "34a7b1f1-e620-4208-916d-4a72466f4628",
   "metadata": {},
   "source": [
    "**Paper:** https://doi.org/10.1109/ACCESS.2019.2915544"
   ]
  },
  {
   "cell_type": "markdown",
   "id": "aac3801a-67b5-440b-b992-780237c48418",
   "metadata": {},
   "source": [
    "Import the dependencies."
   ]
  },
  {
   "cell_type": "code",
   "execution_count": 1,
   "id": "6761fa1c-faef-4fec-954f-5bdc42f82d34",
   "metadata": {},
   "outputs": [
    {
     "name": "stderr",
     "output_type": "stream",
     "text": [
      "2024-07-27 10:34:32.540089: I tensorflow/core/platform/cpu_feature_guard.cc:182] This TensorFlow binary is optimized to use available CPU instructions in performance-critical operations.\n",
      "To enable the following instructions: AVX2 FMA, in other operations, rebuild TensorFlow with the appropriate compiler flags.\n"
     ]
    }
   ],
   "source": [
    "import warnings\n",
    "warnings.filterwarnings(\"ignore\")\n",
    "\n",
    "import os\n",
    "import random\n",
    "import numpy as np\n",
    "import pandas as pd\n",
    "import tensorflow as tf\n",
    "import yfinance as yf\n",
    "import matplotlib.pyplot as plt\n",
    "from tqdm import tqdm\n",
    "from sklearn.metrics import root_mean_squared_error, mean_absolute_error, mean_absolute_percentage_error"
   ]
  },
  {
   "cell_type": "markdown",
   "id": "586374c3-5a32-4481-bc84-70afcd9081d4",
   "metadata": {},
   "source": [
    "Define a function for fixing the random seeds, for reproducibility."
   ]
  },
  {
   "cell_type": "code",
   "execution_count": 2,
   "id": "a59138de-d796-4a40-97e1-800392eb9301",
   "metadata": {},
   "outputs": [],
   "source": [
    "def set_seeds(seed):\n",
    "    '''\n",
    "    Fix the random seeds.\n",
    "    '''\n",
    "    os.environ[\"PYTHONHASHSEED\"] = str(seed)\n",
    "    random.seed(seed)\n",
    "    tf.random.set_seed(seed)\n",
    "    np.random.seed(seed)\n",
    "\n",
    "\n",
    "def set_global_determinism(seed):\n",
    "    '''\n",
    "    Fix all sources of randomness.\n",
    "    '''\n",
    "    set_seeds(seed=seed)\n",
    "\n",
    "    os.environ[\"TF_DETERMINISTIC_OPS\"] = \"1\"\n",
    "    os.environ[\"TF_CUDNN_DETERMINISTIC\"] = \"1\"\n",
    "\n",
    "    tf.config.threading.set_inter_op_parallelism_threads(1)\n",
    "    tf.config.threading.set_intra_op_parallelism_threads(1)"
   ]
  },
  {
   "cell_type": "markdown",
   "id": "d826673e-5df6-4f66-bcd4-03fa9bb162b6",
   "metadata": {},
   "source": [
    "Define the generator architecture."
   ]
  },
  {
   "cell_type": "code",
   "execution_count": 3,
   "id": "e26c0ada-9fd0-4b22-855b-4880ab11bc4c",
   "metadata": {},
   "outputs": [],
   "source": [
    "class Generator(tf.keras.Model):\n",
    "    '''\n",
    "    Generator model.\n",
    "    '''\n",
    "\n",
    "    def __init__(self, units, noise_dimension):\n",
    "        super().__init__()\n",
    "\n",
    "        # recurrent layer\n",
    "        self.rnn = tf.keras.layers.LSTM(units=units, return_sequences=False)\n",
    "\n",
    "        # dense layer\n",
    "        self.dense = tf.keras.layers.Dense(units=units + noise_dimension, activation=\"relu\")\n",
    "\n",
    "        # output layer\n",
    "        self.out = tf.keras.layers.Dense(units=1)\n",
    "\n",
    "    def call(self, inputs):\n",
    "\n",
    "        # extract the inputs\n",
    "        condition, noise = inputs\n",
    "\n",
    "        # get the condition representation\n",
    "        representation = self.rnn(condition)\n",
    "\n",
    "        # extend the condition representation with the noise vector\n",
    "        representation = tf.concat([representation, noise], axis=-1)\n",
    "\n",
    "        # get the predicted value\n",
    "        prediction = self.out(self.dense(representation))\n",
    "\n",
    "        return prediction"
   ]
  },
  {
   "cell_type": "markdown",
   "id": "e7b7e46d-62ee-4e28-8a75-2d496c4bd67d",
   "metadata": {},
   "source": [
    "Define the discriminator architecture."
   ]
  },
  {
   "cell_type": "code",
   "execution_count": 4,
   "id": "40574d90-1f38-40c4-b715-6dfe9286715c",
   "metadata": {},
   "outputs": [],
   "source": [
    "class Discriminator(tf.keras.Model):\n",
    "    '''\n",
    "    Discriminator model.\n",
    "    '''\n",
    "\n",
    "    def __init__(self, units):\n",
    "        super().__init__()\n",
    "\n",
    "        # recurrent layer\n",
    "        self.rnn = tf.keras.layers.LSTM(units=units, return_sequences=False)\n",
    "\n",
    "        # output layer\n",
    "        self.out = tf.keras.layers.Dense(units=1, activation=\"sigmoid\")\n",
    "\n",
    "    def call(self, inputs):\n",
    "\n",
    "        # extract the inputs\n",
    "        condition, next_value = inputs\n",
    "\n",
    "        # extend the condition with the next value (either actual/real or predicted/fake)\n",
    "        condition = tf.concat([condition, tf.expand_dims(next_value, axis=1)], axis=1)\n",
    "\n",
    "        # get the condition representation\n",
    "        representation = self.rnn(condition)\n",
    "\n",
    "        # get the predicted probability\n",
    "        probability = self.out(representation)\n",
    "\n",
    "        return probability"
   ]
  },
  {
   "cell_type": "markdown",
   "id": "9454c4b2-757d-4a3c-be25-dc2583010e68",
   "metadata": {},
   "source": [
    "Define a custom class for training the model and generating the distributional forecasts."
   ]
  },
  {
   "cell_type": "code",
   "execution_count": 5,
   "id": "d1cec632-fe47-4ec2-8a1d-ae118a76aab6",
   "metadata": {},
   "outputs": [],
   "source": [
    "class ForGAN():\n",
    "    '''\n",
    "    ForGAN model.\n",
    "    '''\n",
    "    def __init__(self,\n",
    "                 generator_units,\n",
    "                 discriminator_units,\n",
    "                 condition_length,\n",
    "                 noise_dimension,\n",
    "                 seed=42):\n",
    "\n",
    "        self.generator_units = generator_units\n",
    "        self.discriminator_units = discriminator_units\n",
    "        self.condition_length = condition_length\n",
    "        self.noise_dimension = noise_dimension\n",
    "        self.seed = seed\n",
    "\n",
    "    def fit(self, x, learning_rate, batch_size, epochs):\n",
    "\n",
    "        # fix the random seeds\n",
    "        set_global_determinism(seed=self.seed)\n",
    "\n",
    "        # scale the time series\n",
    "        x = x.copy().values\n",
    "        self.mu = np.mean(x, axis=0)\n",
    "        self.sigma = np.std(x, axis=0, ddof=1)\n",
    "        x = (x - self.mu) / self.sigma\n",
    "        \n",
    "        # split the time series into condition sequences and target values\n",
    "        condition = []\n",
    "        target = []\n",
    "        for t in range(self.condition_length, len(x)):\n",
    "            condition.append(x[t - self.condition_length: t, :])\n",
    "            target.append(x[t, :])\n",
    "        condition = np.array(condition)\n",
    "        target = np.array(target)\n",
    "\n",
    "        # split the condition sequences and target values into batches\n",
    "        dataset = tf.data.Dataset.from_tensor_slices((tf.cast(condition, tf.float32), tf.cast(target, tf.float32)))\n",
    "        dataset = dataset.cache().shuffle(buffer_size=len(target), seed=self.seed).batch(batch_size).prefetch(tf.data.experimental.AUTOTUNE)\n",
    "\n",
    "        # build the models\n",
    "        self.generator_model = Generator(units=self.generator_units, noise_dimension=self.noise_dimension)\n",
    "        self.discriminator_model = Discriminator(units=self.discriminator_units)\n",
    "\n",
    "        # instantiate the optimizers\n",
    "        generator_optimizer = tf.keras.optimizers.Adam(learning_rate=learning_rate)\n",
    "        discriminator_optimizer = tf.keras.optimizers.Adam(learning_rate=learning_rate)\n",
    "\n",
    "        # define the loss functions\n",
    "        bce = tf.keras.losses.BinaryCrossentropy(from_logits=False)\n",
    "\n",
    "        # define the training loop\n",
    "        @tf.function\n",
    "        def train_step(data):\n",
    "            with tf.GradientTape() as generator_tape, tf.GradientTape() as discriminator_tape:\n",
    "\n",
    "                # extract the condition sequences and the target values\n",
    "                condition, target = data\n",
    "\n",
    "                # generate the noise vector\n",
    "                noise = tf.random.normal(shape=(len(condition), self.noise_dimension))\n",
    "\n",
    "                # generate the target values\n",
    "                prediction = self.generator_model(inputs=[condition, noise])\n",
    "\n",
    "                # pass the actual and the generated target values to the discriminator\n",
    "                target_probability = self.discriminator_model(inputs=[condition, target])\n",
    "                prediction_probability = self.discriminator_model(inputs=[condition, prediction])\n",
    "\n",
    "                # calculate the generator loss\n",
    "                generator_loss = bce(y_true=tf.ones_like(prediction_probability), y_pred=prediction_probability)\n",
    "\n",
    "                # calculate the discriminator loss\n",
    "                discriminator_loss = bce(y_true=tf.ones_like(target_probability), y_pred=target_probability) + \\\n",
    "                                     bce(y_true=tf.zeros_like(prediction_probability), y_pred=prediction_probability)\n",
    "\n",
    "            # calculate the gradients\n",
    "            generator_gradients = generator_tape.gradient(generator_loss, self.generator_model.trainable_variables)\n",
    "            discriminator_gradients = discriminator_tape.gradient(discriminator_loss, self.discriminator_model.trainable_variables)\n",
    "\n",
    "            # update the weights\n",
    "            generator_optimizer.apply_gradients(zip(generator_gradients, self.generator_model.trainable_variables))\n",
    "            discriminator_optimizer.apply_gradients(zip(discriminator_gradients, self.discriminator_model.trainable_variables))\n",
    "\n",
    "            return generator_loss, discriminator_loss\n",
    "\n",
    "        # train the models\n",
    "        pbar = tqdm(range(epochs))\n",
    "        for epoch in pbar:\n",
    "            for data in dataset:\n",
    "                generator_loss, discriminator_loss = train_step(data)\n",
    "            pbar.set_description_str(\"Epoch: {}  Generator Loss: {:.4f}  Discriminator Loss: {:.4f}\".format(1 + epoch, generator_loss, discriminator_loss))\n",
    "\n",
    "    def predict(self, x, samples):\n",
    "\n",
    "        # fix the random seeds\n",
    "        set_global_determinism(seed=self.seed)\n",
    "\n",
    "        # scale the time series\n",
    "        x = x.copy().values\n",
    "        x = (x - self.mu) / self.sigma\n",
    "\n",
    "        # get the condition sequence\n",
    "        condition = np.expand_dims(x[- self.condition_length:], axis=0)\n",
    "\n",
    "        # generate the next value of the target time series\n",
    "        simulation = []\n",
    "        \n",
    "        # loop across the number of samples to be generated\n",
    "        for sample in range(samples):\n",
    "\n",
    "            # generate the noise vector\n",
    "            noise = tf.random.normal(shape=(len(condition), self.noise_dimension))\n",
    "\n",
    "            # generate the next target value\n",
    "            prediction = self.generator_model(inputs=[condition, noise]).numpy()\n",
    "\n",
    "            # transform the generated target values back to the original scale\n",
    "            prediction = self.mu + self.sigma * prediction\n",
    "\n",
    "            # save the generated target values\n",
    "            simulation.append(prediction)\n",
    "        \n",
    "        # cast the generated target values to array\n",
    "        simulation = np.concatenate(simulation, axis=1)\n",
    "\n",
    "        return simulation"
   ]
  },
  {
   "cell_type": "markdown",
   "id": "99cb7a7a-c107-4f70-95c9-a1f19bd44b99",
   "metadata": {},
   "source": [
    "Define the ticker to be predicted."
   ]
  },
  {
   "cell_type": "code",
   "execution_count": 6,
   "id": "68c8e318-4fb4-49d9-9e83-805392d33ce6",
   "metadata": {},
   "outputs": [],
   "source": [
    "ticker = \"^BCOM\""
   ]
  },
  {
   "cell_type": "markdown",
   "id": "c5049e09-d53e-48f4-9c6a-c7c81b7f89f0",
   "metadata": {},
   "source": [
    "Define the size of the test set."
   ]
  },
  {
   "cell_type": "code",
   "execution_count": 7,
   "id": "52eb0c74-5089-4de4-94b3-291150ef9fe0",
   "metadata": {},
   "outputs": [],
   "source": [
    "test_size = 30"
   ]
  },
  {
   "cell_type": "markdown",
   "id": "d42c1526-d136-43b2-a443-c10ff0b91645",
   "metadata": {},
   "source": [
    "Download the ticker time series from Yahoo! Finance."
   ]
  },
  {
   "cell_type": "code",
   "execution_count": 8,
   "id": "72e56524-3680-4579-965c-57aa4b11af13",
   "metadata": {},
   "outputs": [
    {
     "name": "stderr",
     "output_type": "stream",
     "text": [
      "[*********************100%%**********************]  1 of 1 completed\n"
     ]
    }
   ],
   "source": [
    "dataset = yf.download(ticker, start=\"2022-07-28\", end=\"2024-07-27\")\n",
    "dataset = dataset[[\"Close\"]].rename(columns={\"Close\": ticker})"
   ]
  },
  {
   "cell_type": "code",
   "execution_count": 9,
   "id": "99b7cc3b-d870-45bc-841b-2e96f2cf6b1c",
   "metadata": {},
   "outputs": [
    {
     "data": {
      "text/plain": [
       "(502, 1)"
      ]
     },
     "execution_count": 9,
     "metadata": {},
     "output_type": "execute_result"
    }
   ],
   "source": [
    "dataset.shape"
   ]
  },
  {
   "cell_type": "code",
   "execution_count": 10,
   "id": "dc5d4a0b-2eb7-4903-aadd-448da3dab99e",
   "metadata": {},
   "outputs": [
    {
     "data": {
      "text/html": [
       "<div>\n",
       "<style scoped>\n",
       "    .dataframe tbody tr th:only-of-type {\n",
       "        vertical-align: middle;\n",
       "    }\n",
       "\n",
       "    .dataframe tbody tr th {\n",
       "        vertical-align: top;\n",
       "    }\n",
       "\n",
       "    .dataframe thead th {\n",
       "        text-align: right;\n",
       "    }\n",
       "</style>\n",
       "<table border=\"1\" class=\"dataframe\">\n",
       "  <thead>\n",
       "    <tr style=\"text-align: right;\">\n",
       "      <th></th>\n",
       "      <th>^BCOM</th>\n",
       "    </tr>\n",
       "    <tr>\n",
       "      <th>Date</th>\n",
       "      <th></th>\n",
       "    </tr>\n",
       "  </thead>\n",
       "  <tbody>\n",
       "    <tr>\n",
       "      <th>2022-07-28</th>\n",
       "      <td>120.290001</td>\n",
       "    </tr>\n",
       "    <tr>\n",
       "      <th>2022-07-29</th>\n",
       "      <td>121.830002</td>\n",
       "    </tr>\n",
       "    <tr>\n",
       "      <th>2022-08-01</th>\n",
       "      <td>119.800003</td>\n",
       "    </tr>\n",
       "    <tr>\n",
       "      <th>2022-08-02</th>\n",
       "      <td>117.779999</td>\n",
       "    </tr>\n",
       "    <tr>\n",
       "      <th>2022-08-03</th>\n",
       "      <td>117.870003</td>\n",
       "    </tr>\n",
       "  </tbody>\n",
       "</table>\n",
       "</div>"
      ],
      "text/plain": [
       "                 ^BCOM\n",
       "Date                  \n",
       "2022-07-28  120.290001\n",
       "2022-07-29  121.830002\n",
       "2022-08-01  119.800003\n",
       "2022-08-02  117.779999\n",
       "2022-08-03  117.870003"
      ]
     },
     "execution_count": 10,
     "metadata": {},
     "output_type": "execute_result"
    }
   ],
   "source": [
    "dataset.head()"
   ]
  },
  {
   "cell_type": "code",
   "execution_count": 11,
   "id": "ca5c2556-892b-4368-b76b-28451f7fde55",
   "metadata": {},
   "outputs": [
    {
     "data": {
      "text/html": [
       "<div>\n",
       "<style scoped>\n",
       "    .dataframe tbody tr th:only-of-type {\n",
       "        vertical-align: middle;\n",
       "    }\n",
       "\n",
       "    .dataframe tbody tr th {\n",
       "        vertical-align: top;\n",
       "    }\n",
       "\n",
       "    .dataframe thead th {\n",
       "        text-align: right;\n",
       "    }\n",
       "</style>\n",
       "<table border=\"1\" class=\"dataframe\">\n",
       "  <thead>\n",
       "    <tr style=\"text-align: right;\">\n",
       "      <th></th>\n",
       "      <th>^BCOM</th>\n",
       "    </tr>\n",
       "    <tr>\n",
       "      <th>Date</th>\n",
       "      <th></th>\n",
       "    </tr>\n",
       "  </thead>\n",
       "  <tbody>\n",
       "    <tr>\n",
       "      <th>2024-07-22</th>\n",
       "      <td>98.089996</td>\n",
       "    </tr>\n",
       "    <tr>\n",
       "      <th>2024-07-23</th>\n",
       "      <td>97.489998</td>\n",
       "    </tr>\n",
       "    <tr>\n",
       "      <th>2024-07-24</th>\n",
       "      <td>97.300003</td>\n",
       "    </tr>\n",
       "    <tr>\n",
       "      <th>2024-07-25</th>\n",
       "      <td>96.779999</td>\n",
       "    </tr>\n",
       "    <tr>\n",
       "      <th>2024-07-26</th>\n",
       "      <td>95.959999</td>\n",
       "    </tr>\n",
       "  </tbody>\n",
       "</table>\n",
       "</div>"
      ],
      "text/plain": [
       "                ^BCOM\n",
       "Date                 \n",
       "2024-07-22  98.089996\n",
       "2024-07-23  97.489998\n",
       "2024-07-24  97.300003\n",
       "2024-07-25  96.779999\n",
       "2024-07-26  95.959999"
      ]
     },
     "execution_count": 11,
     "metadata": {},
     "output_type": "execute_result"
    }
   ],
   "source": [
    "dataset.tail()"
   ]
  },
  {
   "cell_type": "markdown",
   "id": "84d916f0-7564-4774-ab75-2d137e3b28b6",
   "metadata": {},
   "source": [
    "Fit the model to the training set."
   ]
  },
  {
   "cell_type": "code",
   "execution_count": 12,
   "id": "1602fe77-203b-475d-84bd-66eff9e3bd92",
   "metadata": {},
   "outputs": [
    {
     "name": "stderr",
     "output_type": "stream",
     "text": [
      "Epoch: 100  Generator Loss: 0.6946  Discriminator Loss: 1.3863: 100%|█| 100/100 \n"
     ]
    }
   ],
   "source": [
    "model = ForGAN(\n",
    "    generator_units=256,\n",
    "    discriminator_units=64,\n",
    "    condition_length=5,\n",
    "    noise_dimension=10,\n",
    "    seed=42\n",
    ")\n",
    "\n",
    "model.fit(\n",
    "    x=dataset.iloc[:- test_size],\n",
    "    learning_rate=0.001,\n",
    "    batch_size=64,\n",
    "    epochs=100,\n",
    ")"
   ]
  },
  {
   "cell_type": "markdown",
   "id": "79ddc012-9845-4856-85b8-55040ca81fef",
   "metadata": {},
   "source": [
    "Generate the one-step-ahead predictions over the test set."
   ]
  },
  {
   "cell_type": "code",
   "execution_count": 13,
   "id": "6b7e5708-1fe5-4adb-88a5-e194d57e6f15",
   "metadata": {},
   "outputs": [],
   "source": [
    "simulations = []\n",
    "for t in reversed(range(1, 1 + test_size)):\n",
    "    simulations.append(model.predict(x=dataset.iloc[:- t], samples=100))\n",
    "simulations = np.concatenate(simulations, axis=0)"
   ]
  },
  {
   "cell_type": "code",
   "execution_count": 14,
   "id": "35e01e9a-e576-43b0-8c83-9006393adbb3",
   "metadata": {},
   "outputs": [
    {
     "data": {
      "text/plain": [
       "(30, 100)"
      ]
     },
     "execution_count": 14,
     "metadata": {},
     "output_type": "execute_result"
    }
   ],
   "source": [
    "simulations.shape"
   ]
  },
  {
   "cell_type": "markdown",
   "id": "5379c15e-7ba8-47fa-b7fd-61ec0897c1f4",
   "metadata": {},
   "source": [
    "Calculate the summary statistics of the one-step-ahead predictions."
   ]
  },
  {
   "cell_type": "code",
   "execution_count": 15,
   "id": "7483b6d0-0233-4823-a628-8f0b97658675",
   "metadata": {},
   "outputs": [],
   "source": [
    "predictions = pd.DataFrame(\n",
    "    data={\n",
    "        \"actual\": dataset.iloc[- test_size:].values.flatten(),\n",
    "        \"median\": np.median(simulations, axis=1),\n",
    "        \"q005\": np.quantile(simulations, 0.005, axis=1),\n",
    "        \"q995\": np.quantile(simulations, 0.995, axis=1),\n",
    "        \"q10\": np.quantile(simulations, 0.10, axis=1),\n",
    "        \"q90\": np.quantile(simulations, 0.90, axis=1),\n",
    "    },\n",
    "    index=dataset.index[-test_size:]\n",
    ")"
   ]
  },
  {
   "cell_type": "code",
   "execution_count": 16,
   "id": "a896168a-574f-4cdc-854d-4b8b1e8aa657",
   "metadata": {},
   "outputs": [
    {
     "data": {
      "text/plain": [
       "(30, 6)"
      ]
     },
     "execution_count": 16,
     "metadata": {},
     "output_type": "execute_result"
    }
   ],
   "source": [
    "predictions.shape"
   ]
  },
  {
   "cell_type": "code",
   "execution_count": 17,
   "id": "fc90a9f2-0f84-4b4a-b595-8f59928d90de",
   "metadata": {},
   "outputs": [
    {
     "data": {
      "text/html": [
       "<div>\n",
       "<style scoped>\n",
       "    .dataframe tbody tr th:only-of-type {\n",
       "        vertical-align: middle;\n",
       "    }\n",
       "\n",
       "    .dataframe tbody tr th {\n",
       "        vertical-align: top;\n",
       "    }\n",
       "\n",
       "    .dataframe thead th {\n",
       "        text-align: right;\n",
       "    }\n",
       "</style>\n",
       "<table border=\"1\" class=\"dataframe\">\n",
       "  <thead>\n",
       "    <tr style=\"text-align: right;\">\n",
       "      <th></th>\n",
       "      <th>actual</th>\n",
       "      <th>median</th>\n",
       "      <th>q005</th>\n",
       "      <th>q995</th>\n",
       "      <th>q10</th>\n",
       "      <th>q90</th>\n",
       "    </tr>\n",
       "    <tr>\n",
       "      <th>Date</th>\n",
       "      <th></th>\n",
       "      <th></th>\n",
       "      <th></th>\n",
       "      <th></th>\n",
       "      <th></th>\n",
       "      <th></th>\n",
       "    </tr>\n",
       "  </thead>\n",
       "  <tbody>\n",
       "    <tr>\n",
       "      <th>2024-06-13</th>\n",
       "      <td>102.779999</td>\n",
       "      <td>102.102178</td>\n",
       "      <td>100.236595</td>\n",
       "      <td>103.397173</td>\n",
       "      <td>101.435913</td>\n",
       "      <td>102.922813</td>\n",
       "    </tr>\n",
       "    <tr>\n",
       "      <th>2024-06-14</th>\n",
       "      <td>102.440002</td>\n",
       "      <td>102.066908</td>\n",
       "      <td>100.201197</td>\n",
       "      <td>103.368702</td>\n",
       "      <td>101.403593</td>\n",
       "      <td>102.887324</td>\n",
       "    </tr>\n",
       "    <tr>\n",
       "      <th>2024-06-17</th>\n",
       "      <td>101.910004</td>\n",
       "      <td>101.986250</td>\n",
       "      <td>100.130282</td>\n",
       "      <td>103.313157</td>\n",
       "      <td>101.320239</td>\n",
       "      <td>102.811359</td>\n",
       "    </tr>\n",
       "    <tr>\n",
       "      <th>2024-06-18</th>\n",
       "      <td>102.730003</td>\n",
       "      <td>101.702275</td>\n",
       "      <td>99.834205</td>\n",
       "      <td>103.044726</td>\n",
       "      <td>101.022665</td>\n",
       "      <td>102.501062</td>\n",
       "    </tr>\n",
       "    <tr>\n",
       "      <th>2024-06-20</th>\n",
       "      <td>102.750000</td>\n",
       "      <td>101.760786</td>\n",
       "      <td>99.901659</td>\n",
       "      <td>103.096894</td>\n",
       "      <td>101.095378</td>\n",
       "      <td>102.570692</td>\n",
       "    </tr>\n",
       "  </tbody>\n",
       "</table>\n",
       "</div>"
      ],
      "text/plain": [
       "                actual      median        q005        q995         q10  \\\n",
       "Date                                                                     \n",
       "2024-06-13  102.779999  102.102178  100.236595  103.397173  101.435913   \n",
       "2024-06-14  102.440002  102.066908  100.201197  103.368702  101.403593   \n",
       "2024-06-17  101.910004  101.986250  100.130282  103.313157  101.320239   \n",
       "2024-06-18  102.730003  101.702275   99.834205  103.044726  101.022665   \n",
       "2024-06-20  102.750000  101.760786   99.901659  103.096894  101.095378   \n",
       "\n",
       "                   q90  \n",
       "Date                    \n",
       "2024-06-13  102.922813  \n",
       "2024-06-14  102.887324  \n",
       "2024-06-17  102.811359  \n",
       "2024-06-18  102.501062  \n",
       "2024-06-20  102.570692  "
      ]
     },
     "execution_count": 17,
     "metadata": {},
     "output_type": "execute_result"
    }
   ],
   "source": [
    "predictions.head()"
   ]
  },
  {
   "cell_type": "code",
   "execution_count": 18,
   "id": "0057463f-dadf-4d52-9366-71fa25afb798",
   "metadata": {},
   "outputs": [
    {
     "data": {
      "text/html": [
       "<div>\n",
       "<style scoped>\n",
       "    .dataframe tbody tr th:only-of-type {\n",
       "        vertical-align: middle;\n",
       "    }\n",
       "\n",
       "    .dataframe tbody tr th {\n",
       "        vertical-align: top;\n",
       "    }\n",
       "\n",
       "    .dataframe thead th {\n",
       "        text-align: right;\n",
       "    }\n",
       "</style>\n",
       "<table border=\"1\" class=\"dataframe\">\n",
       "  <thead>\n",
       "    <tr style=\"text-align: right;\">\n",
       "      <th></th>\n",
       "      <th>actual</th>\n",
       "      <th>median</th>\n",
       "      <th>q005</th>\n",
       "      <th>q995</th>\n",
       "      <th>q10</th>\n",
       "      <th>q90</th>\n",
       "    </tr>\n",
       "    <tr>\n",
       "      <th>Date</th>\n",
       "      <th></th>\n",
       "      <th></th>\n",
       "      <th></th>\n",
       "      <th></th>\n",
       "      <th></th>\n",
       "      <th></th>\n",
       "    </tr>\n",
       "  </thead>\n",
       "  <tbody>\n",
       "    <tr>\n",
       "      <th>2024-07-22</th>\n",
       "      <td>98.089996</td>\n",
       "      <td>97.912624</td>\n",
       "      <td>96.149827</td>\n",
       "      <td>99.018507</td>\n",
       "      <td>97.293636</td>\n",
       "      <td>98.715515</td>\n",
       "    </tr>\n",
       "    <tr>\n",
       "      <th>2024-07-23</th>\n",
       "      <td>97.489998</td>\n",
       "      <td>97.630732</td>\n",
       "      <td>95.892915</td>\n",
       "      <td>98.707022</td>\n",
       "      <td>97.033902</td>\n",
       "      <td>98.393749</td>\n",
       "    </tr>\n",
       "    <tr>\n",
       "      <th>2024-07-24</th>\n",
       "      <td>97.300003</td>\n",
       "      <td>97.252648</td>\n",
       "      <td>95.545136</td>\n",
       "      <td>98.294886</td>\n",
       "      <td>96.677191</td>\n",
       "      <td>97.964342</td>\n",
       "    </tr>\n",
       "    <tr>\n",
       "      <th>2024-07-25</th>\n",
       "      <td>96.779999</td>\n",
       "      <td>96.974162</td>\n",
       "      <td>95.281246</td>\n",
       "      <td>97.983513</td>\n",
       "      <td>96.419222</td>\n",
       "      <td>97.647170</td>\n",
       "    </tr>\n",
       "    <tr>\n",
       "      <th>2024-07-26</th>\n",
       "      <td>95.959999</td>\n",
       "      <td>96.583190</td>\n",
       "      <td>94.925063</td>\n",
       "      <td>97.557366</td>\n",
       "      <td>96.033175</td>\n",
       "      <td>97.228500</td>\n",
       "    </tr>\n",
       "  </tbody>\n",
       "</table>\n",
       "</div>"
      ],
      "text/plain": [
       "               actual     median       q005       q995        q10        q90\n",
       "Date                                                                        \n",
       "2024-07-22  98.089996  97.912624  96.149827  99.018507  97.293636  98.715515\n",
       "2024-07-23  97.489998  97.630732  95.892915  98.707022  97.033902  98.393749\n",
       "2024-07-24  97.300003  97.252648  95.545136  98.294886  96.677191  97.964342\n",
       "2024-07-25  96.779999  96.974162  95.281246  97.983513  96.419222  97.647170\n",
       "2024-07-26  95.959999  96.583190  94.925063  97.557366  96.033175  97.228500"
      ]
     },
     "execution_count": 18,
     "metadata": {},
     "output_type": "execute_result"
    }
   ],
   "source": [
    "predictions.tail()"
   ]
  },
  {
   "cell_type": "markdown",
   "id": "c1733bfe-45c9-4f84-b9a5-c73f9212e660",
   "metadata": {},
   "source": [
    "Calculate the performance metrics of the one-step-ahead predictions."
   ]
  },
  {
   "cell_type": "code",
   "execution_count": 19,
   "id": "ea81244d-df78-46a9-a2b2-5ade27888036",
   "metadata": {},
   "outputs": [],
   "source": [
    "metrics = pd.DataFrame(\n",
    "    columns=[\"Metric\", \"Value\"],\n",
    "    data=[\n",
    "        {\"Metric\": \"RMSE\", \"Value\": format(root_mean_squared_error(y_true=predictions[\"actual\"], y_pred=predictions[\"median\"]), \".4f\")},\n",
    "        {\"Metric\": \"MAE\", \"Value\": format(mean_absolute_error(y_true=predictions[\"actual\"], y_pred=predictions[\"median\"]), \".4f\")},\n",
    "        {\"Metric\": \"MAPE\", \"Value\": format(mean_absolute_percentage_error(y_true=predictions[\"actual\"], y_pred=predictions[\"median\"]), \".4f\")},\n",
    "    ]\n",
    ")"
   ]
  },
  {
   "cell_type": "code",
   "execution_count": 20,
   "id": "aea2b5c1-acc1-4b22-8ccb-73a7438e0a7f",
   "metadata": {},
   "outputs": [
    {
     "data": {
      "text/html": [
       "<div>\n",
       "<style scoped>\n",
       "    .dataframe tbody tr th:only-of-type {\n",
       "        vertical-align: middle;\n",
       "    }\n",
       "\n",
       "    .dataframe tbody tr th {\n",
       "        vertical-align: top;\n",
       "    }\n",
       "\n",
       "    .dataframe thead th {\n",
       "        text-align: right;\n",
       "    }\n",
       "</style>\n",
       "<table border=\"1\" class=\"dataframe\">\n",
       "  <thead>\n",
       "    <tr style=\"text-align: right;\">\n",
       "      <th></th>\n",
       "      <th>Metric</th>\n",
       "      <th>Value</th>\n",
       "    </tr>\n",
       "  </thead>\n",
       "  <tbody>\n",
       "    <tr>\n",
       "      <th>0</th>\n",
       "      <td>RMSE</td>\n",
       "      <td>0.6930</td>\n",
       "    </tr>\n",
       "    <tr>\n",
       "      <th>1</th>\n",
       "      <td>MAE</td>\n",
       "      <td>0.5081</td>\n",
       "    </tr>\n",
       "    <tr>\n",
       "      <th>2</th>\n",
       "      <td>MAPE</td>\n",
       "      <td>0.0050</td>\n",
       "    </tr>\n",
       "  </tbody>\n",
       "</table>\n",
       "</div>"
      ],
      "text/plain": [
       "  Metric   Value\n",
       "0   RMSE  0.6930\n",
       "1    MAE  0.5081\n",
       "2   MAPE  0.0050"
      ]
     },
     "execution_count": 20,
     "metadata": {},
     "output_type": "execute_result"
    }
   ],
   "source": [
    "metrics"
   ]
  },
  {
   "cell_type": "markdown",
   "id": "b08d8972-a563-46fb-a3e5-c116d8add33c",
   "metadata": {},
   "source": [
    "Visualize the one-step-ahead predictions."
   ]
  },
  {
   "cell_type": "code",
   "execution_count": 21,
   "id": "c17400ea-c4f9-49e9-a815-0cef888a9c32",
   "metadata": {},
   "outputs": [
    {
     "data": {
      "image/png": "[encoded data removed]",
      "text/plain": [
       "<Figure size 800x400 with 1 Axes>"
      ]
     },
     "metadata": {},
     "output_type": "display_data"
    }
   ],
   "source": [
    "plt.subplots(figsize=(8, 4))\n",
    "plt.plot(predictions.index, predictions[\"actual\"], lw=1, color=\"#7f8ea3\", label=\"Actual\")\n",
    "plt.plot(predictions.index, predictions[\"median\"], lw=1, color=\"#009ad3\", label=\"Forecast\")\n",
    "plt.fill_between(predictions.index, predictions[\"q005\"], predictions[\"q995\"], color=\"#009ad3\", alpha=0.1, label=\"99% Forecast Interval\")\n",
    "plt.fill_between(predictions.index, predictions[\"q10\"], predictions[\"q90\"], color=\"#009ad3\", alpha=0.2, label=\"80% Forecast Interval\")\n",
    "plt.xticks(fontsize=7)\n",
    "plt.yticks(fontsize=7)\n",
    "plt.legend(frameon=False, fontsize=8)\n",
    "plt.show()"
   ]
  }
 ],
 "metadata": {
  "kernelspec": {
   "display_name": "Python 3 (ipykernel)",
   "language": "python",
   "name": "python3"
  },
  "language_info": {
   "codemirror_mode": {
    "name": "ipython",
    "version": 3
   },
   "file_extension": ".py",
   "mimetype": "text/x-python",
   "name": "python",
   "nbconvert_exporter": "python",
   "pygments_lexer": "ipython3",
   "version": "3.10.11"
  }
 },
 "nbformat": 4,
 "nbformat_minor": 5
}

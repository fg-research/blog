{
 "cells": [
  {
   "cell_type": "markdown",
   "id": "810bac81-52a7-4a1d-93cb-8e0d73935efb",
   "metadata": {},
   "source": [
    "# Forecasting US Inflation with Random Forests\n",
    "\n",
    "**Paper:** https://doi.org/10.1080/07350015.2019.1637745"
   ]
  },
  {
   "cell_type": "markdown",
   "id": "603922c1-8d0d-4410-92a6-e5250ab0e9cf",
   "metadata": {},
   "source": [
    "Import the dependencies."
   ]
  },
  {
   "cell_type": "code",
   "execution_count": 1,
   "id": "bbd81a89-7a11-4786-9374-4f138f51fa03",
   "metadata": {},
   "outputs": [],
   "source": [
    "import warnings\n",
    "warnings.filterwarnings(\"ignore\")\n",
    "\n",
    "import pandas as pd\n",
    "import numpy as np\n",
    "import matplotlib.pyplot as plt\n",
    "from tqdm import tqdm\n",
    "from sklearn.linear_model import LinearRegression\n",
    "from sklearn.ensemble import RandomForestRegressor\n",
    "from sklearn.preprocessing import StandardScaler\n",
    "from sklearn.decomposition import PCA\n",
    "from sklearn.pipeline import Pipeline\n",
    "from sklearn.metrics import root_mean_squared_error, mean_absolute_error"
   ]
  },
  {
   "cell_type": "markdown",
   "id": "e241648d-47fe-40a3-a164-c27bdb404eea",
   "metadata": {},
   "source": [
    "Define a function for transforming the time series."
   ]
  },
  {
   "cell_type": "code",
   "execution_count": 2,
   "id": "8c9a3c43-c97c-4c60-909d-0904b3127e65",
   "metadata": {},
   "outputs": [],
   "source": [
    "def transform_series(x, tcode):\n",
    "    '''\n",
    "    Transform the time series.\n",
    "\n",
    "    Parameters:\n",
    "    ______________________________________________________________\n",
    "    x: pandas.Series\n",
    "        Time series.\n",
    "\n",
    "    tcode: int.\n",
    "        Transformation code.\n",
    "    '''\n",
    "    \n",
    "    if tcode == 1:\n",
    "        return x\n",
    "    elif tcode == 2:\n",
    "        return x.diff()\n",
    "    elif tcode == 3:\n",
    "        return x.diff().diff()\n",
    "    elif tcode == 4:\n",
    "        return np.log(x)\n",
    "    elif tcode == 5:\n",
    "        return np.log(x).diff()\n",
    "    elif tcode == 6:\n",
    "        return np.log(x).diff().diff()\n",
    "    elif tcode == 7:\n",
    "        return x.pct_change()\n",
    "    else:\n",
    "        raise ValueError(f\"unknown `tcode` {tcode}\")"
   ]
  },
  {
   "cell_type": "markdown",
   "id": "9870c6ed-ca6b-4945-8d40-54437e3e0c16",
   "metadata": {},
   "source": [
    "Define a function for downloading and processing the data."
   ]
  },
  {
   "cell_type": "code",
   "execution_count": 3,
   "id": "da6755ae-2833-4277-a4e0-daf441af4f87",
   "metadata": {},
   "outputs": [],
   "source": [
    "def get_data(date, target_name, target_tcode, n_lags, n_components):\n",
    "    '''\n",
    "    Download and process the data.\n",
    "\n",
    "    Parameters:\n",
    "    ______________________________________________________________\n",
    "    date: pandas.Timestamp.\n",
    "        The date of the dataset vintage.\n",
    "\n",
    "    target_name: string.\n",
    "        The name of the target time series.\n",
    "\n",
    "    target_tcode: int.\n",
    "        The transformation code of the target time series.\n",
    "\n",
    "    n_lags: int.\n",
    "        The number of autoregressive lags.\n",
    "\n",
    "    n_components: int.\n",
    "        The number of principal components.\n",
    "\n",
    "    Returns:\n",
    "    ______________________________________________________________\n",
    "    train_data: pandas.DataFrame.\n",
    "        The training dataset.\n",
    "    \n",
    "    test_data: pandas.DataFrame.\n",
    "        The features needed for generating the one-month-ahead forecasts. \n",
    "    '''\n",
    "    \n",
    "    # get the dataset URL\n",
    "    file = f\"https://files.stlouisfed.org/files/htdocs/fred-md/monthly/{date.year}-{format(date.month, '02d')}.csv\"\n",
    "    \n",
    "    # get the time series\n",
    "    data = pd.read_csv(file, skiprows=[1], index_col=0)\n",
    "    data.columns = [c.upper() for c in data.columns]\n",
    "    \n",
    "    # process the dates\n",
    "    data = data.loc[pd.notna(data.index), :]\n",
    "    data.index = pd.date_range(start=\"1959-01-01\", freq=\"MS\", periods=len(data))\n",
    "\n",
    "    # get the transformation codes\n",
    "    tcodes = pd.read_csv(file, nrows=1, index_col=0)\n",
    "    tcodes.columns = [c.upper() for c in tcodes.columns]\n",
    "    \n",
    "    # override the target's transformation code\n",
    "    tcodes[target_name] = target_tcode\n",
    "\n",
    "    # transform the time series\n",
    "    data = data.apply(lambda x: transform_series(x, tcodes[x.name].item()))\n",
    "\n",
    "    # select the data after January 1960\n",
    "    data = data[data.index >= pd.Timestamp(\"1960-01-01\")]\n",
    "    \n",
    "    # drop the incomplete time series\n",
    "    data = data.loc[:, data.isna().sum() == 0]\n",
    "\n",
    "    # add the principal components\n",
    "    pca = Pipeline([(\"scaling\", StandardScaler()), (\"decomposition\", PCA(n_components=n_components))])\n",
    "    data[[f\"PC{i}\" for i in range(1, 1 + n_components)]] = pca.fit_transform(data)\n",
    "    \n",
    "    # extract the training data\n",
    "    train_data = data[[target_name]].join(data.shift(periods=list(range(1, 1 + n_lags)), suffix=\"_LAG\")).iloc[n_lags:]\n",
    "    \n",
    "    # extract the test data\n",
    "    test_data = data.shift(periods=list(range(0, n_lags)), suffix=\"_LAG\").iloc[-1:]\n",
    "    test_data.columns = [c.split(\"_LAG_\")[0] + \"_LAG_\" + str(int(c.split(\"_LAG_\")[1]) + 1) for c in test_data.columns]\n",
    "    test_data.index += pd.offsets.MonthBegin(1)\n",
    "    \n",
    "    return train_data, test_data"
   ]
  },
  {
   "cell_type": "markdown",
   "id": "5b16f86b-d80d-477a-a4ec-d44f27f792e8",
   "metadata": {},
   "source": [
    "Define a function for extracting the target values from a range of dataset vintages."
   ]
  },
  {
   "cell_type": "code",
   "execution_count": 4,
   "id": "c61d8931-9c0f-4ed1-abf8-170149aa7640",
   "metadata": {},
   "outputs": [],
   "source": [
    "def get_target(start_date, end_date, target_name, target_tcode):\n",
    "    '''\n",
    "    Extract the target time series from a range of dataset vintages.\n",
    "\n",
    "    Parameters:\n",
    "    ______________________________________________________________\n",
    "    start_date: pandas.Timestamp.\n",
    "        The date of the first vintage.\n",
    "\n",
    "    end_date: pandas.Timestamp.\n",
    "        The date of the last vintage.\n",
    "\n",
    "    target_name: str.\n",
    "        The name of the target time series.\n",
    "\n",
    "    target_tcode: int.\n",
    "        The transformation code of the target time series.\n",
    "    '''\n",
    "\n",
    "    # create a data frame for storing the target values\n",
    "    target = pd.DataFrame()\n",
    "    \n",
    "    # loop across the dataset vintages\n",
    "    for date in tqdm(pd.date_range(start=start_date, end=end_date, freq=\"MS\")):\n",
    "        \n",
    "        # get the dataset URL\n",
    "        file = f\"https://files.stlouisfed.org/files/htdocs/fred-md/monthly/{date.year}-{format(date.month, '02d')}.csv\"\n",
    "        \n",
    "        # get the time series\n",
    "        data = pd.read_csv(file, skiprows=[1], index_col=0)\n",
    "        data.columns = [c.upper() for c in data.columns]\n",
    "\n",
    "        # process the dates\n",
    "        data = data.loc[pd.notna(data.index), :]\n",
    "        data.index = pd.date_range(start=\"1959-01-01\", freq=\"MS\", periods=len(data))\n",
    "        \n",
    "        # select the target time series\n",
    "        data = data[[target_name]]\n",
    "        \n",
    "        # transform the target time series\n",
    "        data[target_name] = transform_series(data[target_name], target_tcode)\n",
    "        \n",
    "        # select the last value and save it in the data frame\n",
    "        target = pd.concat([target, data.iloc[-1:]], axis=0)\n",
    "\n",
    "    return target"
   ]
  },
  {
   "cell_type": "markdown",
   "id": "82971d63-0fc0-4ceb-885e-ec0f90cdf2f5",
   "metadata": {},
   "source": [
    "Define a function for generating the forecasts over a range of dataset vintages."
   ]
  },
  {
   "cell_type": "code",
   "execution_count": 5,
   "id": "020c50e3-af44-4cfd-b2b9-17ab30de3b56",
   "metadata": {},
   "outputs": [],
   "source": [
    "def get_forecasts(params, start_date, end_date, target_name, target_tcode, n_lags, n_components):\n",
    "    '''\n",
    "    Generate the forecasts over a range of dataset vintages.\n",
    "\n",
    "    Parameters:\n",
    "    ______________________________________________________________\n",
    "    params: dict.\n",
    "        The random forest hyperparameters.\n",
    "        \n",
    "    start_date: pd.Timestamp.\n",
    "        The date of the first vintage.\n",
    "\n",
    "    end_date: pd.Timestamp.\n",
    "        The date of the last vintage.\n",
    "\n",
    "    target_name: str.\n",
    "        The name of the target time series.\n",
    "\n",
    "    target_tcode: int.\n",
    "        The transformation code of the target time series.\n",
    "\n",
    "    n_lags: int.\n",
    "        The number of autoregressive lags.\n",
    "\n",
    "    n_components: int.\n",
    "        The number of principal components.\n",
    "    '''\n",
    "\n",
    "    # create a list for storing the forecasts\n",
    "    forecasts = [] \n",
    "    \n",
    "    # loop across the dataset vintages\n",
    "    for date in tqdm(pd.date_range(start=start_date, end=end_date, freq=\"MS\")):\n",
    "        \n",
    "        # get the data\n",
    "        train_dataset, test_dataset = get_data(date, target_name, target_tcode, n_lags, n_components)\n",
    "\n",
    "        # generate the forecasts\n",
    "        forecasts.append(pd.DataFrame({\n",
    "            \"RF\": run_random_forest_model(params, train_dataset, test_dataset, target_name),\n",
    "            \"AR\": run_autoregressive_model(train_dataset, test_dataset, target_name, n_lags),\n",
    "        }))\n",
    "\n",
    "    # concatenate the forecasts in a data frame\n",
    "    forecasts = pd.concat(forecasts, axis=0)\n",
    "    \n",
    "    return forecasts"
   ]
  },
  {
   "cell_type": "markdown",
   "id": "e1f29293-1f9d-4e3f-8750-3af7139c8310",
   "metadata": {},
   "source": [
    "Define a function for training the random forest model and generating the forecasts."
   ]
  },
  {
   "cell_type": "code",
   "execution_count": 6,
   "id": "9e401698-d0bb-409f-b515-3805d97fe6d6",
   "metadata": {},
   "outputs": [],
   "source": [
    "def run_random_forest_model(params, train_dataset, test_dataset, target_name):\n",
    "    '''\n",
    "    Run the random forest model.\n",
    "\n",
    "    Parameters:\n",
    "    ______________________________________________________________\n",
    "    params: dict.\n",
    "        The random forest hyperparameters.\n",
    " \n",
    "    train_dataset: pandas.DataFrame.\n",
    "        Training dataset.\n",
    "\n",
    "    test_dataset: pandas.DataFrame.\n",
    "        Test dataset.\n",
    "\n",
    "    target_name: str.\n",
    "        The name of the target time series.\n",
    "    '''\n",
    "        \n",
    "    # instantiate the model\n",
    "    model = RandomForestRegressor(**params)\n",
    "    \n",
    "    # fit the model to the training set\n",
    "    model.fit(\n",
    "        X=train_dataset.drop(labels=[target_name], axis=1),\n",
    "        y=train_dataset[target_name]\n",
    "    )\n",
    "    \n",
    "    # generate the forecasts over the test set\n",
    "    return pd.Series(\n",
    "        data=model.predict(X=test_dataset),\n",
    "        index=test_dataset.index\n",
    "    )"
   ]
  },
  {
   "cell_type": "markdown",
   "id": "ab7d7747-e6c7-4c2d-9e5d-06d8ec2a8fd2",
   "metadata": {},
   "source": [
    "Define a function for training the autoregressive model and generating the forecasts."
   ]
  },
  {
   "cell_type": "code",
   "execution_count": 7,
   "id": "5489e71a-151b-46d9-b376-fa9a57847eed",
   "metadata": {},
   "outputs": [],
   "source": [
    "def run_autoregressive_model(train_dataset, test_dataset, target_name, n_lags):\n",
    "    '''\n",
    "    Run the autoregressive model.\n",
    "\n",
    "    Parameters:\n",
    "    ______________________________________________________________\n",
    "    train_dataset: pandas.DataFrame.\n",
    "        Training dataset.\n",
    "\n",
    "    test_dataset: pandas.DataFrame.\n",
    "        Test dataset.\n",
    "\n",
    "    target_name: str.\n",
    "        The name of the target time series.\n",
    "    \n",
    "    n_lags: int.\n",
    "        The number of autoregressive lags.\n",
    "    '''\n",
    "    \n",
    "    # instantiate the model\n",
    "    model = LinearRegression(fit_intercept=True)\n",
    "    \n",
    "    # fit the model to the training set\n",
    "    model.fit(\n",
    "        X=train_dataset[[f\"{target_name}_LAG_{i}\" for i in range(1, n_lags + 1)]],\n",
    "        y=train_dataset[target_name]\n",
    "    )\n",
    "    \n",
    "    # generate the forecasts over the test set\n",
    "    return pd.Series(\n",
    "        data=model.predict(X=test_dataset[[f\"{target_name}_LAG_{i}\" for i in range(1, n_lags + 1)]]),\n",
    "        index=test_dataset.index\n",
    "    )"
   ]
  },
  {
   "cell_type": "markdown",
   "id": "61288363-e971-421c-955d-dd5afcdb4c64",
   "metadata": {},
   "source": [
    "Define the target name."
   ]
  },
  {
   "cell_type": "code",
   "execution_count": 8,
   "id": "4728cbd0-5d6e-49f9-93d2-589f2769608e",
   "metadata": {},
   "outputs": [],
   "source": [
    "target_name = \"CPIAUCSL\""
   ]
  },
  {
   "cell_type": "markdown",
   "id": "cfe1f8dd-9888-4ecf-8f14-d2107b1c64b8",
   "metadata": {},
   "source": [
    "Define the target transformation code."
   ]
  },
  {
   "cell_type": "code",
   "execution_count": 9,
   "id": "b9b4c266-2f90-49fd-84dd-4d6293f6a92f",
   "metadata": {},
   "outputs": [],
   "source": [
    "target_tcode = 5"
   ]
  },
  {
   "cell_type": "markdown",
   "id": "bacb7ab8-d898-416a-b4bd-0f9789bb2c0d",
   "metadata": {},
   "source": [
    "Define the start date of the forecasts."
   ]
  },
  {
   "cell_type": "code",
   "execution_count": 10,
   "id": "d9b4110a-ca56-4c70-8b62-ca5eb170b429",
   "metadata": {},
   "outputs": [],
   "source": [
    "start_date = pd.Timestamp(\"2023-02-01\")"
   ]
  },
  {
   "cell_type": "markdown",
   "id": "b3e4ea26-97a4-4f6d-b975-95fbb4c9e987",
   "metadata": {},
   "source": [
    "Define the end date of the forecasts."
   ]
  },
  {
   "cell_type": "code",
   "execution_count": 11,
   "id": "b83a30de-1671-47c9-89b6-c418a4b46329",
   "metadata": {},
   "outputs": [],
   "source": [
    "end_date = pd.Timestamp(\"2024-01-01\")"
   ]
  },
  {
   "cell_type": "markdown",
   "id": "605db786-c70c-441d-96e5-6a8c78050b88",
   "metadata": {},
   "source": [
    "Generate the forecasts."
   ]
  },
  {
   "cell_type": "code",
   "execution_count": 12,
   "id": "837ca83e-2529-477a-a682-3b03ee35f166",
   "metadata": {},
   "outputs": [
    {
     "name": "stderr",
     "output_type": "stream",
     "text": [
      "100%|███████████████████████████████████████████| 12/12 [00:58<00:00,  4.89s/it]\n"
     ]
    }
   ],
   "source": [
    "forecasts = get_forecasts(\n",
    "    params={\n",
    "        \"n_estimators\": 500,\n",
    "        \"max_features\": 1 / 3,\n",
    "        \"min_samples_leaf\": 5,\n",
    "        \"random_state\": 42,\n",
    "        \"n_jobs\": -1\n",
    "    }, \n",
    "    start_date=start_date, \n",
    "    end_date=end_date, \n",
    "    target_name=target_name, \n",
    "    target_tcode=target_tcode,\n",
    "    n_lags=4,\n",
    "    n_components=4\n",
    ")"
   ]
  },
  {
   "cell_type": "code",
   "execution_count": 13,
   "id": "52a46c78-8157-426f-b75e-05a949c3cad0",
   "metadata": {},
   "outputs": [
    {
     "data": {
      "text/html": [
       "<div>\n",
       "<style scoped>\n",
       "    .dataframe tbody tr th:only-of-type {\n",
       "        vertical-align: middle;\n",
       "    }\n",
       "\n",
       "    .dataframe tbody tr th {\n",
       "        vertical-align: top;\n",
       "    }\n",
       "\n",
       "    .dataframe thead th {\n",
       "        text-align: right;\n",
       "    }\n",
       "</style>\n",
       "<table border=\"1\" class=\"dataframe\">\n",
       "  <thead>\n",
       "    <tr style=\"text-align: right;\">\n",
       "      <th></th>\n",
       "      <th>RF</th>\n",
       "      <th>AR</th>\n",
       "    </tr>\n",
       "  </thead>\n",
       "  <tbody>\n",
       "    <tr>\n",
       "      <th>2023-02-01</th>\n",
       "      <td>0.003862</td>\n",
       "      <td>0.004338</td>\n",
       "    </tr>\n",
       "    <tr>\n",
       "      <th>2023-03-01</th>\n",
       "      <td>0.002753</td>\n",
       "      <td>0.003232</td>\n",
       "    </tr>\n",
       "    <tr>\n",
       "      <th>2023-04-01</th>\n",
       "      <td>0.002187</td>\n",
       "      <td>0.001589</td>\n",
       "    </tr>\n",
       "    <tr>\n",
       "      <th>2023-05-01</th>\n",
       "      <td>0.003770</td>\n",
       "      <td>0.003659</td>\n",
       "    </tr>\n",
       "    <tr>\n",
       "      <th>2023-06-01</th>\n",
       "      <td>0.002000</td>\n",
       "      <td>0.002137</td>\n",
       "    </tr>\n",
       "    <tr>\n",
       "      <th>2023-07-01</th>\n",
       "      <td>0.003717</td>\n",
       "      <td>0.001967</td>\n",
       "    </tr>\n",
       "    <tr>\n",
       "      <th>2023-08-01</th>\n",
       "      <td>0.003591</td>\n",
       "      <td>0.002312</td>\n",
       "    </tr>\n",
       "    <tr>\n",
       "      <th>2023-09-01</th>\n",
       "      <td>0.005244</td>\n",
       "      <td>0.004320</td>\n",
       "    </tr>\n",
       "    <tr>\n",
       "      <th>2023-10-01</th>\n",
       "      <td>0.002742</td>\n",
       "      <td>0.003381</td>\n",
       "    </tr>\n",
       "    <tr>\n",
       "      <th>2023-11-01</th>\n",
       "      <td>0.001280</td>\n",
       "      <td>0.001676</td>\n",
       "    </tr>\n",
       "    <tr>\n",
       "      <th>2023-12-01</th>\n",
       "      <td>0.002824</td>\n",
       "      <td>0.002465</td>\n",
       "    </tr>\n",
       "    <tr>\n",
       "      <th>2024-01-01</th>\n",
       "      <td>0.004267</td>\n",
       "      <td>0.002998</td>\n",
       "    </tr>\n",
       "  </tbody>\n",
       "</table>\n",
       "</div>"
      ],
      "text/plain": [
       "                  RF        AR\n",
       "2023-02-01  0.003862  0.004338\n",
       "2023-03-01  0.002753  0.003232\n",
       "2023-04-01  0.002187  0.001589\n",
       "2023-05-01  0.003770  0.003659\n",
       "2023-06-01  0.002000  0.002137\n",
       "2023-07-01  0.003717  0.001967\n",
       "2023-08-01  0.003591  0.002312\n",
       "2023-09-01  0.005244  0.004320\n",
       "2023-10-01  0.002742  0.003381\n",
       "2023-11-01  0.001280  0.001676\n",
       "2023-12-01  0.002824  0.002465\n",
       "2024-01-01  0.004267  0.002998"
      ]
     },
     "execution_count": 13,
     "metadata": {},
     "output_type": "execute_result"
    }
   ],
   "source": [
    "forecasts"
   ]
  },
  {
   "cell_type": "markdown",
   "id": "7f28c54f-d0d0-40a7-b469-4738c39033f0",
   "metadata": {},
   "source": [
    "Get the actual target values."
   ]
  },
  {
   "cell_type": "code",
   "execution_count": 14,
   "id": "8cf65e1e-6f65-4437-8475-f546498418a1",
   "metadata": {},
   "outputs": [
    {
     "name": "stderr",
     "output_type": "stream",
     "text": [
      "100%|███████████████████████████████████████████| 12/12 [00:07<00:00,  1.70it/s]\n"
     ]
    }
   ],
   "source": [
    "targets = get_target(\n",
    "    start_date=start_date + pd.offsets.MonthBegin(1), \n",
    "    end_date=end_date + pd.offsets.MonthBegin(1), \n",
    "    target_name=target_name, \n",
    "    target_tcode=target_tcode,\n",
    ")"
   ]
  },
  {
   "cell_type": "code",
   "execution_count": 15,
   "id": "4547fd0b-1a70-4f36-ac65-fb1b29fbcac6",
   "metadata": {},
   "outputs": [
    {
     "data": {
      "text/html": [
       "<div>\n",
       "<style scoped>\n",
       "    .dataframe tbody tr th:only-of-type {\n",
       "        vertical-align: middle;\n",
       "    }\n",
       "\n",
       "    .dataframe tbody tr th {\n",
       "        vertical-align: top;\n",
       "    }\n",
       "\n",
       "    .dataframe thead th {\n",
       "        text-align: right;\n",
       "    }\n",
       "</style>\n",
       "<table border=\"1\" class=\"dataframe\">\n",
       "  <thead>\n",
       "    <tr style=\"text-align: right;\">\n",
       "      <th></th>\n",
       "      <th>CPIAUCSL</th>\n",
       "    </tr>\n",
       "  </thead>\n",
       "  <tbody>\n",
       "    <tr>\n",
       "      <th>2023-02-01</th>\n",
       "      <td>0.003693</td>\n",
       "    </tr>\n",
       "    <tr>\n",
       "      <th>2023-03-01</th>\n",
       "      <td>0.000530</td>\n",
       "    </tr>\n",
       "    <tr>\n",
       "      <th>2023-04-01</th>\n",
       "      <td>0.003671</td>\n",
       "    </tr>\n",
       "    <tr>\n",
       "      <th>2023-05-01</th>\n",
       "      <td>0.001240</td>\n",
       "    </tr>\n",
       "    <tr>\n",
       "      <th>2023-06-01</th>\n",
       "      <td>0.001802</td>\n",
       "    </tr>\n",
       "    <tr>\n",
       "      <th>2023-07-01</th>\n",
       "      <td>0.001667</td>\n",
       "    </tr>\n",
       "    <tr>\n",
       "      <th>2023-08-01</th>\n",
       "      <td>0.006292</td>\n",
       "    </tr>\n",
       "    <tr>\n",
       "      <th>2023-09-01</th>\n",
       "      <td>0.003949</td>\n",
       "    </tr>\n",
       "    <tr>\n",
       "      <th>2023-10-01</th>\n",
       "      <td>0.000449</td>\n",
       "    </tr>\n",
       "    <tr>\n",
       "      <th>2023-11-01</th>\n",
       "      <td>0.000968</td>\n",
       "    </tr>\n",
       "    <tr>\n",
       "      <th>2023-12-01</th>\n",
       "      <td>0.003025</td>\n",
       "    </tr>\n",
       "    <tr>\n",
       "      <th>2024-01-01</th>\n",
       "      <td>0.003050</td>\n",
       "    </tr>\n",
       "  </tbody>\n",
       "</table>\n",
       "</div>"
      ],
      "text/plain": [
       "            CPIAUCSL\n",
       "2023-02-01  0.003693\n",
       "2023-03-01  0.000530\n",
       "2023-04-01  0.003671\n",
       "2023-05-01  0.001240\n",
       "2023-06-01  0.001802\n",
       "2023-07-01  0.001667\n",
       "2023-08-01  0.006292\n",
       "2023-09-01  0.003949\n",
       "2023-10-01  0.000449\n",
       "2023-11-01  0.000968\n",
       "2023-12-01  0.003025\n",
       "2024-01-01  0.003050"
      ]
     },
     "execution_count": 15,
     "metadata": {},
     "output_type": "execute_result"
    }
   ],
   "source": [
    "targets"
   ]
  },
  {
   "cell_type": "markdown",
   "id": "a085cb65-e62f-4d42-9be9-2397eb314a36",
   "metadata": {},
   "source": [
    "Visualize the forecasts."
   ]
  },
  {
   "cell_type": "code",
   "execution_count": 16,
   "id": "c14951fa-fdb9-415d-beda-9744e9028bca",
   "metadata": {},
   "outputs": [
    {
     "data": {
      "image/png": "[encoded data removed]",
      "text/plain": [
       "<Figure size 700x400 with 1 Axes>"
      ]
     },
     "metadata": {},
     "output_type": "display_data"
    }
   ],
   "source": [
    "plt.subplots(figsize=(7, 4))\n",
    "plt.plot(targets[target_name], \"-o\", color=\"#AFB8C1\", lw=1, markersize=3, label=\"Actual\")\n",
    "plt.plot(forecasts[\"RF\"], \"-o\", color=\"#000000\", lw=1, markersize=3, label=\"RF\")\n",
    "plt.plot(forecasts[\"AR\"], \"o--\", color=\"#fb8f44\", lw=1, markersize=3, label=\"AR\")\n",
    "plt.tick_params(axis=\"both\", which=\"major\", labelsize=7)\n",
    "plt.tick_params(axis=\"both\", which=\"minor\", labelsize=7)\n",
    "plt.legend(bbox_to_anchor=(1, 0, 0, 1), frameon=False, prop={\"size\": 9})\n",
    "plt.title(target_name, size=10)\n",
    "plt.tight_layout()\n",
    "plt.show()"
   ]
  },
  {
   "cell_type": "markdown",
   "id": "e66abf13-aa04-4dec-b0cc-ef79869f085b",
   "metadata": {},
   "source": [
    "Calculate the forecast errors."
   ]
  },
  {
   "cell_type": "code",
   "execution_count": 17,
   "id": "2a1b9dca-0791-4b9f-b9bc-c35807c1a0a7",
   "metadata": {},
   "outputs": [],
   "source": [
    "errors = pd.DataFrame(\n",
    "    data={\n",
    "        \"RF\": [\n",
    "            root_mean_squared_error(y_true=targets[target_name], y_pred=forecasts[\"RF\"]),\n",
    "            mean_absolute_error(y_true=targets[target_name], y_pred=forecasts[\"RF\"]),\n",
    "        ],\n",
    "        \"AR\": [\n",
    "            root_mean_squared_error(y_true=targets[target_name], y_pred=forecasts[\"AR\"]),\n",
    "            mean_absolute_error(y_true=targets[target_name], y_pred=forecasts[\"AR\"]),\n",
    "        ],\n",
    "    },\n",
    "    index=[\"RMSE\", \"MAE\"],\n",
    ")"
   ]
  },
  {
   "cell_type": "code",
   "execution_count": 18,
   "id": "18025310-8445-4c89-a945-67de74d7c940",
   "metadata": {},
   "outputs": [
    {
     "data": {
      "text/html": [
       "<div>\n",
       "<style scoped>\n",
       "    .dataframe tbody tr th:only-of-type {\n",
       "        vertical-align: middle;\n",
       "    }\n",
       "\n",
       "    .dataframe tbody tr th {\n",
       "        vertical-align: top;\n",
       "    }\n",
       "\n",
       "    .dataframe thead th {\n",
       "        text-align: right;\n",
       "    }\n",
       "</style>\n",
       "<table border=\"1\" class=\"dataframe\">\n",
       "  <thead>\n",
       "    <tr style=\"text-align: right;\">\n",
       "      <th></th>\n",
       "      <th>RF</th>\n",
       "      <th>AR</th>\n",
       "    </tr>\n",
       "  </thead>\n",
       "  <tbody>\n",
       "    <tr>\n",
       "      <th>RMSE</th>\n",
       "      <td>0.001675</td>\n",
       "      <td>0.001904</td>\n",
       "    </tr>\n",
       "    <tr>\n",
       "      <th>MAE</th>\n",
       "      <td>0.001389</td>\n",
       "      <td>0.001424</td>\n",
       "    </tr>\n",
       "  </tbody>\n",
       "</table>\n",
       "</div>"
      ],
      "text/plain": [
       "            RF        AR\n",
       "RMSE  0.001675  0.001904\n",
       "MAE   0.001389  0.001424"
      ]
     },
     "execution_count": 18,
     "metadata": {},
     "output_type": "execute_result"
    }
   ],
   "source": [
    "errors"
   ]
  },
  {
   "cell_type": "markdown",
   "id": "5192cead-5600-4e7a-8c82-d30b53ba652e",
   "metadata": {},
   "source": [
    "Calculate the percentage difference in the forecast errors."
   ]
  },
  {
   "cell_type": "code",
   "execution_count": 19,
   "id": "4a501449-9db4-4dba-8f70-0b0fed1b0d07",
   "metadata": {
    "scrolled": true
   },
   "outputs": [
    {
     "data": {
      "text/plain": [
       "RMSE   -0.120193\n",
       "MAE    -0.024073\n",
       "dtype: float64"
      ]
     },
     "execution_count": 19,
     "metadata": {},
     "output_type": "execute_result"
    }
   ],
   "source": [
    "errors['RF'] / errors['AR'] - 1"
   ]
  }
 ],
 "metadata": {
  "kernelspec": {
   "display_name": "Python 3 (ipykernel)",
   "language": "python",
   "name": "python3"
  },
  "language_info": {
   "codemirror_mode": {
    "name": "ipython",
    "version": 3
   },
   "file_extension": ".py",
   "mimetype": "text/x-python",
   "name": "python",
   "nbconvert_exporter": "python",
   "pygments_lexer": "ipython3",
   "version": "3.12.2"
  }
 },
 "nbformat": 4,
 "nbformat_minor": 5
}

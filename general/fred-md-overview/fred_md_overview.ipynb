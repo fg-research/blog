{
 "cells": [
  {
   "cell_type": "markdown",
   "metadata": {
    "id": "z2x2cQ-HXgpa"
   },
   "source": [
    "# FRED-MD Dataset\n",
    "\n",
    "**Paper:** https://doi.org/10.1080/07350015.2015.1086655      \n",
    "**Homepage:** https://research.stlouisfed.org/econ/mccracken/fred-databases/    \n",
    "\n",
    "**Note:** The code below only works with *real-time vintages*, i.e. with the datasets released after 01-2015. The *historical vintages* can be downloaded from [this link](https://s3.amazonaws.com/files.research.stlouisfed.org/fred-md/Historical_FRED-MD.zip)."
   ]
  },
  {
   "cell_type": "markdown",
   "metadata": {
    "id": "ZTLgUDSkXk-t"
   },
   "source": [
    "Import the dependencies."
   ]
  },
  {
   "cell_type": "code",
   "execution_count": 1,
   "metadata": {
    "id": "Z1_GUIiUXkJq"
   },
   "outputs": [],
   "source": [
    "import pandas as pd\n",
    "import numpy as np\n",
    "import warnings\n",
    "warnings.filterwarnings(\"ignore\")"
   ]
  },
  {
   "cell_type": "markdown",
   "metadata": {
    "id": "m1Q5XIDfXkm8"
   },
   "source": [
    "Define a function for transforming the time series."
   ]
  },
  {
   "cell_type": "code",
   "execution_count": 2,
   "metadata": {
    "id": "nf-uOPkpXrZP"
   },
   "outputs": [],
   "source": [
    "def transform_series(x, tcode):\n",
    "    '''\n",
    "    Transform the time series.\n",
    "\n",
    "    Parameters:\n",
    "    ______________________________\n",
    "    x: pandas.Series\n",
    "        Time series.\n",
    "\n",
    "    tcode: int.\n",
    "        Transformation code.\n",
    "    '''\n",
    "\n",
    "    if tcode == 1:\n",
    "        return x\n",
    "    elif tcode == 2:\n",
    "        return x.diff()\n",
    "    elif tcode == 3:\n",
    "        return x.diff().diff()\n",
    "    elif tcode == 4:\n",
    "        return np.log(x)\n",
    "    elif tcode == 5:\n",
    "        return np.log(x).diff()\n",
    "    elif tcode == 6:\n",
    "        return np.log(x).diff().diff()\n",
    "    elif tcode == 7:\n",
    "        return x.pct_change()\n",
    "    else:\n",
    "        raise ValueError(f\"unknown `tcode` {tcode}\")"
   ]
  },
  {
   "cell_type": "markdown",
   "metadata": {
    "id": "1JwQ7o16YUI0"
   },
   "source": [
    "Define a function for downloading and transforming the time series."
   ]
  },
  {
   "cell_type": "code",
   "execution_count": 3,
   "metadata": {
    "id": "eYZ1FRBGYJlX"
   },
   "outputs": [],
   "source": [
    "def get_data(year, month, transform=True):\n",
    "    '''\n",
    "    Download and (optionally) transform the time series.\n",
    "\n",
    "    Parameters:\n",
    "    ______________________________\n",
    "    year: int\n",
    "        The year of the dataset vintage.\n",
    "\n",
    "    month: int.\n",
    "        The month of the dataset vintage.\n",
    "\n",
    "    transform: bool.\n",
    "        Whether the time series should be transformed or not.\n",
    "    '''\n",
    "\n",
    "    # get the dataset URL\n",
    "    file = f\"https://files.stlouisfed.org/files/htdocs/fred-md/monthly/{year}-{format(month, '02d')}.csv\"\n",
    "\n",
    "    # get the time series\n",
    "    data = pd.read_csv(file, skiprows=[1])\n",
    "\n",
    "    # process the dates\n",
    "    data[\"sasdate\"] = pd.to_datetime(data[\"sasdate\"], format=\"%m/%d/%Y\")\n",
    "\n",
    "    # add back any missing dates\n",
    "    data = data.set_index(\"sasdate\").resample(\"MS\").first()\n",
    "\n",
    "    if transform:\n",
    "\n",
    "        # get the transformation codes\n",
    "        tcodes = pd.read_csv(file, nrows=1, index_col=0)\n",
    "\n",
    "        # transform the time series\n",
    "        data = data.apply(lambda x: transform_series(x, tcodes[x.name].item()))\n",
    "\n",
    "    return data"
   ]
  },
  {
   "cell_type": "markdown",
   "metadata": {
    "id": "lI_VVF7_Y-gI"
   },
   "source": [
    "Define a function for identifying the time series included in all dataset vintages between two dates."
   ]
  },
  {
   "cell_type": "code",
   "execution_count": 4,
   "metadata": {
    "id": "AzocilyjZIRt"
   },
   "outputs": [],
   "source": [
    "def get_common_series(start_month, start_year, end_month, end_year):\n",
    "    '''\n",
    "    Get the list of time series included in\n",
    "    all datasets vintages between two dates.\n",
    "\n",
    "    Parameters:\n",
    "    ______________________________\n",
    "    start_month: int.\n",
    "        The month of the start date.\n",
    "\n",
    "    start_year: int.\n",
    "        The year of the start date.\n",
    "\n",
    "    end_month: int.\n",
    "        The month of the end date.\n",
    "\n",
    "    end_year: int.\n",
    "        The year of the end date.\n",
    "    '''\n",
    "\n",
    "    # define the date range\n",
    "    dates = pd.date_range(\n",
    "        start=f\"{start_year}-{start_month}-01\",\n",
    "        end=f\"{end_year}-{end_month}-01\",\n",
    "        freq=\"MS\"\n",
    "    )\n",
    "\n",
    "    # get the list of time series included\n",
    "    # in the dataset on each date\n",
    "    series = [\n",
    "        pd.read_csv(\n",
    "            f\"https://files.stlouisfed.org/files/htdocs/fred-md/monthly/{date.year}-{format(date.month, '02d')}.csv\",\n",
    "            nrows=0,\n",
    "            index_col=0\n",
    "        ).columns.tolist() for date in dates\n",
    "    ]\n",
    "\n",
    "    # return the list of time series included\n",
    "    # in the dataset on all dates\n",
    "    return list(set.intersection(*map(set, series)))"
   ]
  },
  {
   "cell_type": "markdown",
   "metadata": {
    "id": "rqWQBtTDZRJZ"
   },
   "source": [
    "Load the dataset vintage for 12-2023."
   ]
  },
  {
   "cell_type": "code",
   "execution_count": 5,
   "metadata": {
    "id": "jJF6bcLVZUKY"
   },
   "outputs": [],
   "source": [
    "dataset = get_data(year=2023, month=12, transform=True)"
   ]
  },
  {
   "cell_type": "code",
   "execution_count": 6,
   "metadata": {
    "colab": {
     "base_uri": "https://localhost:8080/"
    },
    "id": "dANuWlzTZ5gP",
    "outputId": "7ca77213-4632-46ee-fb12-c2a0dd1ab2a3"
   },
   "outputs": [
    {
     "data": {
      "text/plain": [
       "(779, 127)"
      ]
     },
     "execution_count": 6,
     "metadata": {},
     "output_type": "execute_result"
    }
   ],
   "source": [
    "dataset.shape"
   ]
  },
  {
   "cell_type": "code",
   "execution_count": 7,
   "metadata": {
    "colab": {
     "base_uri": "https://localhost:8080/",
     "height": 374
    },
    "id": "BXTTJb3IZah3",
    "outputId": "325bb78c-7c4c-4d58-8e15-87271b9d06c5"
   },
   "outputs": [
    {
     "data": {
      "text/html": [
       "<div>\n",
       "<style scoped>\n",
       "    .dataframe tbody tr th:only-of-type {\n",
       "        vertical-align: middle;\n",
       "    }\n",
       "\n",
       "    .dataframe tbody tr th {\n",
       "        vertical-align: top;\n",
       "    }\n",
       "\n",
       "    .dataframe thead th {\n",
       "        text-align: right;\n",
       "    }\n",
       "</style>\n",
       "<table border=\"1\" class=\"dataframe\">\n",
       "  <thead>\n",
       "    <tr style=\"text-align: right;\">\n",
       "      <th></th>\n",
       "      <th>RPI</th>\n",
       "      <th>W875RX1</th>\n",
       "      <th>DPCERA3M086SBEA</th>\n",
       "      <th>CMRMTSPLx</th>\n",
       "      <th>RETAILx</th>\n",
       "      <th>INDPRO</th>\n",
       "      <th>IPFPNSS</th>\n",
       "      <th>IPFINAL</th>\n",
       "      <th>IPCONGD</th>\n",
       "      <th>IPDCONGD</th>\n",
       "      <th>...</th>\n",
       "      <th>DNDGRG3M086SBEA</th>\n",
       "      <th>DSERRG3M086SBEA</th>\n",
       "      <th>CES0600000008</th>\n",
       "      <th>CES2000000008</th>\n",
       "      <th>CES3000000008</th>\n",
       "      <th>UMCSENTx</th>\n",
       "      <th>DTCOLNVHFNM</th>\n",
       "      <th>DTCTHFNM</th>\n",
       "      <th>INVEST</th>\n",
       "      <th>VIXCLSx</th>\n",
       "    </tr>\n",
       "    <tr>\n",
       "      <th>sasdate</th>\n",
       "      <th></th>\n",
       "      <th></th>\n",
       "      <th></th>\n",
       "      <th></th>\n",
       "      <th></th>\n",
       "      <th></th>\n",
       "      <th></th>\n",
       "      <th></th>\n",
       "      <th></th>\n",
       "      <th></th>\n",
       "      <th></th>\n",
       "      <th></th>\n",
       "      <th></th>\n",
       "      <th></th>\n",
       "      <th></th>\n",
       "      <th></th>\n",
       "      <th></th>\n",
       "      <th></th>\n",
       "      <th></th>\n",
       "      <th></th>\n",
       "      <th></th>\n",
       "    </tr>\n",
       "  </thead>\n",
       "  <tbody>\n",
       "    <tr>\n",
       "      <th>1959-01-01</th>\n",
       "      <td>NaN</td>\n",
       "      <td>NaN</td>\n",
       "      <td>NaN</td>\n",
       "      <td>NaN</td>\n",
       "      <td>NaN</td>\n",
       "      <td>NaN</td>\n",
       "      <td>NaN</td>\n",
       "      <td>NaN</td>\n",
       "      <td>NaN</td>\n",
       "      <td>NaN</td>\n",
       "      <td>...</td>\n",
       "      <td>NaN</td>\n",
       "      <td>NaN</td>\n",
       "      <td>NaN</td>\n",
       "      <td>NaN</td>\n",
       "      <td>NaN</td>\n",
       "      <td>NaN</td>\n",
       "      <td>NaN</td>\n",
       "      <td>NaN</td>\n",
       "      <td>NaN</td>\n",
       "      <td>NaN</td>\n",
       "    </tr>\n",
       "    <tr>\n",
       "      <th>1959-02-01</th>\n",
       "      <td>0.003877</td>\n",
       "      <td>0.003621</td>\n",
       "      <td>0.010349</td>\n",
       "      <td>0.007336</td>\n",
       "      <td>0.007310</td>\n",
       "      <td>0.019391</td>\n",
       "      <td>0.013407</td>\n",
       "      <td>0.008625</td>\n",
       "      <td>0.00731</td>\n",
       "      <td>0.005235</td>\n",
       "      <td>...</td>\n",
       "      <td>NaN</td>\n",
       "      <td>NaN</td>\n",
       "      <td>NaN</td>\n",
       "      <td>NaN</td>\n",
       "      <td>NaN</td>\n",
       "      <td>NaN</td>\n",
       "      <td>NaN</td>\n",
       "      <td>NaN</td>\n",
       "      <td>NaN</td>\n",
       "      <td>NaN</td>\n",
       "    </tr>\n",
       "    <tr>\n",
       "      <th>1959-03-01</th>\n",
       "      <td>0.006457</td>\n",
       "      <td>0.007325</td>\n",
       "      <td>0.009404</td>\n",
       "      <td>-0.003374</td>\n",
       "      <td>0.008321</td>\n",
       "      <td>0.014306</td>\n",
       "      <td>0.006035</td>\n",
       "      <td>0.004894</td>\n",
       "      <td>0.00000</td>\n",
       "      <td>0.019393</td>\n",
       "      <td>...</td>\n",
       "      <td>-0.001148</td>\n",
       "      <td>0.000292</td>\n",
       "      <td>-0.000022</td>\n",
       "      <td>-0.008147</td>\n",
       "      <td>0.004819</td>\n",
       "      <td>NaN</td>\n",
       "      <td>0.004929</td>\n",
       "      <td>0.004138</td>\n",
       "      <td>-0.014792</td>\n",
       "      <td>NaN</td>\n",
       "    </tr>\n",
       "    <tr>\n",
       "      <th>1959-04-01</th>\n",
       "      <td>0.006510</td>\n",
       "      <td>0.007029</td>\n",
       "      <td>-0.003622</td>\n",
       "      <td>0.019915</td>\n",
       "      <td>0.000616</td>\n",
       "      <td>0.021075</td>\n",
       "      <td>0.014338</td>\n",
       "      <td>0.014545</td>\n",
       "      <td>0.01565</td>\n",
       "      <td>0.006383</td>\n",
       "      <td>...</td>\n",
       "      <td>0.001312</td>\n",
       "      <td>0.001760</td>\n",
       "      <td>-0.000022</td>\n",
       "      <td>0.012203</td>\n",
       "      <td>-0.004890</td>\n",
       "      <td>NaN</td>\n",
       "      <td>0.012134</td>\n",
       "      <td>0.006734</td>\n",
       "      <td>0.024929</td>\n",
       "      <td>NaN</td>\n",
       "    </tr>\n",
       "    <tr>\n",
       "      <th>1959-05-01</th>\n",
       "      <td>0.005796</td>\n",
       "      <td>0.006618</td>\n",
       "      <td>0.012043</td>\n",
       "      <td>0.006839</td>\n",
       "      <td>0.007803</td>\n",
       "      <td>0.014955</td>\n",
       "      <td>0.008270</td>\n",
       "      <td>0.009582</td>\n",
       "      <td>0.00477</td>\n",
       "      <td>0.020149</td>\n",
       "      <td>...</td>\n",
       "      <td>-0.001695</td>\n",
       "      <td>-0.001867</td>\n",
       "      <td>-0.000021</td>\n",
       "      <td>-0.004090</td>\n",
       "      <td>-0.004819</td>\n",
       "      <td>NaN</td>\n",
       "      <td>0.002828</td>\n",
       "      <td>0.002020</td>\n",
       "      <td>-0.015342</td>\n",
       "      <td>NaN</td>\n",
       "    </tr>\n",
       "  </tbody>\n",
       "</table>\n",
       "<p>5 rows × 127 columns</p>\n",
       "</div>"
      ],
      "text/plain": [
       "                 RPI   W875RX1  DPCERA3M086SBEA  CMRMTSPLx   RETAILx  \\\n",
       "sasdate                                                                \n",
       "1959-01-01       NaN       NaN              NaN        NaN       NaN   \n",
       "1959-02-01  0.003877  0.003621         0.010349   0.007336  0.007310   \n",
       "1959-03-01  0.006457  0.007325         0.009404  -0.003374  0.008321   \n",
       "1959-04-01  0.006510  0.007029        -0.003622   0.019915  0.000616   \n",
       "1959-05-01  0.005796  0.006618         0.012043   0.006839  0.007803   \n",
       "\n",
       "              INDPRO   IPFPNSS   IPFINAL  IPCONGD  IPDCONGD  ...  \\\n",
       "sasdate                                                      ...   \n",
       "1959-01-01       NaN       NaN       NaN      NaN       NaN  ...   \n",
       "1959-02-01  0.019391  0.013407  0.008625  0.00731  0.005235  ...   \n",
       "1959-03-01  0.014306  0.006035  0.004894  0.00000  0.019393  ...   \n",
       "1959-04-01  0.021075  0.014338  0.014545  0.01565  0.006383  ...   \n",
       "1959-05-01  0.014955  0.008270  0.009582  0.00477  0.020149  ...   \n",
       "\n",
       "            DNDGRG3M086SBEA  DSERRG3M086SBEA  CES0600000008  CES2000000008  \\\n",
       "sasdate                                                                      \n",
       "1959-01-01              NaN              NaN            NaN            NaN   \n",
       "1959-02-01              NaN              NaN            NaN            NaN   \n",
       "1959-03-01        -0.001148         0.000292      -0.000022      -0.008147   \n",
       "1959-04-01         0.001312         0.001760      -0.000022       0.012203   \n",
       "1959-05-01        -0.001695        -0.001867      -0.000021      -0.004090   \n",
       "\n",
       "            CES3000000008  UMCSENTx  DTCOLNVHFNM  DTCTHFNM    INVEST  VIXCLSx  \n",
       "sasdate                                                                        \n",
       "1959-01-01            NaN       NaN          NaN       NaN       NaN      NaN  \n",
       "1959-02-01            NaN       NaN          NaN       NaN       NaN      NaN  \n",
       "1959-03-01       0.004819       NaN     0.004929  0.004138 -0.014792      NaN  \n",
       "1959-04-01      -0.004890       NaN     0.012134  0.006734  0.024929      NaN  \n",
       "1959-05-01      -0.004819       NaN     0.002828  0.002020 -0.015342      NaN  \n",
       "\n",
       "[5 rows x 127 columns]"
      ]
     },
     "execution_count": 7,
     "metadata": {},
     "output_type": "execute_result"
    }
   ],
   "source": [
    "dataset.head()"
   ]
  },
  {
   "cell_type": "code",
   "execution_count": 8,
   "metadata": {
    "colab": {
     "base_uri": "https://localhost:8080/",
     "height": 374
    },
    "id": "M4eDjKRXZtk4",
    "outputId": "8e842339-6f9f-45b0-b956-384c73276e98"
   },
   "outputs": [
    {
     "data": {
      "text/html": [
       "<div>\n",
       "<style scoped>\n",
       "    .dataframe tbody tr th:only-of-type {\n",
       "        vertical-align: middle;\n",
       "    }\n",
       "\n",
       "    .dataframe tbody tr th {\n",
       "        vertical-align: top;\n",
       "    }\n",
       "\n",
       "    .dataframe thead th {\n",
       "        text-align: right;\n",
       "    }\n",
       "</style>\n",
       "<table border=\"1\" class=\"dataframe\">\n",
       "  <thead>\n",
       "    <tr style=\"text-align: right;\">\n",
       "      <th></th>\n",
       "      <th>RPI</th>\n",
       "      <th>W875RX1</th>\n",
       "      <th>DPCERA3M086SBEA</th>\n",
       "      <th>CMRMTSPLx</th>\n",
       "      <th>RETAILx</th>\n",
       "      <th>INDPRO</th>\n",
       "      <th>IPFPNSS</th>\n",
       "      <th>IPFINAL</th>\n",
       "      <th>IPCONGD</th>\n",
       "      <th>IPDCONGD</th>\n",
       "      <th>...</th>\n",
       "      <th>DNDGRG3M086SBEA</th>\n",
       "      <th>DSERRG3M086SBEA</th>\n",
       "      <th>CES0600000008</th>\n",
       "      <th>CES2000000008</th>\n",
       "      <th>CES3000000008</th>\n",
       "      <th>UMCSENTx</th>\n",
       "      <th>DTCOLNVHFNM</th>\n",
       "      <th>DTCTHFNM</th>\n",
       "      <th>INVEST</th>\n",
       "      <th>VIXCLSx</th>\n",
       "    </tr>\n",
       "    <tr>\n",
       "      <th>sasdate</th>\n",
       "      <th></th>\n",
       "      <th></th>\n",
       "      <th></th>\n",
       "      <th></th>\n",
       "      <th></th>\n",
       "      <th></th>\n",
       "      <th></th>\n",
       "      <th></th>\n",
       "      <th></th>\n",
       "      <th></th>\n",
       "      <th></th>\n",
       "      <th></th>\n",
       "      <th></th>\n",
       "      <th></th>\n",
       "      <th></th>\n",
       "      <th></th>\n",
       "      <th></th>\n",
       "      <th></th>\n",
       "      <th></th>\n",
       "      <th></th>\n",
       "      <th></th>\n",
       "    </tr>\n",
       "  </thead>\n",
       "  <tbody>\n",
       "    <tr>\n",
       "      <th>2023-07-01</th>\n",
       "      <td>0.000959</td>\n",
       "      <td>0.002689</td>\n",
       "      <td>0.004674</td>\n",
       "      <td>0.007571</td>\n",
       "      <td>0.005628</td>\n",
       "      <td>0.008918</td>\n",
       "      <td>0.008860</td>\n",
       "      <td>0.011675</td>\n",
       "      <td>0.012764</td>\n",
       "      <td>0.032870</td>\n",
       "      <td>...</td>\n",
       "      <td>-0.000887</td>\n",
       "      <td>0.000308</td>\n",
       "      <td>-0.002738</td>\n",
       "      <td>0.003215</td>\n",
       "      <td>-0.006112</td>\n",
       "      <td>7.3</td>\n",
       "      <td>-0.009362</td>\n",
       "      <td>-0.011050</td>\n",
       "      <td>-0.000322</td>\n",
       "      <td>13.8333</td>\n",
       "    </tr>\n",
       "    <tr>\n",
       "      <th>2023-08-01</th>\n",
       "      <td>0.000749</td>\n",
       "      <td>0.001759</td>\n",
       "      <td>-0.000551</td>\n",
       "      <td>-0.001668</td>\n",
       "      <td>0.007353</td>\n",
       "      <td>-0.000008</td>\n",
       "      <td>0.001259</td>\n",
       "      <td>0.001396</td>\n",
       "      <td>0.001537</td>\n",
       "      <td>-0.016683</td>\n",
       "      <td>...</td>\n",
       "      <td>0.014038</td>\n",
       "      <td>-0.001768</td>\n",
       "      <td>-0.000014</td>\n",
       "      <td>0.001425</td>\n",
       "      <td>-0.003026</td>\n",
       "      <td>-2.1</td>\n",
       "      <td>0.001532</td>\n",
       "      <td>0.000716</td>\n",
       "      <td>-0.006009</td>\n",
       "      <td>15.7822</td>\n",
       "    </tr>\n",
       "    <tr>\n",
       "      <th>2023-09-01</th>\n",
       "      <td>-0.000509</td>\n",
       "      <td>0.000725</td>\n",
       "      <td>0.003635</td>\n",
       "      <td>0.006531</td>\n",
       "      <td>0.008206</td>\n",
       "      <td>0.001177</td>\n",
       "      <td>-0.002274</td>\n",
       "      <td>-0.004014</td>\n",
       "      <td>-0.002411</td>\n",
       "      <td>0.008238</td>\n",
       "      <td>...</td>\n",
       "      <td>-0.010725</td>\n",
       "      <td>0.003456</td>\n",
       "      <td>0.001660</td>\n",
       "      <td>-0.004090</td>\n",
       "      <td>0.004892</td>\n",
       "      <td>-1.5</td>\n",
       "      <td>-0.003609</td>\n",
       "      <td>-0.001637</td>\n",
       "      <td>0.003319</td>\n",
       "      <td>15.0424</td>\n",
       "    </tr>\n",
       "    <tr>\n",
       "      <th>2023-10-01</th>\n",
       "      <td>0.002211</td>\n",
       "      <td>0.003100</td>\n",
       "      <td>0.000754</td>\n",
       "      <td>-0.000689</td>\n",
       "      <td>-0.002209</td>\n",
       "      <td>-0.008928</td>\n",
       "      <td>-0.006722</td>\n",
       "      <td>-0.007656</td>\n",
       "      <td>-0.009127</td>\n",
       "      <td>-0.055520</td>\n",
       "      <td>...</td>\n",
       "      <td>-0.006273</td>\n",
       "      <td>-0.002894</td>\n",
       "      <td>-0.003027</td>\n",
       "      <td>0.001724</td>\n",
       "      <td>-0.004144</td>\n",
       "      <td>-4.1</td>\n",
       "      <td>-0.004214</td>\n",
       "      <td>-0.000859</td>\n",
       "      <td>-0.004454</td>\n",
       "      <td>19.0462</td>\n",
       "    </tr>\n",
       "    <tr>\n",
       "      <th>2023-11-01</th>\n",
       "      <td>0.004228</td>\n",
       "      <td>0.005755</td>\n",
       "      <td>0.003200</td>\n",
       "      <td>NaN</td>\n",
       "      <td>0.002759</td>\n",
       "      <td>0.002401</td>\n",
       "      <td>0.001836</td>\n",
       "      <td>0.002633</td>\n",
       "      <td>0.000753</td>\n",
       "      <td>0.034805</td>\n",
       "      <td>...</td>\n",
       "      <td>-0.005675</td>\n",
       "      <td>0.000486</td>\n",
       "      <td>0.005307</td>\n",
       "      <td>0.003420</td>\n",
       "      <td>0.006346</td>\n",
       "      <td>-2.5</td>\n",
       "      <td>NaN</td>\n",
       "      <td>NaN</td>\n",
       "      <td>0.009452</td>\n",
       "      <td>13.8563</td>\n",
       "    </tr>\n",
       "  </tbody>\n",
       "</table>\n",
       "<p>5 rows × 127 columns</p>\n",
       "</div>"
      ],
      "text/plain": [
       "                 RPI   W875RX1  DPCERA3M086SBEA  CMRMTSPLx   RETAILx  \\\n",
       "sasdate                                                                \n",
       "2023-07-01  0.000959  0.002689         0.004674   0.007571  0.005628   \n",
       "2023-08-01  0.000749  0.001759        -0.000551  -0.001668  0.007353   \n",
       "2023-09-01 -0.000509  0.000725         0.003635   0.006531  0.008206   \n",
       "2023-10-01  0.002211  0.003100         0.000754  -0.000689 -0.002209   \n",
       "2023-11-01  0.004228  0.005755         0.003200        NaN  0.002759   \n",
       "\n",
       "              INDPRO   IPFPNSS   IPFINAL   IPCONGD  IPDCONGD  ...  \\\n",
       "sasdate                                                       ...   \n",
       "2023-07-01  0.008918  0.008860  0.011675  0.012764  0.032870  ...   \n",
       "2023-08-01 -0.000008  0.001259  0.001396  0.001537 -0.016683  ...   \n",
       "2023-09-01  0.001177 -0.002274 -0.004014 -0.002411  0.008238  ...   \n",
       "2023-10-01 -0.008928 -0.006722 -0.007656 -0.009127 -0.055520  ...   \n",
       "2023-11-01  0.002401  0.001836  0.002633  0.000753  0.034805  ...   \n",
       "\n",
       "            DNDGRG3M086SBEA  DSERRG3M086SBEA  CES0600000008  CES2000000008  \\\n",
       "sasdate                                                                      \n",
       "2023-07-01        -0.000887         0.000308      -0.002738       0.003215   \n",
       "2023-08-01         0.014038        -0.001768      -0.000014       0.001425   \n",
       "2023-09-01        -0.010725         0.003456       0.001660      -0.004090   \n",
       "2023-10-01        -0.006273        -0.002894      -0.003027       0.001724   \n",
       "2023-11-01        -0.005675         0.000486       0.005307       0.003420   \n",
       "\n",
       "            CES3000000008  UMCSENTx  DTCOLNVHFNM  DTCTHFNM    INVEST  VIXCLSx  \n",
       "sasdate                                                                        \n",
       "2023-07-01      -0.006112       7.3    -0.009362 -0.011050 -0.000322  13.8333  \n",
       "2023-08-01      -0.003026      -2.1     0.001532  0.000716 -0.006009  15.7822  \n",
       "2023-09-01       0.004892      -1.5    -0.003609 -0.001637  0.003319  15.0424  \n",
       "2023-10-01      -0.004144      -4.1    -0.004214 -0.000859 -0.004454  19.0462  \n",
       "2023-11-01       0.006346      -2.5          NaN       NaN  0.009452  13.8563  \n",
       "\n",
       "[5 rows x 127 columns]"
      ]
     },
     "execution_count": 8,
     "metadata": {},
     "output_type": "execute_result"
    }
   ],
   "source": [
    "dataset.tail()"
   ]
  },
  {
   "cell_type": "markdown",
   "metadata": {
    "id": "tVM47h_haxOh"
   },
   "source": [
    "Get the mapping table with the time series description and groups."
   ]
  },
  {
   "cell_type": "code",
   "execution_count": 9,
   "metadata": {
    "colab": {
     "base_uri": "https://localhost:8080/"
    },
    "id": "LgD-8Cd7awtx",
    "outputId": "aa26a8fb-564d-465c-9734-7c37c5141281"
   },
   "outputs": [
    {
     "name": "stdout",
     "output_type": "stream",
     "text": [
      "  % Total    % Received % Xferd  Average Speed   Time    Time     Time  Current\n",
      "                                 Dload  Upload   Total   Spent    Left  Speed\n",
      "100  236k  100  236k    0     0   662k      0 --:--:-- --:--:-- --:--:--  670k\n"
     ]
    }
   ],
   "source": [
    "!curl -O https://files.stlouisfed.org/files/htdocs/uploads/FRED-MD%20Appendix.zip"
   ]
  },
  {
   "cell_type": "code",
   "execution_count": 10,
   "metadata": {
    "colab": {
     "base_uri": "https://localhost:8080/"
    },
    "id": "KASzffA4alWt",
    "outputId": "97c58118-f484-4d2a-b83c-141490665e64"
   },
   "outputs": [
    {
     "name": "stdout",
     "output_type": "stream",
     "text": [
      "Archive:  FRED-MD%20Appendix.zip\n",
      "   creating: FRED-MD Appendix/\n",
      "  inflating: FRED-MD Appendix/FRED-MD_historic_appendix.csv  \n",
      "  inflating: FRED-MD Appendix/FRED-MD_historic_appendix.pdf  \n",
      "  inflating: FRED-MD Appendix/FRED-MD_updated_appendix.csv  \n",
      "  inflating: FRED-MD Appendix/FRED-MD_updated_appendix.pdf  \n",
      "  inflating: FRED-MD Appendix/README.txt  \n"
     ]
    }
   ],
   "source": [
    "!unzip -o FRED-MD%20Appendix.zip"
   ]
  },
  {
   "cell_type": "code",
   "execution_count": 11,
   "metadata": {
    "id": "rbhvhr84arS3"
   },
   "outputs": [],
   "source": [
    "mapping = pd.read_csv(\"FRED-MD Appendix/FRED-MD_updated_appendix.csv\", encoding=\"ISO 8859-1\", usecols=[\"fred\", \"description\", \"group\"])"
   ]
  },
  {
   "cell_type": "code",
   "execution_count": 12,
   "metadata": {
    "colab": {
     "base_uri": "https://localhost:8080/",
     "height": 206
    },
    "id": "iok-c9zdgrm6",
    "outputId": "1dfc1639-5f96-4d27-eeb7-9a286fdf5372"
   },
   "outputs": [
    {
     "data": {
      "text/html": [
       "<div>\n",
       "<style scoped>\n",
       "    .dataframe tbody tr th:only-of-type {\n",
       "        vertical-align: middle;\n",
       "    }\n",
       "\n",
       "    .dataframe tbody tr th {\n",
       "        vertical-align: top;\n",
       "    }\n",
       "\n",
       "    .dataframe thead th {\n",
       "        text-align: right;\n",
       "    }\n",
       "</style>\n",
       "<table border=\"1\" class=\"dataframe\">\n",
       "  <thead>\n",
       "    <tr style=\"text-align: right;\">\n",
       "      <th></th>\n",
       "      <th>fred</th>\n",
       "      <th>description</th>\n",
       "      <th>group</th>\n",
       "    </tr>\n",
       "  </thead>\n",
       "  <tbody>\n",
       "    <tr>\n",
       "      <th>0</th>\n",
       "      <td>RPI</td>\n",
       "      <td>Real Personal Income</td>\n",
       "      <td>1</td>\n",
       "    </tr>\n",
       "    <tr>\n",
       "      <th>1</th>\n",
       "      <td>W875RX1</td>\n",
       "      <td>Real personal income ex transfer receipts</td>\n",
       "      <td>1</td>\n",
       "    </tr>\n",
       "    <tr>\n",
       "      <th>2</th>\n",
       "      <td>DPCERA3M086SBEA</td>\n",
       "      <td>Real personal consumption expenditures</td>\n",
       "      <td>4</td>\n",
       "    </tr>\n",
       "    <tr>\n",
       "      <th>3</th>\n",
       "      <td>CMRMTSPLx</td>\n",
       "      <td>Real Manu.  and Trade Industries Sales</td>\n",
       "      <td>4</td>\n",
       "    </tr>\n",
       "    <tr>\n",
       "      <th>4</th>\n",
       "      <td>RETAILx</td>\n",
       "      <td>Retail and Food Services Sales</td>\n",
       "      <td>4</td>\n",
       "    </tr>\n",
       "  </tbody>\n",
       "</table>\n",
       "</div>"
      ],
      "text/plain": [
       "              fred                                description  group\n",
       "0              RPI                       Real Personal Income      1\n",
       "1          W875RX1  Real personal income ex transfer receipts      1\n",
       "2  DPCERA3M086SBEA     Real personal consumption expenditures      4\n",
       "3        CMRMTSPLx     Real Manu.  and Trade Industries Sales      4\n",
       "4          RETAILx             Retail and Food Services Sales      4"
      ]
     },
     "execution_count": 12,
     "metadata": {},
     "output_type": "execute_result"
    }
   ],
   "source": [
    "mapping.head()"
   ]
  },
  {
   "cell_type": "code",
   "execution_count": 13,
   "metadata": {
    "colab": {
     "base_uri": "https://localhost:8080/",
     "height": 206
    },
    "id": "xiilMLjKh3n4",
    "outputId": "3b9c3ef1-99f9-4b96-e675-6ae781829731"
   },
   "outputs": [
    {
     "data": {
      "text/html": [
       "<div>\n",
       "<style scoped>\n",
       "    .dataframe tbody tr th:only-of-type {\n",
       "        vertical-align: middle;\n",
       "    }\n",
       "\n",
       "    .dataframe tbody tr th {\n",
       "        vertical-align: top;\n",
       "    }\n",
       "\n",
       "    .dataframe thead th {\n",
       "        text-align: right;\n",
       "    }\n",
       "</style>\n",
       "<table border=\"1\" class=\"dataframe\">\n",
       "  <thead>\n",
       "    <tr style=\"text-align: right;\">\n",
       "      <th></th>\n",
       "      <th>fred</th>\n",
       "      <th>description</th>\n",
       "      <th>group</th>\n",
       "    </tr>\n",
       "  </thead>\n",
       "  <tbody>\n",
       "    <tr>\n",
       "      <th>122</th>\n",
       "      <td>UMCSENTx</td>\n",
       "      <td>Consumer Sentiment Index</td>\n",
       "      <td>4</td>\n",
       "    </tr>\n",
       "    <tr>\n",
       "      <th>123</th>\n",
       "      <td>DTCOLNVHFNM</td>\n",
       "      <td>Consumer Motor Vehicle Loans Outstanding</td>\n",
       "      <td>5</td>\n",
       "    </tr>\n",
       "    <tr>\n",
       "      <th>124</th>\n",
       "      <td>DTCTHFNM</td>\n",
       "      <td>Total Consumer Loans and Leases Outstanding</td>\n",
       "      <td>5</td>\n",
       "    </tr>\n",
       "    <tr>\n",
       "      <th>125</th>\n",
       "      <td>INVEST</td>\n",
       "      <td>Securities in Bank Credit at All Commercial Banks</td>\n",
       "      <td>5</td>\n",
       "    </tr>\n",
       "    <tr>\n",
       "      <th>126</th>\n",
       "      <td>VIXCLSx</td>\n",
       "      <td>VIX</td>\n",
       "      <td>8</td>\n",
       "    </tr>\n",
       "  </tbody>\n",
       "</table>\n",
       "</div>"
      ],
      "text/plain": [
       "            fred                                        description  group\n",
       "122     UMCSENTx                           Consumer Sentiment Index      4\n",
       "123  DTCOLNVHFNM           Consumer Motor Vehicle Loans Outstanding      5\n",
       "124     DTCTHFNM        Total Consumer Loans and Leases Outstanding      5\n",
       "125       INVEST  Securities in Bank Credit at All Commercial Banks      5\n",
       "126      VIXCLSx                                                VIX      8"
      ]
     },
     "execution_count": 13,
     "metadata": {},
     "output_type": "execute_result"
    }
   ],
   "source": [
    "mapping.tail()"
   ]
  },
  {
   "cell_type": "markdown",
   "metadata": {
    "id": "4bDhEXDgdL6f"
   },
   "source": [
    "Replace the group numbers with the group names."
   ]
  },
  {
   "cell_type": "code",
   "execution_count": 14,
   "metadata": {
    "id": "W0WQNGCpca-O"
   },
   "outputs": [],
   "source": [
    "groups = {\n",
    "    1: \"Output and Income\",\n",
    "    2: \"Labor Market\",\n",
    "    3: \"Consumption and Orders\",\n",
    "    4: \"Orders and Inventories\",\n",
    "    5: \"Money and Credit\",\n",
    "    6: \"Interest Rates and Exchange Rates\",\n",
    "    7: \"Prices\",\n",
    "    8: \"Stock Market\"\n",
    "}"
   ]
  },
  {
   "cell_type": "code",
   "execution_count": 15,
   "metadata": {
    "id": "pi4_SDWtdefE"
   },
   "outputs": [],
   "source": [
    "mapping[\"group\"] = mapping[\"group\"].apply(lambda x: groups[x])"
   ]
  },
  {
   "cell_type": "code",
   "execution_count": 16,
   "metadata": {
    "colab": {
     "base_uri": "https://localhost:8080/",
     "height": 206
    },
    "id": "QosR0E7ng3cl",
    "outputId": "85fbb6d7-f3e0-469f-dd20-c19ec3dab059"
   },
   "outputs": [
    {
     "data": {
      "text/html": [
       "<div>\n",
       "<style scoped>\n",
       "    .dataframe tbody tr th:only-of-type {\n",
       "        vertical-align: middle;\n",
       "    }\n",
       "\n",
       "    .dataframe tbody tr th {\n",
       "        vertical-align: top;\n",
       "    }\n",
       "\n",
       "    .dataframe thead th {\n",
       "        text-align: right;\n",
       "    }\n",
       "</style>\n",
       "<table border=\"1\" class=\"dataframe\">\n",
       "  <thead>\n",
       "    <tr style=\"text-align: right;\">\n",
       "      <th></th>\n",
       "      <th>fred</th>\n",
       "      <th>description</th>\n",
       "      <th>group</th>\n",
       "    </tr>\n",
       "  </thead>\n",
       "  <tbody>\n",
       "    <tr>\n",
       "      <th>0</th>\n",
       "      <td>RPI</td>\n",
       "      <td>Real Personal Income</td>\n",
       "      <td>Output and Income</td>\n",
       "    </tr>\n",
       "    <tr>\n",
       "      <th>1</th>\n",
       "      <td>W875RX1</td>\n",
       "      <td>Real personal income ex transfer receipts</td>\n",
       "      <td>Output and Income</td>\n",
       "    </tr>\n",
       "    <tr>\n",
       "      <th>2</th>\n",
       "      <td>DPCERA3M086SBEA</td>\n",
       "      <td>Real personal consumption expenditures</td>\n",
       "      <td>Orders and Inventories</td>\n",
       "    </tr>\n",
       "    <tr>\n",
       "      <th>3</th>\n",
       "      <td>CMRMTSPLx</td>\n",
       "      <td>Real Manu.  and Trade Industries Sales</td>\n",
       "      <td>Orders and Inventories</td>\n",
       "    </tr>\n",
       "    <tr>\n",
       "      <th>4</th>\n",
       "      <td>RETAILx</td>\n",
       "      <td>Retail and Food Services Sales</td>\n",
       "      <td>Orders and Inventories</td>\n",
       "    </tr>\n",
       "  </tbody>\n",
       "</table>\n",
       "</div>"
      ],
      "text/plain": [
       "              fred                                description  \\\n",
       "0              RPI                       Real Personal Income   \n",
       "1          W875RX1  Real personal income ex transfer receipts   \n",
       "2  DPCERA3M086SBEA     Real personal consumption expenditures   \n",
       "3        CMRMTSPLx     Real Manu.  and Trade Industries Sales   \n",
       "4          RETAILx             Retail and Food Services Sales   \n",
       "\n",
       "                    group  \n",
       "0       Output and Income  \n",
       "1       Output and Income  \n",
       "2  Orders and Inventories  \n",
       "3  Orders and Inventories  \n",
       "4  Orders and Inventories  "
      ]
     },
     "execution_count": 16,
     "metadata": {},
     "output_type": "execute_result"
    }
   ],
   "source": [
    "mapping.head()"
   ]
  },
  {
   "cell_type": "code",
   "execution_count": 17,
   "metadata": {
    "colab": {
     "base_uri": "https://localhost:8080/",
     "height": 206
    },
    "id": "ekszJvA8huDq",
    "outputId": "803ed383-8776-4df6-f679-fe9e2c49a281"
   },
   "outputs": [
    {
     "data": {
      "text/html": [
       "<div>\n",
       "<style scoped>\n",
       "    .dataframe tbody tr th:only-of-type {\n",
       "        vertical-align: middle;\n",
       "    }\n",
       "\n",
       "    .dataframe tbody tr th {\n",
       "        vertical-align: top;\n",
       "    }\n",
       "\n",
       "    .dataframe thead th {\n",
       "        text-align: right;\n",
       "    }\n",
       "</style>\n",
       "<table border=\"1\" class=\"dataframe\">\n",
       "  <thead>\n",
       "    <tr style=\"text-align: right;\">\n",
       "      <th></th>\n",
       "      <th>fred</th>\n",
       "      <th>description</th>\n",
       "      <th>group</th>\n",
       "    </tr>\n",
       "  </thead>\n",
       "  <tbody>\n",
       "    <tr>\n",
       "      <th>122</th>\n",
       "      <td>UMCSENTx</td>\n",
       "      <td>Consumer Sentiment Index</td>\n",
       "      <td>Orders and Inventories</td>\n",
       "    </tr>\n",
       "    <tr>\n",
       "      <th>123</th>\n",
       "      <td>DTCOLNVHFNM</td>\n",
       "      <td>Consumer Motor Vehicle Loans Outstanding</td>\n",
       "      <td>Money and Credit</td>\n",
       "    </tr>\n",
       "    <tr>\n",
       "      <th>124</th>\n",
       "      <td>DTCTHFNM</td>\n",
       "      <td>Total Consumer Loans and Leases Outstanding</td>\n",
       "      <td>Money and Credit</td>\n",
       "    </tr>\n",
       "    <tr>\n",
       "      <th>125</th>\n",
       "      <td>INVEST</td>\n",
       "      <td>Securities in Bank Credit at All Commercial Banks</td>\n",
       "      <td>Money and Credit</td>\n",
       "    </tr>\n",
       "    <tr>\n",
       "      <th>126</th>\n",
       "      <td>VIXCLSx</td>\n",
       "      <td>VIX</td>\n",
       "      <td>Stock Market</td>\n",
       "    </tr>\n",
       "  </tbody>\n",
       "</table>\n",
       "</div>"
      ],
      "text/plain": [
       "            fred                                        description  \\\n",
       "122     UMCSENTx                           Consumer Sentiment Index   \n",
       "123  DTCOLNVHFNM           Consumer Motor Vehicle Loans Outstanding   \n",
       "124     DTCTHFNM        Total Consumer Loans and Leases Outstanding   \n",
       "125       INVEST  Securities in Bank Credit at All Commercial Banks   \n",
       "126      VIXCLSx                                                VIX   \n",
       "\n",
       "                      group  \n",
       "122  Orders and Inventories  \n",
       "123        Money and Credit  \n",
       "124        Money and Credit  \n",
       "125        Money and Credit  \n",
       "126            Stock Market  "
      ]
     },
     "execution_count": 17,
     "metadata": {},
     "output_type": "execute_result"
    }
   ],
   "source": [
    "mapping.tail()"
   ]
  },
  {
   "cell_type": "markdown",
   "metadata": {
    "id": "8LjV7ZF-aR1k"
   },
   "source": [
    "Get the list of time series included in all dataset vintages up to 12-2023."
   ]
  },
  {
   "cell_type": "code",
   "execution_count": 18,
   "metadata": {
    "id": "IFOkhMqqZ0qx"
   },
   "outputs": [],
   "source": [
    "series = get_common_series(start_month=1, start_year=2015, end_month=12, end_year=2023)"
   ]
  },
  {
   "cell_type": "code",
   "execution_count": 19,
   "metadata": {
    "colab": {
     "base_uri": "https://localhost:8080/"
    },
    "id": "TaBMBI45adG0",
    "outputId": "512d8c51-d18b-4a81-ea5c-ed730c81d219"
   },
   "outputs": [
    {
     "data": {
      "text/plain": [
       "118"
      ]
     },
     "execution_count": 19,
     "metadata": {},
     "output_type": "execute_result"
    }
   ],
   "source": [
    "len(series)"
   ]
  },
  {
   "cell_type": "markdown",
   "metadata": {},
   "source": [
    "Clean up."
   ]
  },
  {
   "cell_type": "code",
   "execution_count": 20,
   "metadata": {},
   "outputs": [],
   "source": [
    "!rm FRED-MD%20Appendix.zip"
   ]
  },
  {
   "cell_type": "code",
   "execution_count": 21,
   "metadata": {},
   "outputs": [],
   "source": [
    "!rm -r FRED-MD\\ Appendix"
   ]
  }
 ],
 "metadata": {
  "colab": {
   "provenance": []
  },
  "kernelspec": {
   "display_name": "Python 3 (ipykernel)",
   "language": "python",
   "name": "python3"
  },
  "language_info": {
   "codemirror_mode": {
    "name": "ipython",
    "version": 3
   },
   "file_extension": ".py",
   "mimetype": "text/x-python",
   "name": "python",
   "nbconvert_exporter": "python",
   "pygments_lexer": "ipython3",
   "version": "3.8.0"
  }
 },
 "nbformat": 4,
 "nbformat_minor": 4
}

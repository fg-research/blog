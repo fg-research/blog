{
 "cells": [
  {
   "cell_type": "markdown",
   "metadata": {
    "id": "z2x2cQ-HXgpa"
   },
   "source": [
    "# FRED-MD Dataset\n",
    "\n",
    "**Paper:** https://doi.org/10.1080/07350015.2015.1086655      \n",
    "**Homepage:** https://research.stlouisfed.org/econ/mccracken/fred-databases/    "
   ]
  },
  {
   "cell_type": "markdown",
   "metadata": {
    "id": "ZTLgUDSkXk-t"
   },
   "source": [
    "Import the dependencies."
   ]
  },
  {
   "cell_type": "code",
   "execution_count": 1,
   "metadata": {
    "id": "Z1_GUIiUXkJq"
   },
   "outputs": [],
   "source": [
    "import os\n",
    "import pandas as pd\n",
    "import numpy as np"
   ]
  },
  {
   "cell_type": "markdown",
   "metadata": {
    "id": "m1Q5XIDfXkm8"
   },
   "source": [
    "Define a function for transforming the time series."
   ]
  },
  {
   "cell_type": "code",
   "execution_count": 2,
   "metadata": {
    "id": "nf-uOPkpXrZP"
   },
   "outputs": [],
   "source": [
    "def transform_series(x, tcode):\n",
    "    '''\n",
    "    Transform the time series.\n",
    "\n",
    "    Parameters:\n",
    "    ______________________________\n",
    "    x: pandas.Series\n",
    "        Time series.\n",
    "\n",
    "    tcode: int.\n",
    "        Transformation code.\n",
    "    '''\n",
    "\n",
    "    if tcode == 1:\n",
    "        return x\n",
    "    elif tcode == 2:\n",
    "        return x.diff()\n",
    "    elif tcode == 3:\n",
    "        return x.diff().diff()\n",
    "    elif tcode == 4:\n",
    "        return np.log(x)\n",
    "    elif tcode == 5:\n",
    "        return np.log(x).diff()\n",
    "    elif tcode == 6:\n",
    "        return np.log(x).diff().diff()\n",
    "    elif tcode == 7:\n",
    "        return x.pct_change()\n",
    "    else:\n",
    "        raise ValueError(f\"unknown `tcode` {tcode}\")"
   ]
  },
  {
   "cell_type": "markdown",
   "metadata": {
    "id": "1JwQ7o16YUI0"
   },
   "source": [
    "Define a function for downloading and transforming the time series."
   ]
  },
  {
   "cell_type": "code",
   "execution_count": 3,
   "metadata": {
    "id": "eYZ1FRBGYJlX"
   },
   "outputs": [],
   "source": [
    "def get_data(year, month, transform=True):\n",
    "    '''\n",
    "    Download and (optionally) transform the time series.\n",
    "\n",
    "    Parameters:\n",
    "    ______________________________\n",
    "    year: int\n",
    "        The year of the dataset vintage.\n",
    "\n",
    "    month: int.\n",
    "        The month of the dataset vintage.\n",
    "\n",
    "    transform: bool.\n",
    "        Whether the time series should be transformed or not.\n",
    "    '''\n",
    "\n",
    "    # get the dataset URL\n",
    "    file = f\"https://files.stlouisfed.org/files/htdocs/fred-md/monthly/{year}-{format(month, '02d')}.csv\"\n",
    "\n",
    "    # get the time series\n",
    "    data = pd.read_csv(file, skiprows=[1], index_col=0)\n",
    "    data.columns = [c.upper() for c in data.columns]\n",
    "    \n",
    "    # process the dates\n",
    "    data = data.loc[pd.notna(data.index), :]\n",
    "    data.index = pd.date_range(start=\"1959-01-01\", freq=\"MS\", periods=len(data))\n",
    "\n",
    "    if transform:\n",
    "\n",
    "        # get the transformation codes\n",
    "        tcodes = pd.read_csv(file, nrows=1, index_col=0)\n",
    "        tcodes.columns = [c.upper() for c in tcodes.columns]\n",
    "\n",
    "        # transform the time series\n",
    "        data = data.apply(lambda x: transform_series(x, tcodes[x.name].item()))\n",
    "    \n",
    "    return data"
   ]
  },
  {
   "cell_type": "markdown",
   "metadata": {
    "id": "lI_VVF7_Y-gI"
   },
   "source": [
    "Define a function for identifying the time series included in all dataset vintages between two dates."
   ]
  },
  {
   "cell_type": "code",
   "execution_count": 4,
   "metadata": {
    "id": "AzocilyjZIRt"
   },
   "outputs": [],
   "source": [
    "def get_common_series(start_month, start_year, end_month, end_year):\n",
    "    '''\n",
    "    Get the list of time series included in\n",
    "    all datasets vintages between two dates.\n",
    "\n",
    "    Parameters:\n",
    "    ______________________________\n",
    "    start_month: int.\n",
    "        The month of the start date.\n",
    "\n",
    "    start_year: int.\n",
    "        The year of the start date.\n",
    "\n",
    "    end_month: int.\n",
    "        The month of the end date.\n",
    "\n",
    "    end_year: int.\n",
    "        The year of the end date.\n",
    "    '''\n",
    "\n",
    "    # define the date range\n",
    "    dates = pd.date_range(\n",
    "        start=f\"{start_year}-{start_month}-01\",\n",
    "        end=f\"{end_year}-{end_month}-01\",\n",
    "        freq=\"MS\"\n",
    "    )\n",
    "\n",
    "    # get the list of time series included\n",
    "    # in the dataset on each date\n",
    "    series = []\n",
    "    for date in dates:\n",
    "        series.append([c.upper() for c in\n",
    "            pd.read_csv(\n",
    "                f\"https://files.stlouisfed.org/files/htdocs/fred-md/monthly/{date.year}-{format(date.month, '02d')}.csv\",\n",
    "                nrows=0,\n",
    "                index_col=0\n",
    "            ).columns\n",
    "        ])\n",
    "    \n",
    "    # return the list of time series included\n",
    "    # in the dataset on all dates\n",
    "    return list(set.intersection(*map(set, series)))"
   ]
  },
  {
   "cell_type": "markdown",
   "metadata": {
    "id": "8LjV7ZF-aR1k"
   },
   "source": [
    "Get the list of time series included in all dataset vintages between 01-2015 and 12-2023."
   ]
  },
  {
   "cell_type": "code",
   "execution_count": 5,
   "metadata": {
    "id": "IFOkhMqqZ0qx"
   },
   "outputs": [],
   "source": [
    "series = get_common_series(start_month=1, start_year=2015, end_month=12, end_year=2023)"
   ]
  },
  {
   "cell_type": "code",
   "execution_count": 6,
   "metadata": {
    "colab": {
     "base_uri": "https://localhost:8080/"
    },
    "id": "TaBMBI45adG0",
    "outputId": "512d8c51-d18b-4a81-ea5c-ed730c81d219",
    "tags": []
   },
   "outputs": [
    {
     "data": {
      "text/plain": [
       "118"
      ]
     },
     "execution_count": 6,
     "metadata": {},
     "output_type": "execute_result"
    }
   ],
   "source": [
    "len(series)"
   ]
  },
  {
   "cell_type": "markdown",
   "metadata": {
    "id": "rqWQBtTDZRJZ"
   },
   "source": [
    "Load the dataset vintage for 12-2023."
   ]
  },
  {
   "cell_type": "code",
   "execution_count": 7,
   "metadata": {
    "id": "jJF6bcLVZUKY"
   },
   "outputs": [],
   "source": [
    "dataset = get_data(year=2023, month=12, transform=False)"
   ]
  },
  {
   "cell_type": "code",
   "execution_count": 8,
   "metadata": {
    "colab": {
     "base_uri": "https://localhost:8080/"
    },
    "id": "dANuWlzTZ5gP",
    "outputId": "7ca77213-4632-46ee-fb12-c2a0dd1ab2a3"
   },
   "outputs": [
    {
     "data": {
      "text/plain": [
       "(779, 127)"
      ]
     },
     "execution_count": 8,
     "metadata": {},
     "output_type": "execute_result"
    }
   ],
   "source": [
    "dataset.shape"
   ]
  },
  {
   "cell_type": "code",
   "execution_count": 9,
   "metadata": {
    "colab": {
     "base_uri": "https://localhost:8080/",
     "height": 374
    },
    "id": "BXTTJb3IZah3",
    "outputId": "325bb78c-7c4c-4d58-8e15-87271b9d06c5"
   },
   "outputs": [
    {
     "data": {
      "text/html": [
       "<div>\n",
       "<style scoped>\n",
       "    .dataframe tbody tr th:only-of-type {\n",
       "        vertical-align: middle;\n",
       "    }\n",
       "\n",
       "    .dataframe tbody tr th {\n",
       "        vertical-align: top;\n",
       "    }\n",
       "\n",
       "    .dataframe thead th {\n",
       "        text-align: right;\n",
       "    }\n",
       "</style>\n",
       "<table border=\"1\" class=\"dataframe\">\n",
       "  <thead>\n",
       "    <tr style=\"text-align: right;\">\n",
       "      <th></th>\n",
       "      <th>RPI</th>\n",
       "      <th>W875RX1</th>\n",
       "      <th>DPCERA3M086SBEA</th>\n",
       "      <th>CMRMTSPLX</th>\n",
       "      <th>RETAILX</th>\n",
       "      <th>INDPRO</th>\n",
       "      <th>IPFPNSS</th>\n",
       "      <th>IPFINAL</th>\n",
       "      <th>IPCONGD</th>\n",
       "      <th>IPDCONGD</th>\n",
       "      <th>...</th>\n",
       "      <th>DNDGRG3M086SBEA</th>\n",
       "      <th>DSERRG3M086SBEA</th>\n",
       "      <th>CES0600000008</th>\n",
       "      <th>CES2000000008</th>\n",
       "      <th>CES3000000008</th>\n",
       "      <th>UMCSENTX</th>\n",
       "      <th>DTCOLNVHFNM</th>\n",
       "      <th>DTCTHFNM</th>\n",
       "      <th>INVEST</th>\n",
       "      <th>VIXCLSX</th>\n",
       "    </tr>\n",
       "  </thead>\n",
       "  <tbody>\n",
       "    <tr>\n",
       "      <th>1959-01-01</th>\n",
       "      <td>2583.560</td>\n",
       "      <td>2426.0</td>\n",
       "      <td>15.188</td>\n",
       "      <td>276676.8154</td>\n",
       "      <td>18235.77392</td>\n",
       "      <td>21.9665</td>\n",
       "      <td>23.3891</td>\n",
       "      <td>22.2688</td>\n",
       "      <td>31.7011</td>\n",
       "      <td>19.0149</td>\n",
       "      <td>...</td>\n",
       "      <td>18.294</td>\n",
       "      <td>10.152</td>\n",
       "      <td>2.13</td>\n",
       "      <td>2.45</td>\n",
       "      <td>2.04</td>\n",
       "      <td>NaN</td>\n",
       "      <td>6476.0</td>\n",
       "      <td>12298.0</td>\n",
       "      <td>84.2043</td>\n",
       "      <td>NaN</td>\n",
       "    </tr>\n",
       "    <tr>\n",
       "      <th>1959-02-01</th>\n",
       "      <td>2593.596</td>\n",
       "      <td>2434.8</td>\n",
       "      <td>15.346</td>\n",
       "      <td>278713.9773</td>\n",
       "      <td>18369.56308</td>\n",
       "      <td>22.3966</td>\n",
       "      <td>23.7048</td>\n",
       "      <td>22.4617</td>\n",
       "      <td>31.9337</td>\n",
       "      <td>19.1147</td>\n",
       "      <td>...</td>\n",
       "      <td>18.302</td>\n",
       "      <td>10.167</td>\n",
       "      <td>2.14</td>\n",
       "      <td>2.46</td>\n",
       "      <td>2.05</td>\n",
       "      <td>NaN</td>\n",
       "      <td>6476.0</td>\n",
       "      <td>12298.0</td>\n",
       "      <td>83.5280</td>\n",
       "      <td>NaN</td>\n",
       "    </tr>\n",
       "    <tr>\n",
       "      <th>1959-03-01</th>\n",
       "      <td>2610.396</td>\n",
       "      <td>2452.7</td>\n",
       "      <td>15.491</td>\n",
       "      <td>277775.2539</td>\n",
       "      <td>18523.05762</td>\n",
       "      <td>22.7193</td>\n",
       "      <td>23.8483</td>\n",
       "      <td>22.5719</td>\n",
       "      <td>31.9337</td>\n",
       "      <td>19.4890</td>\n",
       "      <td>...</td>\n",
       "      <td>18.289</td>\n",
       "      <td>10.185</td>\n",
       "      <td>2.15</td>\n",
       "      <td>2.45</td>\n",
       "      <td>2.07</td>\n",
       "      <td>NaN</td>\n",
       "      <td>6508.0</td>\n",
       "      <td>12349.0</td>\n",
       "      <td>81.6405</td>\n",
       "      <td>NaN</td>\n",
       "    </tr>\n",
       "    <tr>\n",
       "      <th>1959-04-01</th>\n",
       "      <td>2627.446</td>\n",
       "      <td>2470.0</td>\n",
       "      <td>15.435</td>\n",
       "      <td>283362.7075</td>\n",
       "      <td>18534.46600</td>\n",
       "      <td>23.2032</td>\n",
       "      <td>24.1927</td>\n",
       "      <td>22.9026</td>\n",
       "      <td>32.4374</td>\n",
       "      <td>19.6138</td>\n",
       "      <td>...</td>\n",
       "      <td>18.300</td>\n",
       "      <td>10.221</td>\n",
       "      <td>2.16</td>\n",
       "      <td>2.47</td>\n",
       "      <td>2.08</td>\n",
       "      <td>NaN</td>\n",
       "      <td>6620.0</td>\n",
       "      <td>12484.0</td>\n",
       "      <td>81.8099</td>\n",
       "      <td>NaN</td>\n",
       "    </tr>\n",
       "    <tr>\n",
       "      <th>1959-05-01</th>\n",
       "      <td>2642.720</td>\n",
       "      <td>2486.4</td>\n",
       "      <td>15.622</td>\n",
       "      <td>285307.2201</td>\n",
       "      <td>18679.66354</td>\n",
       "      <td>23.5528</td>\n",
       "      <td>24.3936</td>\n",
       "      <td>23.1231</td>\n",
       "      <td>32.5925</td>\n",
       "      <td>20.0130</td>\n",
       "      <td>...</td>\n",
       "      <td>18.280</td>\n",
       "      <td>10.238</td>\n",
       "      <td>2.17</td>\n",
       "      <td>2.48</td>\n",
       "      <td>2.08</td>\n",
       "      <td>95.3</td>\n",
       "      <td>6753.0</td>\n",
       "      <td>12646.0</td>\n",
       "      <td>80.7315</td>\n",
       "      <td>NaN</td>\n",
       "    </tr>\n",
       "  </tbody>\n",
       "</table>\n",
       "<p>5 rows × 127 columns</p>\n",
       "</div>"
      ],
      "text/plain": [
       "                 RPI  W875RX1  DPCERA3M086SBEA    CMRMTSPLX      RETAILX  \\\n",
       "1959-01-01  2583.560   2426.0           15.188  276676.8154  18235.77392   \n",
       "1959-02-01  2593.596   2434.8           15.346  278713.9773  18369.56308   \n",
       "1959-03-01  2610.396   2452.7           15.491  277775.2539  18523.05762   \n",
       "1959-04-01  2627.446   2470.0           15.435  283362.7075  18534.46600   \n",
       "1959-05-01  2642.720   2486.4           15.622  285307.2201  18679.66354   \n",
       "\n",
       "             INDPRO  IPFPNSS  IPFINAL  IPCONGD  IPDCONGD  ...  \\\n",
       "1959-01-01  21.9665  23.3891  22.2688  31.7011   19.0149  ...   \n",
       "1959-02-01  22.3966  23.7048  22.4617  31.9337   19.1147  ...   \n",
       "1959-03-01  22.7193  23.8483  22.5719  31.9337   19.4890  ...   \n",
       "1959-04-01  23.2032  24.1927  22.9026  32.4374   19.6138  ...   \n",
       "1959-05-01  23.5528  24.3936  23.1231  32.5925   20.0130  ...   \n",
       "\n",
       "            DNDGRG3M086SBEA  DSERRG3M086SBEA  CES0600000008  CES2000000008  \\\n",
       "1959-01-01           18.294           10.152           2.13           2.45   \n",
       "1959-02-01           18.302           10.167           2.14           2.46   \n",
       "1959-03-01           18.289           10.185           2.15           2.45   \n",
       "1959-04-01           18.300           10.221           2.16           2.47   \n",
       "1959-05-01           18.280           10.238           2.17           2.48   \n",
       "\n",
       "            CES3000000008  UMCSENTX  DTCOLNVHFNM  DTCTHFNM   INVEST  VIXCLSX  \n",
       "1959-01-01           2.04       NaN       6476.0   12298.0  84.2043      NaN  \n",
       "1959-02-01           2.05       NaN       6476.0   12298.0  83.5280      NaN  \n",
       "1959-03-01           2.07       NaN       6508.0   12349.0  81.6405      NaN  \n",
       "1959-04-01           2.08       NaN       6620.0   12484.0  81.8099      NaN  \n",
       "1959-05-01           2.08      95.3       6753.0   12646.0  80.7315      NaN  \n",
       "\n",
       "[5 rows x 127 columns]"
      ]
     },
     "execution_count": 9,
     "metadata": {},
     "output_type": "execute_result"
    }
   ],
   "source": [
    "dataset.head()"
   ]
  },
  {
   "cell_type": "code",
   "execution_count": 10,
   "metadata": {
    "colab": {
     "base_uri": "https://localhost:8080/",
     "height": 374
    },
    "id": "M4eDjKRXZtk4",
    "outputId": "8e842339-6f9f-45b0-b956-384c73276e98"
   },
   "outputs": [
    {
     "data": {
      "text/html": [
       "<div>\n",
       "<style scoped>\n",
       "    .dataframe tbody tr th:only-of-type {\n",
       "        vertical-align: middle;\n",
       "    }\n",
       "\n",
       "    .dataframe tbody tr th {\n",
       "        vertical-align: top;\n",
       "    }\n",
       "\n",
       "    .dataframe thead th {\n",
       "        text-align: right;\n",
       "    }\n",
       "</style>\n",
       "<table border=\"1\" class=\"dataframe\">\n",
       "  <thead>\n",
       "    <tr style=\"text-align: right;\">\n",
       "      <th></th>\n",
       "      <th>RPI</th>\n",
       "      <th>W875RX1</th>\n",
       "      <th>DPCERA3M086SBEA</th>\n",
       "      <th>CMRMTSPLX</th>\n",
       "      <th>RETAILX</th>\n",
       "      <th>INDPRO</th>\n",
       "      <th>IPFPNSS</th>\n",
       "      <th>IPFINAL</th>\n",
       "      <th>IPCONGD</th>\n",
       "      <th>IPDCONGD</th>\n",
       "      <th>...</th>\n",
       "      <th>DNDGRG3M086SBEA</th>\n",
       "      <th>DSERRG3M086SBEA</th>\n",
       "      <th>CES0600000008</th>\n",
       "      <th>CES2000000008</th>\n",
       "      <th>CES3000000008</th>\n",
       "      <th>UMCSENTX</th>\n",
       "      <th>DTCOLNVHFNM</th>\n",
       "      <th>DTCTHFNM</th>\n",
       "      <th>INVEST</th>\n",
       "      <th>VIXCLSX</th>\n",
       "    </tr>\n",
       "  </thead>\n",
       "  <tbody>\n",
       "    <tr>\n",
       "      <th>2023-07-01</th>\n",
       "      <td>19084.305</td>\n",
       "      <td>15680.1</td>\n",
       "      <td>116.235</td>\n",
       "      <td>1500218.0</td>\n",
       "      <td>694415.0</td>\n",
       "      <td>103.2166</td>\n",
       "      <td>101.2781</td>\n",
       "      <td>101.8032</td>\n",
       "      <td>102.3747</td>\n",
       "      <td>108.9528</td>\n",
       "      <td>...</td>\n",
       "      <td>118.354</td>\n",
       "      <td>123.192</td>\n",
       "      <td>29.63</td>\n",
       "      <td>34.22</td>\n",
       "      <td>26.49</td>\n",
       "      <td>71.5</td>\n",
       "      <td>498240.85</td>\n",
       "      <td>906519.21</td>\n",
       "      <td>5165.7242</td>\n",
       "      <td>13.8333</td>\n",
       "    </tr>\n",
       "    <tr>\n",
       "      <th>2023-08-01</th>\n",
       "      <td>19098.603</td>\n",
       "      <td>15707.7</td>\n",
       "      <td>116.171</td>\n",
       "      <td>1497717.0</td>\n",
       "      <td>699540.0</td>\n",
       "      <td>103.2158</td>\n",
       "      <td>101.4057</td>\n",
       "      <td>101.9454</td>\n",
       "      <td>102.5322</td>\n",
       "      <td>107.1502</td>\n",
       "      <td>...</td>\n",
       "      <td>120.012</td>\n",
       "      <td>123.370</td>\n",
       "      <td>29.74</td>\n",
       "      <td>34.45</td>\n",
       "      <td>26.50</td>\n",
       "      <td>69.4</td>\n",
       "      <td>504406.44</td>\n",
       "      <td>910966.86</td>\n",
       "      <td>5111.5017</td>\n",
       "      <td>15.7822</td>\n",
       "    </tr>\n",
       "    <tr>\n",
       "      <th>2023-09-01</th>\n",
       "      <td>19088.877</td>\n",
       "      <td>15719.1</td>\n",
       "      <td>116.594</td>\n",
       "      <td>1507530.0</td>\n",
       "      <td>705304.0</td>\n",
       "      <td>103.3374</td>\n",
       "      <td>101.1754</td>\n",
       "      <td>101.5370</td>\n",
       "      <td>102.2853</td>\n",
       "      <td>108.0366</td>\n",
       "      <td>...</td>\n",
       "      <td>120.395</td>\n",
       "      <td>123.976</td>\n",
       "      <td>29.90</td>\n",
       "      <td>34.54</td>\n",
       "      <td>26.64</td>\n",
       "      <td>67.9</td>\n",
       "      <td>508808.61</td>\n",
       "      <td>913938.95</td>\n",
       "      <td>5074.6634</td>\n",
       "      <td>15.0424</td>\n",
       "    </tr>\n",
       "    <tr>\n",
       "      <th>2023-10-01</th>\n",
       "      <td>19131.126</td>\n",
       "      <td>15767.9</td>\n",
       "      <td>116.682</td>\n",
       "      <td>1506491.0</td>\n",
       "      <td>703748.0</td>\n",
       "      <td>102.4189</td>\n",
       "      <td>100.4976</td>\n",
       "      <td>100.7626</td>\n",
       "      <td>101.3560</td>\n",
       "      <td>102.2019</td>\n",
       "      <td>...</td>\n",
       "      <td>120.024</td>\n",
       "      <td>124.225</td>\n",
       "      <td>29.97</td>\n",
       "      <td>34.69</td>\n",
       "      <td>26.67</td>\n",
       "      <td>63.8</td>\n",
       "      <td>511091.12</td>\n",
       "      <td>916133.37</td>\n",
       "      <td>5015.7033</td>\n",
       "      <td>19.0462</td>\n",
       "    </tr>\n",
       "    <tr>\n",
       "      <th>2023-11-01</th>\n",
       "      <td>19212.193</td>\n",
       "      <td>15858.9</td>\n",
       "      <td>117.056</td>\n",
       "      <td>NaN</td>\n",
       "      <td>705692.0</td>\n",
       "      <td>102.6651</td>\n",
       "      <td>100.6823</td>\n",
       "      <td>101.0283</td>\n",
       "      <td>101.4324</td>\n",
       "      <td>105.8217</td>\n",
       "      <td>...</td>\n",
       "      <td>118.977</td>\n",
       "      <td>124.535</td>\n",
       "      <td>30.20</td>\n",
       "      <td>34.96</td>\n",
       "      <td>26.87</td>\n",
       "      <td>61.3</td>\n",
       "      <td>NaN</td>\n",
       "      <td>NaN</td>\n",
       "      <td>5004.5065</td>\n",
       "      <td>13.8563</td>\n",
       "    </tr>\n",
       "  </tbody>\n",
       "</table>\n",
       "<p>5 rows × 127 columns</p>\n",
       "</div>"
      ],
      "text/plain": [
       "                  RPI  W875RX1  DPCERA3M086SBEA  CMRMTSPLX   RETAILX  \\\n",
       "2023-07-01  19084.305  15680.1          116.235  1500218.0  694415.0   \n",
       "2023-08-01  19098.603  15707.7          116.171  1497717.0  699540.0   \n",
       "2023-09-01  19088.877  15719.1          116.594  1507530.0  705304.0   \n",
       "2023-10-01  19131.126  15767.9          116.682  1506491.0  703748.0   \n",
       "2023-11-01  19212.193  15858.9          117.056        NaN  705692.0   \n",
       "\n",
       "              INDPRO   IPFPNSS   IPFINAL   IPCONGD  IPDCONGD  ...  \\\n",
       "2023-07-01  103.2166  101.2781  101.8032  102.3747  108.9528  ...   \n",
       "2023-08-01  103.2158  101.4057  101.9454  102.5322  107.1502  ...   \n",
       "2023-09-01  103.3374  101.1754  101.5370  102.2853  108.0366  ...   \n",
       "2023-10-01  102.4189  100.4976  100.7626  101.3560  102.2019  ...   \n",
       "2023-11-01  102.6651  100.6823  101.0283  101.4324  105.8217  ...   \n",
       "\n",
       "            DNDGRG3M086SBEA  DSERRG3M086SBEA  CES0600000008  CES2000000008  \\\n",
       "2023-07-01          118.354          123.192          29.63          34.22   \n",
       "2023-08-01          120.012          123.370          29.74          34.45   \n",
       "2023-09-01          120.395          123.976          29.90          34.54   \n",
       "2023-10-01          120.024          124.225          29.97          34.69   \n",
       "2023-11-01          118.977          124.535          30.20          34.96   \n",
       "\n",
       "            CES3000000008  UMCSENTX  DTCOLNVHFNM   DTCTHFNM     INVEST  \\\n",
       "2023-07-01          26.49      71.5    498240.85  906519.21  5165.7242   \n",
       "2023-08-01          26.50      69.4    504406.44  910966.86  5111.5017   \n",
       "2023-09-01          26.64      67.9    508808.61  913938.95  5074.6634   \n",
       "2023-10-01          26.67      63.8    511091.12  916133.37  5015.7033   \n",
       "2023-11-01          26.87      61.3          NaN        NaN  5004.5065   \n",
       "\n",
       "            VIXCLSX  \n",
       "2023-07-01  13.8333  \n",
       "2023-08-01  15.7822  \n",
       "2023-09-01  15.0424  \n",
       "2023-10-01  19.0462  \n",
       "2023-11-01  13.8563  \n",
       "\n",
       "[5 rows x 127 columns]"
      ]
     },
     "execution_count": 10,
     "metadata": {},
     "output_type": "execute_result"
    }
   ],
   "source": [
    "dataset.tail()"
   ]
  },
  {
   "cell_type": "markdown",
   "metadata": {
    "id": "tVM47h_haxOh"
   },
   "source": [
    "Get the mapping table with the time series description and groups."
   ]
  },
  {
   "cell_type": "code",
   "execution_count": 11,
   "metadata": {},
   "outputs": [
    {
     "name": "stderr",
     "output_type": "stream",
     "text": [
      "<>:38: SyntaxWarning: invalid escape sequence '\\ '\n",
      "<>:38: SyntaxWarning: invalid escape sequence '\\ '\n",
      "/var/folders/m0/qtml4m217djbdp_ly0zmwpk40000gn/T/ipykernel_13807/1470411610.py:38: SyntaxWarning: invalid escape sequence '\\ '\n",
      "  os.system(\"rm -r FRED-MD\\ Appendix\")\n"
     ]
    }
   ],
   "source": [
    "def get_mapping_table():\n",
    "    \n",
    "    # download the zip file\n",
    "    os.system(\"curl -O https://files.stlouisfed.org/files/htdocs/uploads/FRED-MD%20Appendix.zip\")\n",
    "    os.system(\"unzip -o FRED-MD%20Appendix.zip\")\n",
    "    \n",
    "    # load the mapping table\n",
    "    mapping = pd.read_csv(\n",
    "        \"FRED-MD Appendix/FRED-MD_updated_appendix.csv\", \n",
    "        encoding=\"ISO 8859-1\", \n",
    "        usecols=[\"fred\", \"description\", \"group\"]\n",
    "    )\n",
    "    \n",
    "    # process the time series names\n",
    "    mapping[\"fred\"] = mapping[\"fred\"].apply(lambda x: x.upper())\n",
    "    \n",
    "    # process the time series descriptions  \n",
    "    mapping[\"description\"] = mapping[\"description\"].apply(lambda x: x.encode(\"ascii\", \"ignore\").decode(\"unicode_escape\").strip())\n",
    "    mapping[\"description\"] = mapping[\"description\"].apply(lambda x: x.replace(\"  \", \" \").replace(\" :\", \":\"))\n",
    "    mapping[\"description\"] = mapping[\"description\"].apply(lambda x: x[:-1] if x.endswith(\":\") else x)\n",
    "        \n",
    "    # add the group names\n",
    "    group_names = {\n",
    "        1: \"Output and Income\",\n",
    "        2: \"Labor Market\",\n",
    "        3: \"Consumption and Orders\",\n",
    "        4: \"Orders and Inventories\",\n",
    "        5: \"Money and Credit\",\n",
    "        6: \"Interest Rates and Exchange Rates\",\n",
    "        7: \"Prices\",\n",
    "        8: \"Stock Market\"\n",
    "    }\n",
    "    \n",
    "    mapping[\"group_name\"] = mapping[\"group\"].apply(lambda x: group_names[x])\n",
    "    \n",
    "    # delete the zip file\n",
    "    os.system(\"rm FRED-MD%20Appendix.zip\")\n",
    "    os.system(\"rm -r FRED-MD\\ Appendix\")\n",
    "    \n",
    "    return mapping.sort_values(by=[\"group\", \"description\"], ignore_index=True)"
   ]
  },
  {
   "cell_type": "code",
   "execution_count": 12,
   "metadata": {
    "id": "rbhvhr84arS3"
   },
   "outputs": [
    {
     "name": "stderr",
     "output_type": "stream",
     "text": [
      "  % Total    % Received % Xferd  Average Speed   Time    Time     Time  Current\n",
      "                                 Dload  Upload   Total   Spent    Left  Speed\n",
      "  0     0    0     0    0     0      0      0 --:--:-- --:--:-- --:--:--     0"
     ]
    },
    {
     "name": "stdout",
     "output_type": "stream",
     "text": [
      "Archive:  FRED-MD%20Appendix.zip\n",
      "   creating: FRED-MD Appendix/\n",
      "  inflating: FRED-MD Appendix/FRED-MD_historic_appendix.csv  \n",
      "  inflating: FRED-MD Appendix/FRED-MD_historic_appendix.pdf  \n",
      "  inflating: FRED-MD Appendix/FRED-MD_updated_appendix.csv  \n",
      "  inflating: FRED-MD Appendix/FRED-MD_updated_appendix.pdf  \n",
      "  inflating: FRED-MD Appendix/README.txt  \n"
     ]
    },
    {
     "name": "stderr",
     "output_type": "stream",
     "text": [
      "100  236k  100  236k    0     0   606k      0 --:--:-- --:--:-- --:--:--  616k\n"
     ]
    }
   ],
   "source": [
    "mapping = get_mapping_table()"
   ]
  },
  {
   "cell_type": "code",
   "execution_count": 13,
   "metadata": {},
   "outputs": [
    {
     "data": {
      "text/plain": [
       "group_name\n",
       "Labor Market                         31\n",
       "Interest Rates and Exchange Rates    22\n",
       "Prices                               20\n",
       "Output and Income                    16\n",
       "Money and Credit                     13\n",
       "Consumption and Orders               10\n",
       "Orders and Inventories               10\n",
       "Stock Market                          5\n",
       "Name: fred, dtype: int64"
      ]
     },
     "execution_count": 13,
     "metadata": {},
     "output_type": "execute_result"
    }
   ],
   "source": [
    "mapping.groupby(by=\"group_name\")[\"fred\"].count().sort_values(ascending=False)"
   ]
  },
  {
   "cell_type": "code",
   "execution_count": 14,
   "metadata": {},
   "outputs": [
    {
     "data": {
      "text/plain": [
       "(127, 4)"
      ]
     },
     "execution_count": 14,
     "metadata": {},
     "output_type": "execute_result"
    }
   ],
   "source": [
    "mapping.shape"
   ]
  },
  {
   "cell_type": "code",
   "execution_count": 15,
   "metadata": {
    "colab": {
     "base_uri": "https://localhost:8080/",
     "height": 206
    },
    "id": "iok-c9zdgrm6",
    "outputId": "1dfc1639-5f96-4d27-eeb7-9a286fdf5372"
   },
   "outputs": [
    {
     "data": {
      "text/html": [
       "<div>\n",
       "<style scoped>\n",
       "    .dataframe tbody tr th:only-of-type {\n",
       "        vertical-align: middle;\n",
       "    }\n",
       "\n",
       "    .dataframe tbody tr th {\n",
       "        vertical-align: top;\n",
       "    }\n",
       "\n",
       "    .dataframe thead th {\n",
       "        text-align: right;\n",
       "    }\n",
       "</style>\n",
       "<table border=\"1\" class=\"dataframe\">\n",
       "  <thead>\n",
       "    <tr style=\"text-align: right;\">\n",
       "      <th></th>\n",
       "      <th>fred</th>\n",
       "      <th>description</th>\n",
       "      <th>group</th>\n",
       "      <th>group_name</th>\n",
       "    </tr>\n",
       "  </thead>\n",
       "  <tbody>\n",
       "    <tr>\n",
       "      <th>0</th>\n",
       "      <td>CUMFNS</td>\n",
       "      <td>Capacity Utilization: Manufacturing</td>\n",
       "      <td>1</td>\n",
       "      <td>Output and Income</td>\n",
       "    </tr>\n",
       "    <tr>\n",
       "      <th>1</th>\n",
       "      <td>INDPRO</td>\n",
       "      <td>IP Index</td>\n",
       "      <td>1</td>\n",
       "      <td>Output and Income</td>\n",
       "    </tr>\n",
       "    <tr>\n",
       "      <th>2</th>\n",
       "      <td>IPBUSEQ</td>\n",
       "      <td>IP: Business Equipment</td>\n",
       "      <td>1</td>\n",
       "      <td>Output and Income</td>\n",
       "    </tr>\n",
       "    <tr>\n",
       "      <th>3</th>\n",
       "      <td>IPCONGD</td>\n",
       "      <td>IP: Consumer Goods</td>\n",
       "      <td>1</td>\n",
       "      <td>Output and Income</td>\n",
       "    </tr>\n",
       "    <tr>\n",
       "      <th>4</th>\n",
       "      <td>IPDCONGD</td>\n",
       "      <td>IP: Durable Consumer Goods</td>\n",
       "      <td>1</td>\n",
       "      <td>Output and Income</td>\n",
       "    </tr>\n",
       "  </tbody>\n",
       "</table>\n",
       "</div>"
      ],
      "text/plain": [
       "       fred                          description  group         group_name\n",
       "0    CUMFNS  Capacity Utilization: Manufacturing      1  Output and Income\n",
       "1    INDPRO                             IP Index      1  Output and Income\n",
       "2   IPBUSEQ               IP: Business Equipment      1  Output and Income\n",
       "3   IPCONGD                   IP: Consumer Goods      1  Output and Income\n",
       "4  IPDCONGD           IP: Durable Consumer Goods      1  Output and Income"
      ]
     },
     "execution_count": 15,
     "metadata": {},
     "output_type": "execute_result"
    }
   ],
   "source": [
    "mapping.head()"
   ]
  },
  {
   "cell_type": "code",
   "execution_count": 16,
   "metadata": {
    "colab": {
     "base_uri": "https://localhost:8080/",
     "height": 206
    },
    "id": "xiilMLjKh3n4",
    "outputId": "3b9c3ef1-99f9-4b96-e675-6ae781829731"
   },
   "outputs": [
    {
     "data": {
      "text/html": [
       "<div>\n",
       "<style scoped>\n",
       "    .dataframe tbody tr th:only-of-type {\n",
       "        vertical-align: middle;\n",
       "    }\n",
       "\n",
       "    .dataframe tbody tr th {\n",
       "        vertical-align: top;\n",
       "    }\n",
       "\n",
       "    .dataframe thead th {\n",
       "        text-align: right;\n",
       "    }\n",
       "</style>\n",
       "<table border=\"1\" class=\"dataframe\">\n",
       "  <thead>\n",
       "    <tr style=\"text-align: right;\">\n",
       "      <th></th>\n",
       "      <th>fred</th>\n",
       "      <th>description</th>\n",
       "      <th>group</th>\n",
       "      <th>group_name</th>\n",
       "    </tr>\n",
       "  </thead>\n",
       "  <tbody>\n",
       "    <tr>\n",
       "      <th>122</th>\n",
       "      <td>S&amp;P 500</td>\n",
       "      <td>S&amp;Ps Common Stock Price Index: Composite</td>\n",
       "      <td>8</td>\n",
       "      <td>Stock Market</td>\n",
       "    </tr>\n",
       "    <tr>\n",
       "      <th>123</th>\n",
       "      <td>S&amp;P: INDUST</td>\n",
       "      <td>S&amp;Ps Common Stock Price Index: Industrials</td>\n",
       "      <td>8</td>\n",
       "      <td>Stock Market</td>\n",
       "    </tr>\n",
       "    <tr>\n",
       "      <th>124</th>\n",
       "      <td>S&amp;P DIV YIELD</td>\n",
       "      <td>S&amp;Ps Composite Common Stock: Dividend Yield</td>\n",
       "      <td>8</td>\n",
       "      <td>Stock Market</td>\n",
       "    </tr>\n",
       "    <tr>\n",
       "      <th>125</th>\n",
       "      <td>S&amp;P PE RATIO</td>\n",
       "      <td>S&amp;Ps Composite Common Stock: Price-Earnings Ratio</td>\n",
       "      <td>8</td>\n",
       "      <td>Stock Market</td>\n",
       "    </tr>\n",
       "    <tr>\n",
       "      <th>126</th>\n",
       "      <td>VIXCLSX</td>\n",
       "      <td>VIX</td>\n",
       "      <td>8</td>\n",
       "      <td>Stock Market</td>\n",
       "    </tr>\n",
       "  </tbody>\n",
       "</table>\n",
       "</div>"
      ],
      "text/plain": [
       "              fred                                        description  group  \\\n",
       "122        S&P 500           S&Ps Common Stock Price Index: Composite      8   \n",
       "123    S&P: INDUST         S&Ps Common Stock Price Index: Industrials      8   \n",
       "124  S&P DIV YIELD        S&Ps Composite Common Stock: Dividend Yield      8   \n",
       "125   S&P PE RATIO  S&Ps Composite Common Stock: Price-Earnings Ratio      8   \n",
       "126        VIXCLSX                                                VIX      8   \n",
       "\n",
       "       group_name  \n",
       "122  Stock Market  \n",
       "123  Stock Market  \n",
       "124  Stock Market  \n",
       "125  Stock Market  \n",
       "126  Stock Market  "
      ]
     },
     "execution_count": 16,
     "metadata": {},
     "output_type": "execute_result"
    }
   ],
   "source": [
    "mapping.tail()"
   ]
  }
 ],
 "metadata": {
  "colab": {
   "provenance": []
  },
  "kernelspec": {
   "display_name": "Python 3 (ipykernel)",
   "language": "python",
   "name": "python3"
  },
  "language_info": {
   "codemirror_mode": {
    "name": "ipython",
    "version": 3
   },
   "file_extension": ".py",
   "mimetype": "text/x-python",
   "name": "python",
   "nbconvert_exporter": "python",
   "pygments_lexer": "ipython3",
   "version": "3.12.2"
  }
 },
 "nbformat": 4,
 "nbformat_minor": 4
}

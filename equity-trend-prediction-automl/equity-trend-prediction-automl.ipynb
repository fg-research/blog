{
 "cells": [
  {
   "cell_type": "markdown",
   "id": "89aa67b6-4594-42f0-8379-9b6c9ceb7943",
   "metadata": {
    "tags": []
   },
   "source": [
    "# Predicting Stock Market Trends with Amazon SageMaker Autopilot\n",
    "\n",
    "**Paper:** https://doi.org/doi:10.1016/j.eswa.2010.10.027\n",
    "\n",
    "**Blog post:** https://fg-research.com/blog/general/posts/equity-trend-prediction-automl.html"
   ]
  },
  {
   "cell_type": "markdown",
   "id": "3c73d16b-18fb-4ceb-a175-ceb040e8a89b",
   "metadata": {
    "tags": []
   },
   "source": [
    "## Environment Set-Up"
   ]
  },
  {
   "cell_type": "code",
   "execution_count": 1,
   "id": "fe780b9d-033b-400d-baf5-29ba959dd7c2",
   "metadata": {
    "tags": []
   },
   "outputs": [
    {
     "name": "stdout",
     "output_type": "stream",
     "text": [
      "Requirement already satisfied: yfinance in /home/ec2-user/anaconda3/envs/python3/lib/python3.10/site-packages (0.2.41)\n",
      "Requirement already satisfied: pyti in /home/ec2-user/anaconda3/envs/python3/lib/python3.10/site-packages (0.2.2)\n",
      "Requirement already satisfied: pandas>=1.3.0 in /home/ec2-user/anaconda3/envs/python3/lib/python3.10/site-packages (from yfinance) (2.2.2)\n",
      "Requirement already satisfied: numpy>=1.16.5 in /home/ec2-user/anaconda3/envs/python3/lib/python3.10/site-packages (from yfinance) (1.22.4)\n",
      "Requirement already satisfied: requests>=2.31 in /home/ec2-user/anaconda3/envs/python3/lib/python3.10/site-packages (from yfinance) (2.32.3)\n",
      "Requirement already satisfied: multitasking>=0.0.7 in /home/ec2-user/anaconda3/envs/python3/lib/python3.10/site-packages (from yfinance) (0.0.11)\n",
      "Requirement already satisfied: lxml>=4.9.1 in /home/ec2-user/anaconda3/envs/python3/lib/python3.10/site-packages (from yfinance) (5.3.0)\n",
      "Requirement already satisfied: platformdirs>=2.0.0 in /home/ec2-user/anaconda3/envs/python3/lib/python3.10/site-packages (from yfinance) (4.2.2)\n",
      "Requirement already satisfied: pytz>=2022.5 in /home/ec2-user/anaconda3/envs/python3/lib/python3.10/site-packages (from yfinance) (2024.1)\n",
      "Requirement already satisfied: frozendict>=2.3.4 in /home/ec2-user/anaconda3/envs/python3/lib/python3.10/site-packages (from yfinance) (2.4.4)\n",
      "Requirement already satisfied: peewee>=3.16.2 in /home/ec2-user/anaconda3/envs/python3/lib/python3.10/site-packages (from yfinance) (3.17.6)\n",
      "Requirement already satisfied: beautifulsoup4>=4.11.1 in /home/ec2-user/anaconda3/envs/python3/lib/python3.10/site-packages (from yfinance) (4.12.3)\n",
      "Requirement already satisfied: html5lib>=1.1 in /home/ec2-user/anaconda3/envs/python3/lib/python3.10/site-packages (from yfinance) (1.1)\n",
      "Requirement already satisfied: soupsieve>1.2 in /home/ec2-user/anaconda3/envs/python3/lib/python3.10/site-packages (from beautifulsoup4>=4.11.1->yfinance) (2.5)\n",
      "Requirement already satisfied: six>=1.9 in /home/ec2-user/anaconda3/envs/python3/lib/python3.10/site-packages (from html5lib>=1.1->yfinance) (1.16.0)\n",
      "Requirement already satisfied: webencodings in /home/ec2-user/anaconda3/envs/python3/lib/python3.10/site-packages (from html5lib>=1.1->yfinance) (0.5.1)\n",
      "Requirement already satisfied: python-dateutil>=2.8.2 in /home/ec2-user/anaconda3/envs/python3/lib/python3.10/site-packages (from pandas>=1.3.0->yfinance) (2.9.0)\n",
      "Requirement already satisfied: tzdata>=2022.7 in /home/ec2-user/anaconda3/envs/python3/lib/python3.10/site-packages (from pandas>=1.3.0->yfinance) (2024.1)\n",
      "Requirement already satisfied: charset-normalizer<4,>=2 in /home/ec2-user/anaconda3/envs/python3/lib/python3.10/site-packages (from requests>=2.31->yfinance) (3.3.2)\n",
      "Requirement already satisfied: idna<4,>=2.5 in /home/ec2-user/anaconda3/envs/python3/lib/python3.10/site-packages (from requests>=2.31->yfinance) (3.7)\n",
      "Requirement already satisfied: urllib3<3,>=1.21.1 in /home/ec2-user/anaconda3/envs/python3/lib/python3.10/site-packages (from requests>=2.31->yfinance) (2.2.1)\n",
      "Requirement already satisfied: certifi>=2017.4.17 in /home/ec2-user/anaconda3/envs/python3/lib/python3.10/site-packages (from requests>=2.31->yfinance) (2024.6.2)\n"
     ]
    }
   ],
   "source": [
    "!pip install yfinance pyti"
   ]
  },
  {
   "cell_type": "code",
   "execution_count": 2,
   "id": "272b2138-dcb6-42aa-b9db-f841bb962781",
   "metadata": {
    "tags": []
   },
   "outputs": [
    {
     "name": "stdout",
     "output_type": "stream",
     "text": [
      "sagemaker.config INFO - Not applying SDK defaults from location: /etc/xdg/sagemaker/config.yaml\n",
      "sagemaker.config INFO - Not applying SDK defaults from location: /home/ec2-user/.config/sagemaker/config.yaml\n"
     ]
    }
   ],
   "source": [
    "import warnings\n",
    "import io\n",
    "import json\n",
    "import sagemaker\n",
    "import yfinance as yf\n",
    "import pandas as pd\n",
    "import numpy as np\n",
    "from pyti.simple_moving_average import simple_moving_average\n",
    "from pyti.weighted_moving_average import weighted_moving_average\n",
    "from pyti.momentum import momentum\n",
    "from pyti.stochastic import percent_k, percent_d\n",
    "from pyti.williams_percent_r import williams_percent_r\n",
    "from pyti.accumulation_distribution import accumulation_distribution\n",
    "from pyti.moving_average_convergence_divergence import moving_average_convergence_divergence\n",
    "from pyti.relative_strength_index import relative_strength_index\n",
    "from pyti.commodity_channel_index import commodity_channel_index\n",
    "from sklearn.metrics import precision_score, recall_score, f1_score, accuracy_score, roc_auc_score\n",
    "warnings.filterwarnings(action=\"ignore\")\n",
    "\n",
    "# SageMaker session\n",
    "session = sagemaker.Session()\n",
    "\n",
    "# SageMaker role\n",
    "role = sagemaker.get_execution_role()\n",
    "\n",
    "# S3 bucket\n",
    "bucket = session.default_bucket()"
   ]
  },
  {
   "cell_type": "markdown",
   "id": "d6c8f676-f6f0-416b-9a4a-b757450a44b2",
   "metadata": {
    "tags": []
   },
   "source": [
    "## Data Preparation"
   ]
  },
  {
   "cell_type": "markdown",
   "id": "5c5b935c-c8d6-4cd1-a458-a0fda7bf2f9b",
   "metadata": {},
   "source": [
    "Download the data."
   ]
  },
  {
   "cell_type": "code",
   "execution_count": 3,
   "id": "94f79819-88c2-4895-9c7e-3dc01c1d2e19",
   "metadata": {
    "tags": []
   },
   "outputs": [
    {
     "name": "stderr",
     "output_type": "stream",
     "text": [
      "[*********************100%%**********************]  1 of 1 completed\n"
     ]
    }
   ],
   "source": [
    "dataset = yf.download(tickers=\"^SPX\", start=\"2021-08-01\", end=\"2024-08-01\")"
   ]
  },
  {
   "cell_type": "code",
   "execution_count": 4,
   "id": "31d5fe7b-d806-406c-bbfc-1015d30c6fa5",
   "metadata": {
    "tags": []
   },
   "outputs": [
    {
     "data": {
      "text/plain": [
       "(754, 6)"
      ]
     },
     "execution_count": 4,
     "metadata": {},
     "output_type": "execute_result"
    }
   ],
   "source": [
    "dataset.shape"
   ]
  },
  {
   "cell_type": "code",
   "execution_count": 5,
   "id": "8aa1c6b6-7d6d-4446-bf83-dd7bf3a38c76",
   "metadata": {
    "tags": []
   },
   "outputs": [
    {
     "data": {
      "text/html": [
       "<div>\n",
       "<style scoped>\n",
       "    .dataframe tbody tr th:only-of-type {\n",
       "        vertical-align: middle;\n",
       "    }\n",
       "\n",
       "    .dataframe tbody tr th {\n",
       "        vertical-align: top;\n",
       "    }\n",
       "\n",
       "    .dataframe thead th {\n",
       "        text-align: right;\n",
       "    }\n",
       "</style>\n",
       "<table border=\"1\" class=\"dataframe\">\n",
       "  <thead>\n",
       "    <tr style=\"text-align: right;\">\n",
       "      <th></th>\n",
       "      <th>Open</th>\n",
       "      <th>High</th>\n",
       "      <th>Low</th>\n",
       "      <th>Close</th>\n",
       "      <th>Adj Close</th>\n",
       "      <th>Volume</th>\n",
       "    </tr>\n",
       "    <tr>\n",
       "      <th>Date</th>\n",
       "      <th></th>\n",
       "      <th></th>\n",
       "      <th></th>\n",
       "      <th></th>\n",
       "      <th></th>\n",
       "      <th></th>\n",
       "    </tr>\n",
       "  </thead>\n",
       "  <tbody>\n",
       "    <tr>\n",
       "      <th>2021-08-02</th>\n",
       "      <td>4406.859863</td>\n",
       "      <td>4422.180176</td>\n",
       "      <td>4384.810059</td>\n",
       "      <td>4387.160156</td>\n",
       "      <td>4387.160156</td>\n",
       "      <td>3724090000</td>\n",
       "    </tr>\n",
       "    <tr>\n",
       "      <th>2021-08-03</th>\n",
       "      <td>4392.740234</td>\n",
       "      <td>4423.790039</td>\n",
       "      <td>4373.000000</td>\n",
       "      <td>4423.149902</td>\n",
       "      <td>4423.149902</td>\n",
       "      <td>3965190000</td>\n",
       "    </tr>\n",
       "    <tr>\n",
       "      <th>2021-08-04</th>\n",
       "      <td>4415.950195</td>\n",
       "      <td>4416.169922</td>\n",
       "      <td>4400.229980</td>\n",
       "      <td>4402.660156</td>\n",
       "      <td>4402.660156</td>\n",
       "      <td>4260760000</td>\n",
       "    </tr>\n",
       "    <tr>\n",
       "      <th>2021-08-05</th>\n",
       "      <td>4408.859863</td>\n",
       "      <td>4429.759766</td>\n",
       "      <td>4408.859863</td>\n",
       "      <td>4429.100098</td>\n",
       "      <td>4429.100098</td>\n",
       "      <td>3769410000</td>\n",
       "    </tr>\n",
       "    <tr>\n",
       "      <th>2021-08-06</th>\n",
       "      <td>4429.069824</td>\n",
       "      <td>4440.819824</td>\n",
       "      <td>4429.069824</td>\n",
       "      <td>4436.520020</td>\n",
       "      <td>4436.520020</td>\n",
       "      <td>3451870000</td>\n",
       "    </tr>\n",
       "  </tbody>\n",
       "</table>\n",
       "</div>"
      ],
      "text/plain": [
       "                   Open         High          Low        Close    Adj Close  \\\n",
       "Date                                                                          \n",
       "2021-08-02  4406.859863  4422.180176  4384.810059  4387.160156  4387.160156   \n",
       "2021-08-03  4392.740234  4423.790039  4373.000000  4423.149902  4423.149902   \n",
       "2021-08-04  4415.950195  4416.169922  4400.229980  4402.660156  4402.660156   \n",
       "2021-08-05  4408.859863  4429.759766  4408.859863  4429.100098  4429.100098   \n",
       "2021-08-06  4429.069824  4440.819824  4429.069824  4436.520020  4436.520020   \n",
       "\n",
       "                Volume  \n",
       "Date                    \n",
       "2021-08-02  3724090000  \n",
       "2021-08-03  3965190000  \n",
       "2021-08-04  4260760000  \n",
       "2021-08-05  3769410000  \n",
       "2021-08-06  3451870000  "
      ]
     },
     "execution_count": 5,
     "metadata": {},
     "output_type": "execute_result"
    }
   ],
   "source": [
    "dataset.head()"
   ]
  },
  {
   "cell_type": "code",
   "execution_count": 6,
   "id": "ddfbcbbc-a292-481c-b923-456653197fb3",
   "metadata": {
    "tags": []
   },
   "outputs": [
    {
     "data": {
      "text/html": [
       "<div>\n",
       "<style scoped>\n",
       "    .dataframe tbody tr th:only-of-type {\n",
       "        vertical-align: middle;\n",
       "    }\n",
       "\n",
       "    .dataframe tbody tr th {\n",
       "        vertical-align: top;\n",
       "    }\n",
       "\n",
       "    .dataframe thead th {\n",
       "        text-align: right;\n",
       "    }\n",
       "</style>\n",
       "<table border=\"1\" class=\"dataframe\">\n",
       "  <thead>\n",
       "    <tr style=\"text-align: right;\">\n",
       "      <th></th>\n",
       "      <th>Open</th>\n",
       "      <th>High</th>\n",
       "      <th>Low</th>\n",
       "      <th>Close</th>\n",
       "      <th>Adj Close</th>\n",
       "      <th>Volume</th>\n",
       "    </tr>\n",
       "    <tr>\n",
       "      <th>Date</th>\n",
       "      <th></th>\n",
       "      <th></th>\n",
       "      <th></th>\n",
       "      <th></th>\n",
       "      <th></th>\n",
       "      <th></th>\n",
       "    </tr>\n",
       "  </thead>\n",
       "  <tbody>\n",
       "    <tr>\n",
       "      <th>2024-07-25</th>\n",
       "      <td>5428.700195</td>\n",
       "      <td>5491.589844</td>\n",
       "      <td>5390.950195</td>\n",
       "      <td>5399.220215</td>\n",
       "      <td>5399.220215</td>\n",
       "      <td>4592120000</td>\n",
       "    </tr>\n",
       "    <tr>\n",
       "      <th>2024-07-26</th>\n",
       "      <td>5433.669922</td>\n",
       "      <td>5488.319824</td>\n",
       "      <td>5430.700195</td>\n",
       "      <td>5459.100098</td>\n",
       "      <td>5459.100098</td>\n",
       "      <td>3638770000</td>\n",
       "    </tr>\n",
       "    <tr>\n",
       "      <th>2024-07-29</th>\n",
       "      <td>5476.549805</td>\n",
       "      <td>5487.740234</td>\n",
       "      <td>5444.439941</td>\n",
       "      <td>5463.540039</td>\n",
       "      <td>5463.540039</td>\n",
       "      <td>3379970000</td>\n",
       "    </tr>\n",
       "    <tr>\n",
       "      <th>2024-07-30</th>\n",
       "      <td>5478.729980</td>\n",
       "      <td>5489.459961</td>\n",
       "      <td>5401.700195</td>\n",
       "      <td>5436.439941</td>\n",
       "      <td>5436.439941</td>\n",
       "      <td>3777740000</td>\n",
       "    </tr>\n",
       "    <tr>\n",
       "      <th>2024-07-31</th>\n",
       "      <td>5505.589844</td>\n",
       "      <td>5551.509766</td>\n",
       "      <td>5493.750000</td>\n",
       "      <td>5522.299805</td>\n",
       "      <td>5522.299805</td>\n",
       "      <td>4546910000</td>\n",
       "    </tr>\n",
       "  </tbody>\n",
       "</table>\n",
       "</div>"
      ],
      "text/plain": [
       "                   Open         High          Low        Close    Adj Close  \\\n",
       "Date                                                                          \n",
       "2024-07-25  5428.700195  5491.589844  5390.950195  5399.220215  5399.220215   \n",
       "2024-07-26  5433.669922  5488.319824  5430.700195  5459.100098  5459.100098   \n",
       "2024-07-29  5476.549805  5487.740234  5444.439941  5463.540039  5463.540039   \n",
       "2024-07-30  5478.729980  5489.459961  5401.700195  5436.439941  5436.439941   \n",
       "2024-07-31  5505.589844  5551.509766  5493.750000  5522.299805  5522.299805   \n",
       "\n",
       "                Volume  \n",
       "Date                    \n",
       "2024-07-25  4592120000  \n",
       "2024-07-26  3638770000  \n",
       "2024-07-29  3379970000  \n",
       "2024-07-30  3777740000  \n",
       "2024-07-31  4546910000  "
      ]
     },
     "execution_count": 6,
     "metadata": {},
     "output_type": "execute_result"
    }
   ],
   "source": [
    "dataset.tail()"
   ]
  },
  {
   "cell_type": "markdown",
   "id": "5c1b5bc8-823a-4091-8865-3fafb4782d6b",
   "metadata": {},
   "source": [
    "Calculate the technical indicators."
   ]
  },
  {
   "cell_type": "code",
   "execution_count": 7,
   "id": "85200c8f-1b11-485e-97b9-3d71347cbe58",
   "metadata": {},
   "outputs": [],
   "source": [
    "# simple moving average\n",
    "dataset[\"Simple MA\"] = simple_moving_average(\n",
    "    data=dataset[\"Close\"],\n",
    "    period=10\n",
    ")\n",
    "\n",
    "# weighted moving average\n",
    "dataset[\"Weighted MA\"] = weighted_moving_average(\n",
    "    data=dataset[\"Close\"],\n",
    "    period=10\n",
    ")\n",
    "\n",
    "# momentum\n",
    "dataset[\"Momentum\"] = momentum(\n",
    "    data=dataset[\"Close\"],\n",
    "    period=10\n",
    ")\n",
    "\n",
    "# stochastic K%\n",
    "dataset[\"Stochastic K%\"] = percent_k(\n",
    "    data=dataset[\"Close\"],\n",
    "    period=10\n",
    ")\n",
    "\n",
    "# stochastic D%\n",
    "dataset[\"Stochastic D%\"] = percent_d(\n",
    "    data=dataset[\"Close\"],\n",
    "    period=10\n",
    ")\n",
    "\n",
    "# relative strength index\n",
    "dataset[\"RSI\"] = relative_strength_index(\n",
    "    data=dataset[\"Close\"],\n",
    "    period=10\n",
    ")\n",
    "\n",
    "# moving average convergence divergence\n",
    "dataset[\"MACD\"] = moving_average_convergence_divergence(\n",
    "    data=dataset[\"Close\"],\n",
    "    short_period=12,\n",
    "    long_period=26\n",
    ")\n",
    "\n",
    "# Larry William’s R%\n",
    "dataset[\"LW R%\"] = williams_percent_r(\n",
    "    close_data=dataset[\"Close\"],\n",
    ")\n",
    "\n",
    "# accumulation / distribution oscillator\n",
    "dataset[\"A/D Oscillator\"] = accumulation_distribution(\n",
    "    close_data=dataset[\"Close\"],\n",
    "    low_data=dataset[\"Low\"],\n",
    "    high_data=dataset[\"High\"],\n",
    "    volume=dataset[\"Volume\"]\n",
    ")\n",
    "\n",
    "# commodity channel index\n",
    "dataset[\"CCI\"] = commodity_channel_index(\n",
    "    close_data=dataset[\"Close\"],\n",
    "    low_data=dataset[\"Low\"],\n",
    "    high_data=dataset[\"High\"],\n",
    "    period=10\n",
    ")"
   ]
  },
  {
   "cell_type": "markdown",
   "id": "b4903b0e-da56-42b9-a8d9-f337bdf47263",
   "metadata": {},
   "source": [
    "Derive the class labels (up = `1`, down = `0`)."
   ]
  },
  {
   "cell_type": "code",
   "execution_count": 8,
   "id": "a05d8782-9b48-44fb-ba0a-19b2ca63bfa2",
   "metadata": {},
   "outputs": [],
   "source": [
    "dataset.insert(0, \"Trend\", (dataset[\"Close\"].shift(periods=-1) > dataset[\"Close\"]).mask(dataset[\"Close\"].shift(periods=-1).isna()).astype(float))"
   ]
  },
  {
   "cell_type": "markdown",
   "id": "23f023b4-8e5c-4470-b98a-7888d177a31b",
   "metadata": {},
   "source": [
    "Drop the unnecessary columns."
   ]
  },
  {
   "cell_type": "code",
   "execution_count": 9,
   "id": "aa2ac013-8e36-4be3-9a5b-352578984448",
   "metadata": {},
   "outputs": [],
   "source": [
    "dataset.drop(labels=[\"Close\", \"Open\", \"High\", \"Low\", \"Volume\", \"Adj Close\"], axis=1, inplace=True)"
   ]
  },
  {
   "cell_type": "markdown",
   "id": "85d4182c-e92a-45d9-b4bd-dd413a101bd0",
   "metadata": {},
   "source": [
    "Drop the missing values."
   ]
  },
  {
   "cell_type": "code",
   "execution_count": 10,
   "id": "777f57f9-64b7-4430-88c9-ec1af7105ee2",
   "metadata": {
    "tags": []
   },
   "outputs": [],
   "source": [
    "dataset.dropna(inplace=True)"
   ]
  },
  {
   "cell_type": "code",
   "execution_count": 11,
   "id": "bdf2f6fa-922f-4175-b835-bb067f277ed8",
   "metadata": {},
   "outputs": [
    {
     "data": {
      "text/plain": [
       "(728, 11)"
      ]
     },
     "execution_count": 11,
     "metadata": {},
     "output_type": "execute_result"
    }
   ],
   "source": [
    "dataset.shape"
   ]
  },
  {
   "cell_type": "code",
   "execution_count": 12,
   "id": "8e60c5fe-e27b-47c6-9350-4825ef746f37",
   "metadata": {},
   "outputs": [
    {
     "data": {
      "text/html": [
       "<div>\n",
       "<style scoped>\n",
       "    .dataframe tbody tr th:only-of-type {\n",
       "        vertical-align: middle;\n",
       "    }\n",
       "\n",
       "    .dataframe tbody tr th {\n",
       "        vertical-align: top;\n",
       "    }\n",
       "\n",
       "    .dataframe thead th {\n",
       "        text-align: right;\n",
       "    }\n",
       "</style>\n",
       "<table border=\"1\" class=\"dataframe\">\n",
       "  <thead>\n",
       "    <tr style=\"text-align: right;\">\n",
       "      <th></th>\n",
       "      <th>Trend</th>\n",
       "      <th>Simple MA</th>\n",
       "      <th>Weighted MA</th>\n",
       "      <th>Momentum</th>\n",
       "      <th>Stochastic K%</th>\n",
       "      <th>Stochastic D%</th>\n",
       "      <th>RSI</th>\n",
       "      <th>MACD</th>\n",
       "      <th>LW R%</th>\n",
       "      <th>A/D Oscillator</th>\n",
       "      <th>CCI</th>\n",
       "    </tr>\n",
       "    <tr>\n",
       "      <th>Date</th>\n",
       "      <th></th>\n",
       "      <th></th>\n",
       "      <th></th>\n",
       "      <th></th>\n",
       "      <th></th>\n",
       "      <th></th>\n",
       "      <th></th>\n",
       "      <th></th>\n",
       "      <th></th>\n",
       "      <th></th>\n",
       "      <th></th>\n",
       "    </tr>\n",
       "  </thead>\n",
       "  <tbody>\n",
       "    <tr>\n",
       "      <th>2021-09-07</th>\n",
       "      <td>0.0</td>\n",
       "      <td>4512.976025</td>\n",
       "      <td>4521.627663</td>\n",
       "      <td>33.799805</td>\n",
       "      <td>0.747269</td>\n",
       "      <td>0.908188</td>\n",
       "      <td>63.584309</td>\n",
       "      <td>29.019350</td>\n",
       "      <td>-54.884068</td>\n",
       "      <td>1.653819e+10</td>\n",
       "      <td>1.835139</td>\n",
       "    </tr>\n",
       "    <tr>\n",
       "      <th>2021-09-08</th>\n",
       "      <td>0.0</td>\n",
       "      <td>4515.760010</td>\n",
       "      <td>4521.826536</td>\n",
       "      <td>17.879883</td>\n",
       "      <td>0.658248</td>\n",
       "      <td>0.794271</td>\n",
       "      <td>61.036421</td>\n",
       "      <td>26.950266</td>\n",
       "      <td>-55.169210</td>\n",
       "      <td>1.820877e+10</td>\n",
       "      <td>-0.940604</td>\n",
       "    </tr>\n",
       "    <tr>\n",
       "      <th>2021-09-09</th>\n",
       "      <td>0.0</td>\n",
       "      <td>4515.468994</td>\n",
       "      <td>4517.739222</td>\n",
       "      <td>23.279785</td>\n",
       "      <td>0.347718</td>\n",
       "      <td>0.584412</td>\n",
       "      <td>52.831201</td>\n",
       "      <td>22.518786</td>\n",
       "      <td>-56.163868</td>\n",
       "      <td>1.471232e+10</td>\n",
       "      <td>-2.023420</td>\n",
       "    </tr>\n",
       "    <tr>\n",
       "      <th>2021-09-10</th>\n",
       "      <td>1.0</td>\n",
       "      <td>4514.327002</td>\n",
       "      <td>4507.395783</td>\n",
       "      <td>-50.790039</td>\n",
       "      <td>0.000000</td>\n",
       "      <td>0.335322</td>\n",
       "      <td>42.288508</td>\n",
       "      <td>15.094595</td>\n",
       "      <td>-57.824006</td>\n",
       "      <td>1.119527e+10</td>\n",
       "      <td>-6.831255</td>\n",
       "    </tr>\n",
       "    <tr>\n",
       "      <th>2021-09-13</th>\n",
       "      <td>0.0</td>\n",
       "      <td>4510.262988</td>\n",
       "      <td>4499.105415</td>\n",
       "      <td>-60.060059</td>\n",
       "      <td>0.129512</td>\n",
       "      <td>0.159077</td>\n",
       "      <td>45.803512</td>\n",
       "      <td>9.960096</td>\n",
       "      <td>-57.338404</td>\n",
       "      <td>1.109343e+10</td>\n",
       "      <td>-8.074242</td>\n",
       "    </tr>\n",
       "  </tbody>\n",
       "</table>\n",
       "</div>"
      ],
      "text/plain": [
       "            Trend    Simple MA  Weighted MA   Momentum  Stochastic K%  \\\n",
       "Date                                                                    \n",
       "2021-09-07    0.0  4512.976025  4521.627663  33.799805       0.747269   \n",
       "2021-09-08    0.0  4515.760010  4521.826536  17.879883       0.658248   \n",
       "2021-09-09    0.0  4515.468994  4517.739222  23.279785       0.347718   \n",
       "2021-09-10    1.0  4514.327002  4507.395783 -50.790039       0.000000   \n",
       "2021-09-13    0.0  4510.262988  4499.105415 -60.060059       0.129512   \n",
       "\n",
       "            Stochastic D%        RSI       MACD      LW R%  A/D Oscillator  \\\n",
       "Date                                                                         \n",
       "2021-09-07       0.908188  63.584309  29.019350 -54.884068    1.653819e+10   \n",
       "2021-09-08       0.794271  61.036421  26.950266 -55.169210    1.820877e+10   \n",
       "2021-09-09       0.584412  52.831201  22.518786 -56.163868    1.471232e+10   \n",
       "2021-09-10       0.335322  42.288508  15.094595 -57.824006    1.119527e+10   \n",
       "2021-09-13       0.159077  45.803512   9.960096 -57.338404    1.109343e+10   \n",
       "\n",
       "                 CCI  \n",
       "Date                  \n",
       "2021-09-07  1.835139  \n",
       "2021-09-08 -0.940604  \n",
       "2021-09-09 -2.023420  \n",
       "2021-09-10 -6.831255  \n",
       "2021-09-13 -8.074242  "
      ]
     },
     "execution_count": 12,
     "metadata": {},
     "output_type": "execute_result"
    }
   ],
   "source": [
    "dataset.head()"
   ]
  },
  {
   "cell_type": "code",
   "execution_count": 13,
   "id": "cfe499f5-1069-4f5e-aeb2-bb59484d7644",
   "metadata": {
    "tags": []
   },
   "outputs": [
    {
     "data": {
      "text/html": [
       "<div>\n",
       "<style scoped>\n",
       "    .dataframe tbody tr th:only-of-type {\n",
       "        vertical-align: middle;\n",
       "    }\n",
       "\n",
       "    .dataframe tbody tr th {\n",
       "        vertical-align: top;\n",
       "    }\n",
       "\n",
       "    .dataframe thead th {\n",
       "        text-align: right;\n",
       "    }\n",
       "</style>\n",
       "<table border=\"1\" class=\"dataframe\">\n",
       "  <thead>\n",
       "    <tr style=\"text-align: right;\">\n",
       "      <th></th>\n",
       "      <th>Trend</th>\n",
       "      <th>Simple MA</th>\n",
       "      <th>Weighted MA</th>\n",
       "      <th>Momentum</th>\n",
       "      <th>Stochastic K%</th>\n",
       "      <th>Stochastic D%</th>\n",
       "      <th>RSI</th>\n",
       "      <th>MACD</th>\n",
       "      <th>LW R%</th>\n",
       "      <th>A/D Oscillator</th>\n",
       "      <th>CCI</th>\n",
       "    </tr>\n",
       "    <tr>\n",
       "      <th>Date</th>\n",
       "      <th></th>\n",
       "      <th></th>\n",
       "      <th></th>\n",
       "      <th></th>\n",
       "      <th></th>\n",
       "      <th></th>\n",
       "      <th></th>\n",
       "      <th></th>\n",
       "      <th></th>\n",
       "      <th></th>\n",
       "      <th></th>\n",
       "    </tr>\n",
       "  </thead>\n",
       "  <tbody>\n",
       "    <tr>\n",
       "      <th>2024-07-24</th>\n",
       "      <td>0.0</td>\n",
       "      <td>5568.345068</td>\n",
       "      <td>5543.815146</td>\n",
       "      <td>-157.410156</td>\n",
       "      <td>0.000000</td>\n",
       "      <td>0.226367</td>\n",
       "      <td>36.184891</td>\n",
       "      <td>4.035400</td>\n",
       "      <td>-11.485683</td>\n",
       "      <td>2.648651e+11</td>\n",
       "      <td>-22.900853</td>\n",
       "    </tr>\n",
       "    <tr>\n",
       "      <th>2024-07-25</th>\n",
       "      <td>1.0</td>\n",
       "      <td>5549.813086</td>\n",
       "      <td>5513.065172</td>\n",
       "      <td>-216.129883</td>\n",
       "      <td>0.000000</td>\n",
       "      <td>0.104275</td>\n",
       "      <td>33.716938</td>\n",
       "      <td>-11.579047</td>\n",
       "      <td>-12.820965</td>\n",
       "      <td>2.610277e+11</td>\n",
       "      <td>-24.196463</td>\n",
       "    </tr>\n",
       "    <tr>\n",
       "      <th>2024-07-26</th>\n",
       "      <td>1.0</td>\n",
       "      <td>5534.188086</td>\n",
       "      <td>5496.571902</td>\n",
       "      <td>-172.120117</td>\n",
       "      <td>0.223449</td>\n",
       "      <td>0.074483</td>\n",
       "      <td>42.986717</td>\n",
       "      <td>-19.550389</td>\n",
       "      <td>-9.956132</td>\n",
       "      <td>2.609759e+11</td>\n",
       "      <td>-15.360060</td>\n",
       "    </tr>\n",
       "    <tr>\n",
       "      <th>2024-07-29</th>\n",
       "      <td>0.0</td>\n",
       "      <td>5517.420068</td>\n",
       "      <td>5483.726802</td>\n",
       "      <td>-203.660156</td>\n",
       "      <td>0.240017</td>\n",
       "      <td>0.154489</td>\n",
       "      <td>43.636131</td>\n",
       "      <td>-24.402278</td>\n",
       "      <td>-9.743712</td>\n",
       "      <td>2.605778e+11</td>\n",
       "      <td>-11.126445</td>\n",
       "    </tr>\n",
       "    <tr>\n",
       "      <th>2024-07-30</th>\n",
       "      <td>1.0</td>\n",
       "      <td>5494.344043</td>\n",
       "      <td>5469.003143</td>\n",
       "      <td>-151.830078</td>\n",
       "      <td>0.196878</td>\n",
       "      <td>0.220115</td>\n",
       "      <td>40.506981</td>\n",
       "      <td>-31.457025</td>\n",
       "      <td>-11.040262</td>\n",
       "      <td>2.597909e+11</td>\n",
       "      <td>-11.327447</td>\n",
       "    </tr>\n",
       "  </tbody>\n",
       "</table>\n",
       "</div>"
      ],
      "text/plain": [
       "            Trend    Simple MA  Weighted MA    Momentum  Stochastic K%  \\\n",
       "Date                                                                     \n",
       "2024-07-24    0.0  5568.345068  5543.815146 -157.410156       0.000000   \n",
       "2024-07-25    1.0  5549.813086  5513.065172 -216.129883       0.000000   \n",
       "2024-07-26    1.0  5534.188086  5496.571902 -172.120117       0.223449   \n",
       "2024-07-29    0.0  5517.420068  5483.726802 -203.660156       0.240017   \n",
       "2024-07-30    1.0  5494.344043  5469.003143 -151.830078       0.196878   \n",
       "\n",
       "            Stochastic D%        RSI       MACD      LW R%  A/D Oscillator  \\\n",
       "Date                                                                         \n",
       "2024-07-24       0.226367  36.184891   4.035400 -11.485683    2.648651e+11   \n",
       "2024-07-25       0.104275  33.716938 -11.579047 -12.820965    2.610277e+11   \n",
       "2024-07-26       0.074483  42.986717 -19.550389  -9.956132    2.609759e+11   \n",
       "2024-07-29       0.154489  43.636131 -24.402278  -9.743712    2.605778e+11   \n",
       "2024-07-30       0.220115  40.506981 -31.457025 -11.040262    2.597909e+11   \n",
       "\n",
       "                  CCI  \n",
       "Date                   \n",
       "2024-07-24 -22.900853  \n",
       "2024-07-25 -24.196463  \n",
       "2024-07-26 -15.360060  \n",
       "2024-07-29 -11.126445  \n",
       "2024-07-30 -11.327447  "
      ]
     },
     "execution_count": 13,
     "metadata": {},
     "output_type": "execute_result"
    }
   ],
   "source": [
    "dataset.tail()"
   ]
  },
  {
   "cell_type": "markdown",
   "id": "77adc4ce-77d7-49e4-bf47-5cf189af28ef",
   "metadata": {},
   "source": [
    "Split the data."
   ]
  },
  {
   "cell_type": "code",
   "execution_count": 14,
   "id": "3d0a681e-0a74-4913-a59e-c57387f2eb25",
   "metadata": {
    "tags": []
   },
   "outputs": [],
   "source": [
    "test_size = 30"
   ]
  },
  {
   "cell_type": "code",
   "execution_count": 15,
   "id": "1411b367-4dac-49c1-8c87-e3e2ab5ed9c9",
   "metadata": {
    "tags": []
   },
   "outputs": [],
   "source": [
    "training_dataset = dataset.iloc[:- 2 * test_size]"
   ]
  },
  {
   "cell_type": "code",
   "execution_count": 16,
   "id": "5f34b450-4529-46ed-abde-0597677a5aa0",
   "metadata": {
    "tags": []
   },
   "outputs": [
    {
     "name": "stdout",
     "output_type": "stream",
     "text": [
      "training samples: 668\n",
      "training dates: 2021-09-07 / 2024-05-02\n"
     ]
    }
   ],
   "source": [
    "print(f\"training samples: {len(training_dataset)}\")\n",
    "print(f\"training dates: {training_dataset.index.min().date()} / {training_dataset.index.max().date()}\")"
   ]
  },
  {
   "cell_type": "code",
   "execution_count": 17,
   "id": "b66195cb-90fc-462a-9728-5b0a3e7deea5",
   "metadata": {
    "tags": []
   },
   "outputs": [],
   "source": [
    "validation_dataset = dataset.iloc[- 2 * test_size: - test_size]"
   ]
  },
  {
   "cell_type": "code",
   "execution_count": 18,
   "id": "239b4400-cd78-4a53-a84e-efe38f6e7f11",
   "metadata": {},
   "outputs": [
    {
     "name": "stdout",
     "output_type": "stream",
     "text": [
      "validation samples: 30\n",
      "validation dates: 2024-05-03 / 2024-06-14\n"
     ]
    }
   ],
   "source": [
    "print(f\"validation samples: {len(validation_dataset)}\")\n",
    "print(f\"validation dates: {validation_dataset.index.min().date()} / {validation_dataset.index.max().date()}\")"
   ]
  },
  {
   "cell_type": "code",
   "execution_count": 19,
   "id": "5715d85e-12fe-4aa0-9de3-2396c2c7c60f",
   "metadata": {
    "tags": []
   },
   "outputs": [],
   "source": [
    "test_dataset = dataset.iloc[- test_size:]"
   ]
  },
  {
   "cell_type": "code",
   "execution_count": 20,
   "id": "d324ef31-8345-4b3e-a1a3-b920a52b49ad",
   "metadata": {
    "tags": []
   },
   "outputs": [
    {
     "name": "stdout",
     "output_type": "stream",
     "text": [
      "test samples: 30\n",
      "test dates: 2024-06-17 / 2024-07-30\n"
     ]
    }
   ],
   "source": [
    "print(f\"test samples: {len(test_dataset)}\")\n",
    "print(f\"test dates: {test_dataset.index.min().date()} / {test_dataset.index.max().date()}\")"
   ]
  },
  {
   "cell_type": "markdown",
   "id": "332b527d-45fc-4a63-b050-d764d7c92890",
   "metadata": {},
   "source": [
    "Save the data to S3."
   ]
  },
  {
   "cell_type": "code",
   "execution_count": 21,
   "id": "7afa7d58-699a-48f8-835c-c29d35fd46ae",
   "metadata": {},
   "outputs": [],
   "source": [
    "training_data = session.upload_string_as_file_body(\n",
    "    body=training_dataset.to_csv(index=False),\n",
    "    bucket=bucket,\n",
    "    key=\"data/train.csv\"\n",
    ")"
   ]
  },
  {
   "cell_type": "code",
   "execution_count": 22,
   "id": "0c823491-3097-4900-8357-e0e17caa193b",
   "metadata": {
    "tags": []
   },
   "outputs": [
    {
     "data": {
      "text/plain": [
       "'s3://sagemaker-eu-west-1-661670223746/data/train.csv'"
      ]
     },
     "execution_count": 22,
     "metadata": {},
     "output_type": "execute_result"
    }
   ],
   "source": [
    "training_data"
   ]
  },
  {
   "cell_type": "code",
   "execution_count": 23,
   "id": "e110e003-d937-441c-ae35-61b8a768c4fd",
   "metadata": {},
   "outputs": [],
   "source": [
    "validation_data = session.upload_string_as_file_body(\n",
    "    body=validation_dataset.to_csv(index=False),\n",
    "    bucket=bucket,\n",
    "    key=\"data/valid.csv\"\n",
    ")"
   ]
  },
  {
   "cell_type": "code",
   "execution_count": 24,
   "id": "af68a72a-b49a-4d06-9dea-f311757ff0d6",
   "metadata": {
    "tags": []
   },
   "outputs": [
    {
     "data": {
      "text/plain": [
       "'s3://sagemaker-eu-west-1-661670223746/data/valid.csv'"
      ]
     },
     "execution_count": 24,
     "metadata": {},
     "output_type": "execute_result"
    }
   ],
   "source": [
    "validation_data"
   ]
  },
  {
   "cell_type": "code",
   "execution_count": 25,
   "id": "a6eba86f-7e3f-4043-9132-24e2d243c3be",
   "metadata": {
    "tags": []
   },
   "outputs": [],
   "source": [
    "test_data = session.upload_string_as_file_body(\n",
    "    body=test_dataset.drop(labels=[\"Trend\"], axis=1).to_csv(index=False, header=False),\n",
    "    bucket=bucket,\n",
    "    key=\"data/test.csv\"\n",
    ")"
   ]
  },
  {
   "cell_type": "code",
   "execution_count": 26,
   "id": "d1b34a68-1e08-40ca-bd9e-de3007080931",
   "metadata": {
    "tags": []
   },
   "outputs": [
    {
     "data": {
      "text/plain": [
       "'s3://sagemaker-eu-west-1-661670223746/data/test.csv'"
      ]
     },
     "execution_count": 26,
     "metadata": {},
     "output_type": "execute_result"
    }
   ],
   "source": [
    "test_data"
   ]
  },
  {
   "cell_type": "markdown",
   "id": "0eadc750-8dde-4463-98d8-ae23f58ea579",
   "metadata": {},
   "source": [
    "## Model Selection"
   ]
  },
  {
   "cell_type": "markdown",
   "id": "f4898a67-919e-43f6-a0f0-a66fce0462ce",
   "metadata": {},
   "source": [
    "Find the best model."
   ]
  },
  {
   "cell_type": "code",
   "execution_count": 27,
   "id": "e9993382-cd1c-49b9-8bd9-89c88e90a43f",
   "metadata": {
    "tags": []
   },
   "outputs": [
    {
     "name": "stdout",
     "output_type": "stream",
     "text": [
      "{\"AutoMLJobName\": \"equity-t-2024-08-19-11-30-33-057\", \"AutoMLJobInputDataConfig\": [{\"DataSource\": {\"S3DataSource\": {\"S3DataType\": \"S3Prefix\", \"S3Uri\": \"s3://sagemaker-eu-west-1-661670223746/data/train.csv\"}}, \"ChannelType\": \"training\", \"ContentType\": \"text/csv;header=present\"}, {\"DataSource\": {\"S3DataSource\": {\"S3DataType\": \"S3Prefix\", \"S3Uri\": \"s3://sagemaker-eu-west-1-661670223746/data/valid.csv\"}}, \"ChannelType\": \"validation\", \"ContentType\": \"text/csv;header=present\"}], \"OutputDataConfig\": {\"S3OutputPath\": \"s3://sagemaker-eu-west-1-661670223746/output/\"}, \"AutoMLProblemTypeConfig\": {\"TabularJobConfig\": {\"CompletionCriteria\": {\"MaxCandidates\": 10}, \"TargetAttributeName\": \"Trend\", \"ProblemType\": \"BinaryClassification\", \"Mode\": \"ENSEMBLING\", \"CandidateGenerationConfig\": {\"AlgorithmsConfig\": [{\"AutoMLAlgorithms\": [\"xgboost\", \"lightgbm\", \"catboost\"]}]}}}, \"RoleArn\": \"arn:aws:iam::661670223746:role/service-role/AmazonSageMaker-ExecutionRole-20191030T162743\", \"AutoMLJobObjective\": {\"MetricName\": \"Accuracy\"}, \"SecurityConfig\": {\"EnableInterContainerTrafficEncryption\": false}}\n",
      "................................................\n",
      ".."
     ]
    }
   ],
   "source": [
    "# define the AutoML job configuration\n",
    "automl = sagemaker.automl.automlv2.AutoMLV2(\n",
    "    problem_config=sagemaker.automl.automlv2.AutoMLTabularConfig(\n",
    "        target_attribute_name=\"Trend\",\n",
    "        algorithms_config=[\"xgboost\", \"lightgbm\", \"catboost\"],\n",
    "        mode=\"ENSEMBLING\",\n",
    "        problem_type=\"BinaryClassification\",\n",
    "        max_candidates=10,\n",
    "    ),\n",
    "    output_path=f\"s3://{bucket}/output/\",\n",
    "    job_objective={\"MetricName\": \"Accuracy\"},\n",
    "    base_job_name=\"equity-trend-automl\",\n",
    "    role=role,\n",
    "    sagemaker_session=session,\n",
    ")\n",
    "\n",
    "# run the AutoML job\n",
    "automl.fit(\n",
    "    inputs=[\n",
    "        sagemaker.automl.automlv2.AutoMLDataChannel(\n",
    "            s3_data_type=\"S3Prefix\",\n",
    "            s3_uri=training_data,\n",
    "            channel_type=\"training\",\n",
    "            compression_type=None,\n",
    "            content_type=\"text/csv;header=present\"\n",
    "        ),\n",
    "        sagemaker.automl.automlv2.AutoMLDataChannel(\n",
    "            s3_data_type=\"S3Prefix\",\n",
    "            s3_uri=validation_data,\n",
    "            channel_type=\"validation\",\n",
    "            compression_type=None,\n",
    "            content_type=\"text/csv;header=present\"\n",
    "        ),\n",
    "    ]\n",
    ")"
   ]
  },
  {
   "cell_type": "markdown",
   "id": "c8371151-5643-4842-a1b8-0483eeacbf72",
   "metadata": {},
   "source": [
    "## Model Evaluation"
   ]
  },
  {
   "cell_type": "markdown",
   "id": "aa069d74-27cf-48db-8a5b-59c61731aeda",
   "metadata": {},
   "source": [
    "Generate the test set predictions using the best model."
   ]
  },
  {
   "cell_type": "code",
   "execution_count": 28,
   "id": "a2730414-daa7-496a-92f0-8178a99f7a58",
   "metadata": {
    "tags": []
   },
   "outputs": [
    {
     "name": "stderr",
     "output_type": "stream",
     "text": [
      "Using already existing model: equity-trend-model\n",
      "INFO:sagemaker:Creating transform job with name: equity-trend-model-2024-08-19-11-38-57-184\n"
     ]
    },
    {
     "name": "stdout",
     "output_type": "stream",
     "text": [
      "...............................\u001b[34mWarning: MMS is using non-default JVM parameters: -XX:-UseContainerSupport\u001b[0m\n",
      "\u001b[34m2024-08-19T11:44:03,671 [INFO ] main com.amazonaws.ml.mms.ModelServer - \u001b[0m\n",
      "\u001b[34mMMS Home: /usr/local/lib/python3.8/dist-packages\u001b[0m\n",
      "\u001b[34mCurrent directory: /\u001b[0m\n",
      "\u001b[34mTemp directory: /home/model-server/tmp\u001b[0m\n",
      "\u001b[34mNumber of GPUs: 0\u001b[0m\n",
      "\u001b[34mNumber of CPUs: 8\u001b[0m\n",
      "\u001b[34mMax heap size: 7044 M\u001b[0m\n",
      "\u001b[34mPython executable: /usr/bin/python3\u001b[0m\n",
      "\u001b[34mConfig file: /etc/sagemaker-mms.properties\u001b[0m\n",
      "\u001b[34mInference address: http://0.0.0.0:8080\u001b[0m\n",
      "\u001b[34mManagement address: http://0.0.0.0:8080\u001b[0m\n",
      "\u001b[34mModel Store: /.sagemaker/mms/models\u001b[0m\n",
      "\u001b[34mInitial Models: ALL\u001b[0m\n",
      "\u001b[34mLog dir: null\u001b[0m\n",
      "\u001b[34mMetrics dir: null\u001b[0m\n",
      "\u001b[34mNetty threads: 0\u001b[0m\n",
      "\u001b[34mNetty client threads: 0\u001b[0m\n",
      "\u001b[34mDefault workers per model: 8\u001b[0m\n",
      "\u001b[35mWarning: MMS is using non-default JVM parameters: -XX:-UseContainerSupport\u001b[0m\n",
      "\u001b[35m2024-08-19T11:44:03,671 [INFO ] main com.amazonaws.ml.mms.ModelServer - \u001b[0m\n",
      "\u001b[35mMMS Home: /usr/local/lib/python3.8/dist-packages\u001b[0m\n",
      "\u001b[35mCurrent directory: /\u001b[0m\n",
      "\u001b[35mTemp directory: /home/model-server/tmp\u001b[0m\n",
      "\u001b[35mNumber of GPUs: 0\u001b[0m\n",
      "\u001b[35mNumber of CPUs: 8\u001b[0m\n",
      "\u001b[35mMax heap size: 7044 M\u001b[0m\n",
      "\u001b[35mPython executable: /usr/bin/python3\u001b[0m\n",
      "\u001b[35mConfig file: /etc/sagemaker-mms.properties\u001b[0m\n",
      "\u001b[35mInference address: http://0.0.0.0:8080\u001b[0m\n",
      "\u001b[35mManagement address: http://0.0.0.0:8080\u001b[0m\n",
      "\u001b[35mModel Store: /.sagemaker/mms/models\u001b[0m\n",
      "\u001b[35mInitial Models: ALL\u001b[0m\n",
      "\u001b[35mLog dir: null\u001b[0m\n",
      "\u001b[35mMetrics dir: null\u001b[0m\n",
      "\u001b[35mNetty threads: 0\u001b[0m\n",
      "\u001b[35mNetty client threads: 0\u001b[0m\n",
      "\u001b[35mDefault workers per model: 8\u001b[0m\n",
      "\u001b[34mBlacklist Regex: N/A\u001b[0m\n",
      "\u001b[34mMaximum Response Size: 6553500\u001b[0m\n",
      "\u001b[34mMaximum Request Size: 6553500\u001b[0m\n",
      "\u001b[34mPreload model: false\u001b[0m\n",
      "\u001b[34mPrefer direct buffer: false\u001b[0m\n",
      "\u001b[34m2024-08-19T11:44:03,727 [WARN ] W-9000-model com.amazonaws.ml.mms.wlm.WorkerLifeCycle - attachIOStreams() threadName=W-9000-model\u001b[0m\n",
      "\u001b[34m2024-08-19T11:44:03,795 [INFO ] W-9000-model-stdout com.amazonaws.ml.mms.wlm.WorkerLifeCycle - model_service_worker started with args: --sock-type unix --sock-name /home/model-server/tmp/.mms.sock.9000 --handler sagemaker_mxnet_serving_container.handler_service --model-path /.sagemaker/mms/models/model --model-name model --preload-model false --tmp-dir /home/model-server/tmp\u001b[0m\n",
      "\u001b[34m2024-08-19T11:44:03,796 [INFO ] W-9000-model-stdout com.amazonaws.ml.mms.wlm.WorkerLifeCycle - Listening on port: /home/model-server/tmp/.mms.sock.9000\u001b[0m\n",
      "\u001b[34m2024-08-19T11:44:03,796 [INFO ] W-9000-model-stdout com.amazonaws.ml.mms.wlm.WorkerLifeCycle - [PID] 61\u001b[0m\n",
      "\u001b[34m2024-08-19T11:44:03,796 [INFO ] W-9000-model-stdout com.amazonaws.ml.mms.wlm.WorkerLifeCycle - MMS worker started.\u001b[0m\n",
      "\u001b[34m2024-08-19T11:44:03,796 [INFO ] W-9000-model-stdout com.amazonaws.ml.mms.wlm.WorkerLifeCycle - Python runtime: 3.8.10\u001b[0m\n",
      "\u001b[34m2024-08-19T11:44:03,797 [INFO ] main com.amazonaws.ml.mms.wlm.ModelManager - Model model loaded.\u001b[0m\n",
      "\u001b[34m2024-08-19T11:44:03,802 [INFO ] main com.amazonaws.ml.mms.ModelServer - Initialize Inference server with: EpollServerSocketChannel.\u001b[0m\n",
      "\u001b[34m2024-08-19T11:44:03,811 [INFO ] W-9000-model com.amazonaws.ml.mms.wlm.WorkerThread - Connecting to: /home/model-server/tmp/.mms.sock.9000\u001b[0m\n",
      "\u001b[34m2024-08-19T11:44:03,812 [INFO ] W-9000-model com.amazonaws.ml.mms.wlm.WorkerThread - Connecting to: /home/model-server/tmp/.mms.sock.9000\u001b[0m\n",
      "\u001b[34m2024-08-19T11:44:03,812 [INFO ] W-9000-model com.amazonaws.ml.mms.wlm.WorkerThread - Connecting to: /home/model-server/tmp/.mms.sock.9000\u001b[0m\n",
      "\u001b[34m2024-08-19T11:44:03,811 [INFO ] W-9000-model com.amazonaws.ml.mms.wlm.WorkerThread - Connecting to: /home/model-server/tmp/.mms.sock.9000\u001b[0m\n",
      "\u001b[34m2024-08-19T11:44:03,812 [INFO ] W-9000-model com.amazonaws.ml.mms.wlm.WorkerThread - Connecting to: /home/model-server/tmp/.mms.sock.9000\u001b[0m\n",
      "\u001b[34m2024-08-19T11:44:03,812 [INFO ] W-9000-model com.amazonaws.ml.mms.wlm.WorkerThread - Connecting to: /home/model-server/tmp/.mms.sock.9000\u001b[0m\n",
      "\u001b[34m2024-08-19T11:44:03,811 [INFO ] W-9000-model com.amazonaws.ml.mms.wlm.WorkerThread - Connecting to: /home/model-server/tmp/.mms.sock.9000\u001b[0m\n",
      "\u001b[34m2024-08-19T11:44:03,811 [INFO ] W-9000-model com.amazonaws.ml.mms.wlm.WorkerThread - Connecting to: /home/model-server/tmp/.mms.sock.9000\u001b[0m\n",
      "\u001b[34m2024-08-19T11:44:03,867 [INFO ] main com.amazonaws.ml.mms.ModelServer - Inference API bind to: http://0.0.0.0:8080\u001b[0m\n",
      "\u001b[34m2024-08-19T11:44:03,868 [INFO ] W-9000-model-stdout com.amazonaws.ml.mms.wlm.WorkerLifeCycle - Connection accepted: /home/model-server/tmp/.mms.sock.9000.\u001b[0m\n",
      "\u001b[35mBlacklist Regex: N/A\u001b[0m\n",
      "\u001b[35mMaximum Response Size: 6553500\u001b[0m\n",
      "\u001b[35mMaximum Request Size: 6553500\u001b[0m\n",
      "\u001b[35mPreload model: false\u001b[0m\n",
      "\u001b[35mPrefer direct buffer: false\u001b[0m\n",
      "\u001b[35m2024-08-19T11:44:03,727 [WARN ] W-9000-model com.amazonaws.ml.mms.wlm.WorkerLifeCycle - attachIOStreams() threadName=W-9000-model\u001b[0m\n",
      "\u001b[35m2024-08-19T11:44:03,795 [INFO ] W-9000-model-stdout com.amazonaws.ml.mms.wlm.WorkerLifeCycle - model_service_worker started with args: --sock-type unix --sock-name /home/model-server/tmp/.mms.sock.9000 --handler sagemaker_mxnet_serving_container.handler_service --model-path /.sagemaker/mms/models/model --model-name model --preload-model false --tmp-dir /home/model-server/tmp\u001b[0m\n",
      "\u001b[35m2024-08-19T11:44:03,796 [INFO ] W-9000-model-stdout com.amazonaws.ml.mms.wlm.WorkerLifeCycle - Listening on port: /home/model-server/tmp/.mms.sock.9000\u001b[0m\n",
      "\u001b[35m2024-08-19T11:44:03,796 [INFO ] W-9000-model-stdout com.amazonaws.ml.mms.wlm.WorkerLifeCycle - [PID] 61\u001b[0m\n",
      "\u001b[35m2024-08-19T11:44:03,796 [INFO ] W-9000-model-stdout com.amazonaws.ml.mms.wlm.WorkerLifeCycle - MMS worker started.\u001b[0m\n",
      "\u001b[35m2024-08-19T11:44:03,796 [INFO ] W-9000-model-stdout com.amazonaws.ml.mms.wlm.WorkerLifeCycle - Python runtime: 3.8.10\u001b[0m\n",
      "\u001b[35m2024-08-19T11:44:03,797 [INFO ] main com.amazonaws.ml.mms.wlm.ModelManager - Model model loaded.\u001b[0m\n",
      "\u001b[35m2024-08-19T11:44:03,802 [INFO ] main com.amazonaws.ml.mms.ModelServer - Initialize Inference server with: EpollServerSocketChannel.\u001b[0m\n",
      "\u001b[35m2024-08-19T11:44:03,811 [INFO ] W-9000-model com.amazonaws.ml.mms.wlm.WorkerThread - Connecting to: /home/model-server/tmp/.mms.sock.9000\u001b[0m\n",
      "\u001b[35m2024-08-19T11:44:03,812 [INFO ] W-9000-model com.amazonaws.ml.mms.wlm.WorkerThread - Connecting to: /home/model-server/tmp/.mms.sock.9000\u001b[0m\n",
      "\u001b[35m2024-08-19T11:44:03,812 [INFO ] W-9000-model com.amazonaws.ml.mms.wlm.WorkerThread - Connecting to: /home/model-server/tmp/.mms.sock.9000\u001b[0m\n",
      "\u001b[35m2024-08-19T11:44:03,811 [INFO ] W-9000-model com.amazonaws.ml.mms.wlm.WorkerThread - Connecting to: /home/model-server/tmp/.mms.sock.9000\u001b[0m\n",
      "\u001b[35m2024-08-19T11:44:03,812 [INFO ] W-9000-model com.amazonaws.ml.mms.wlm.WorkerThread - Connecting to: /home/model-server/tmp/.mms.sock.9000\u001b[0m\n",
      "\u001b[35m2024-08-19T11:44:03,812 [INFO ] W-9000-model com.amazonaws.ml.mms.wlm.WorkerThread - Connecting to: /home/model-server/tmp/.mms.sock.9000\u001b[0m\n",
      "\u001b[35m2024-08-19T11:44:03,811 [INFO ] W-9000-model com.amazonaws.ml.mms.wlm.WorkerThread - Connecting to: /home/model-server/tmp/.mms.sock.9000\u001b[0m\n",
      "\u001b[35m2024-08-19T11:44:03,811 [INFO ] W-9000-model com.amazonaws.ml.mms.wlm.WorkerThread - Connecting to: /home/model-server/tmp/.mms.sock.9000\u001b[0m\n",
      "\u001b[35m2024-08-19T11:44:03,867 [INFO ] main com.amazonaws.ml.mms.ModelServer - Inference API bind to: http://0.0.0.0:8080\u001b[0m\n",
      "\u001b[35m2024-08-19T11:44:03,868 [INFO ] W-9000-model-stdout com.amazonaws.ml.mms.wlm.WorkerLifeCycle - Connection accepted: /home/model-server/tmp/.mms.sock.9000.\u001b[0m\n",
      "\u001b[34mModel server started.\u001b[0m\n",
      "\u001b[34m2024-08-19T11:44:03,874 [INFO ] W-9000-model-stdout com.amazonaws.ml.mms.wlm.WorkerLifeCycle - Connection accepted: /home/model-server/tmp/.mms.sock.9000.\u001b[0m\n",
      "\u001b[34m2024-08-19T11:44:03,875 [INFO ] W-9000-model-stdout com.amazonaws.ml.mms.wlm.WorkerLifeCycle - Connection accepted: /home/model-server/tmp/.mms.sock.9000.\u001b[0m\n",
      "\u001b[34m2024-08-19T11:44:03,876 [INFO ] W-9000-model-stdout com.amazonaws.ml.mms.wlm.WorkerLifeCycle - Connection accepted: /home/model-server/tmp/.mms.sock.9000.\u001b[0m\n",
      "\u001b[34m2024-08-19T11:44:03,876 [INFO ] W-9000-model-stdout com.amazonaws.ml.mms.wlm.WorkerLifeCycle - Connection accepted: /home/model-server/tmp/.mms.sock.9000.\u001b[0m\n",
      "\u001b[34m2024-08-19T11:44:03,877 [INFO ] W-9000-model-stdout com.amazonaws.ml.mms.wlm.WorkerLifeCycle - Connection accepted: /home/model-server/tmp/.mms.sock.9000.\u001b[0m\n",
      "\u001b[34m2024-08-19T11:44:03,877 [INFO ] W-9000-model-stdout com.amazonaws.ml.mms.wlm.WorkerLifeCycle - Connection accepted: /home/model-server/tmp/.mms.sock.9000.\u001b[0m\n",
      "\u001b[34m2024-08-19T11:44:03,879 [INFO ] W-9000-model-stdout com.amazonaws.ml.mms.wlm.WorkerLifeCycle - Connection accepted: /home/model-server/tmp/.mms.sock.9000.\u001b[0m\n",
      "\u001b[34m2024-08-19T11:44:03,883 [WARN ] pool-3-thread-1 com.amazonaws.ml.mms.metrics.MetricCollector - worker pid is not available yet.\u001b[0m\n",
      "\u001b[35mModel server started.\u001b[0m\n",
      "\u001b[35m2024-08-19T11:44:03,874 [INFO ] W-9000-model-stdout com.amazonaws.ml.mms.wlm.WorkerLifeCycle - Connection accepted: /home/model-server/tmp/.mms.sock.9000.\u001b[0m\n",
      "\u001b[35m2024-08-19T11:44:03,875 [INFO ] W-9000-model-stdout com.amazonaws.ml.mms.wlm.WorkerLifeCycle - Connection accepted: /home/model-server/tmp/.mms.sock.9000.\u001b[0m\n",
      "\u001b[35m2024-08-19T11:44:03,876 [INFO ] W-9000-model-stdout com.amazonaws.ml.mms.wlm.WorkerLifeCycle - Connection accepted: /home/model-server/tmp/.mms.sock.9000.\u001b[0m\n",
      "\u001b[35m2024-08-19T11:44:03,876 [INFO ] W-9000-model-stdout com.amazonaws.ml.mms.wlm.WorkerLifeCycle - Connection accepted: /home/model-server/tmp/.mms.sock.9000.\u001b[0m\n",
      "\u001b[35m2024-08-19T11:44:03,877 [INFO ] W-9000-model-stdout com.amazonaws.ml.mms.wlm.WorkerLifeCycle - Connection accepted: /home/model-server/tmp/.mms.sock.9000.\u001b[0m\n",
      "\u001b[35m2024-08-19T11:44:03,877 [INFO ] W-9000-model-stdout com.amazonaws.ml.mms.wlm.WorkerLifeCycle - Connection accepted: /home/model-server/tmp/.mms.sock.9000.\u001b[0m\n",
      "\u001b[35m2024-08-19T11:44:03,879 [INFO ] W-9000-model-stdout com.amazonaws.ml.mms.wlm.WorkerLifeCycle - Connection accepted: /home/model-server/tmp/.mms.sock.9000.\u001b[0m\n",
      "\u001b[35m2024-08-19T11:44:03,883 [WARN ] pool-3-thread-1 com.amazonaws.ml.mms.metrics.MetricCollector - worker pid is not available yet.\u001b[0m\n",
      "\u001b[34m2024-08-19T11:44:09,013 [INFO ] W-9000-model-stdout com.amazonaws.ml.mms.wlm.WorkerLifeCycle - Persisting 7 models in memory. Models will require 0.0% of memory.\u001b[0m\n",
      "\u001b[34m2024-08-19T11:44:09,028 [INFO ] W-9000-model-stdout com.amazonaws.ml.mms.wlm.WorkerLifeCycle - Model model loaded io_fd=0242a9fffefeff83-00000025-00000001-3ca0858128738eea-0189e299\u001b[0m\n",
      "\u001b[34m2024-08-19T11:44:09,038 [INFO ] W-9000-model com.amazonaws.ml.mms.wlm.WorkerThread - Backend response time: 5103\u001b[0m\n",
      "\u001b[34m2024-08-19T11:44:09,040 [WARN ] W-9000-model com.amazonaws.ml.mms.wlm.WorkerLifeCycle - attachIOStreams() threadName=W-model-2\u001b[0m\n",
      "\u001b[34m2024-08-19T11:44:09,086 [INFO ] W-9000-model-stdout com.amazonaws.ml.mms.wlm.WorkerLifeCycle - Persisting 7 models in memory. Models will require 0.0% of memory.\u001b[0m\n",
      "\u001b[34m2024-08-19T11:44:09,100 [INFO ] W-9000-model-stdout com.amazonaws.ml.mms.wlm.WorkerLifeCycle - Model model loaded io_fd=0242a9fffefeff83-00000025-00000003-5356858128738eea-743ff336\u001b[0m\n",
      "\u001b[34m2024-08-19T11:44:09,101 [INFO ] W-9000-model com.amazonaws.ml.mms.wlm.WorkerThread - Backend response time: 5093\u001b[0m\n",
      "\u001b[34m2024-08-19T11:44:09,102 [WARN ] W-9000-model com.amazonaws.ml.mms.wlm.WorkerLifeCycle - attachIOStreams() threadName=W-model-4\u001b[0m\n",
      "\u001b[34m2024-08-19T11:44:09,110 [INFO ] W-9000-model-stdout com.amazonaws.ml.mms.wlm.WorkerLifeCycle - Persisting 7 models in memory. Models will require 0.0% of memory.\u001b[0m\n",
      "\u001b[34m2024-08-19T11:44:09,125 [INFO ] W-9000-model-stdout com.amazonaws.ml.mms.wlm.WorkerLifeCycle - Persisting 7 models in memory. Models will require 0.0% of memory.\u001b[0m\n",
      "\u001b[34m2024-08-19T11:44:09,125 [INFO ] W-9000-model-stdout com.amazonaws.ml.mms.wlm.WorkerLifeCycle - Model model loaded io_fd=0242a9fffefeff83-00000025-00000002-b60c858128738eea-107bf207\u001b[0m\n",
      "\u001b[34m2024-08-19T11:44:09,127 [INFO ] W-9000-model com.amazonaws.ml.mms.wlm.WorkerThread - Backend response time: 5193\u001b[0m\n",
      "\u001b[34m2024-08-19T11:44:09,128 [WARN ] W-9000-model com.amazonaws.ml.mms.wlm.WorkerLifeCycle - attachIOStreams() threadName=W-model-5\u001b[0m\n",
      "\u001b[34m2024-08-19T11:44:09,142 [INFO ] W-9000-model-stdout com.amazonaws.ml.mms.wlm.WorkerLifeCycle - Model model loaded io_fd=0242a9fffefeff83-00000025-00000005-fe48458128738eeb-827f1221\u001b[0m\n",
      "\u001b[34m2024-08-19T11:44:09,143 [INFO ] W-9000-model com.amazonaws.ml.mms.wlm.WorkerThread - Backend response time: 5131\u001b[0m\n",
      "\u001b[34m2024-08-19T11:44:09,143 [WARN ] W-9000-model com.amazonaws.ml.mms.wlm.WorkerLifeCycle - attachIOStreams() threadName=W-model-3\u001b[0m\n",
      "\u001b[34m2024-08-19T11:44:09,152 [INFO ] W-9000-model-stdout com.amazonaws.ml.mms.wlm.WorkerLifeCycle - Persisting 7 models in memory. Models will require 0.0% of memory.\u001b[0m\n",
      "\u001b[34m2024-08-19T11:44:09,162 [INFO ] W-9000-model-stdout com.amazonaws.ml.mms.wlm.WorkerLifeCycle - Model model loaded io_fd=0242a9fffefeff83-00000025-00000008-e979c58128738eeb-a81432ea\u001b[0m\n",
      "\u001b[35m2024-08-19T11:44:09,013 [INFO ] W-9000-model-stdout com.amazonaws.ml.mms.wlm.WorkerLifeCycle - Persisting 7 models in memory. Models will require 0.0% of memory.\u001b[0m\n",
      "\u001b[35m2024-08-19T11:44:09,028 [INFO ] W-9000-model-stdout com.amazonaws.ml.mms.wlm.WorkerLifeCycle - Model model loaded io_fd=0242a9fffefeff83-00000025-00000001-3ca0858128738eea-0189e299\u001b[0m\n",
      "\u001b[35m2024-08-19T11:44:09,038 [INFO ] W-9000-model com.amazonaws.ml.mms.wlm.WorkerThread - Backend response time: 5103\u001b[0m\n",
      "\u001b[35m2024-08-19T11:44:09,040 [WARN ] W-9000-model com.amazonaws.ml.mms.wlm.WorkerLifeCycle - attachIOStreams() threadName=W-model-2\u001b[0m\n",
      "\u001b[35m2024-08-19T11:44:09,086 [INFO ] W-9000-model-stdout com.amazonaws.ml.mms.wlm.WorkerLifeCycle - Persisting 7 models in memory. Models will require 0.0% of memory.\u001b[0m\n",
      "\u001b[35m2024-08-19T11:44:09,100 [INFO ] W-9000-model-stdout com.amazonaws.ml.mms.wlm.WorkerLifeCycle - Model model loaded io_fd=0242a9fffefeff83-00000025-00000003-5356858128738eea-743ff336\u001b[0m\n",
      "\u001b[35m2024-08-19T11:44:09,101 [INFO ] W-9000-model com.amazonaws.ml.mms.wlm.WorkerThread - Backend response time: 5093\u001b[0m\n",
      "\u001b[35m2024-08-19T11:44:09,102 [WARN ] W-9000-model com.amazonaws.ml.mms.wlm.WorkerLifeCycle - attachIOStreams() threadName=W-model-4\u001b[0m\n",
      "\u001b[35m2024-08-19T11:44:09,110 [INFO ] W-9000-model-stdout com.amazonaws.ml.mms.wlm.WorkerLifeCycle - Persisting 7 models in memory. Models will require 0.0% of memory.\u001b[0m\n",
      "\u001b[35m2024-08-19T11:44:09,125 [INFO ] W-9000-model-stdout com.amazonaws.ml.mms.wlm.WorkerLifeCycle - Persisting 7 models in memory. Models will require 0.0% of memory.\u001b[0m\n",
      "\u001b[35m2024-08-19T11:44:09,125 [INFO ] W-9000-model-stdout com.amazonaws.ml.mms.wlm.WorkerLifeCycle - Model model loaded io_fd=0242a9fffefeff83-00000025-00000002-b60c858128738eea-107bf207\u001b[0m\n",
      "\u001b[35m2024-08-19T11:44:09,127 [INFO ] W-9000-model com.amazonaws.ml.mms.wlm.WorkerThread - Backend response time: 5193\u001b[0m\n",
      "\u001b[35m2024-08-19T11:44:09,128 [WARN ] W-9000-model com.amazonaws.ml.mms.wlm.WorkerLifeCycle - attachIOStreams() threadName=W-model-5\u001b[0m\n",
      "\u001b[35m2024-08-19T11:44:09,142 [INFO ] W-9000-model-stdout com.amazonaws.ml.mms.wlm.WorkerLifeCycle - Model model loaded io_fd=0242a9fffefeff83-00000025-00000005-fe48458128738eeb-827f1221\u001b[0m\n",
      "\u001b[35m2024-08-19T11:44:09,143 [INFO ] W-9000-model com.amazonaws.ml.mms.wlm.WorkerThread - Backend response time: 5131\u001b[0m\n",
      "\u001b[35m2024-08-19T11:44:09,143 [WARN ] W-9000-model com.amazonaws.ml.mms.wlm.WorkerLifeCycle - attachIOStreams() threadName=W-model-3\u001b[0m\n",
      "\u001b[35m2024-08-19T11:44:09,152 [INFO ] W-9000-model-stdout com.amazonaws.ml.mms.wlm.WorkerLifeCycle - Persisting 7 models in memory. Models will require 0.0% of memory.\u001b[0m\n",
      "\u001b[35m2024-08-19T11:44:09,162 [INFO ] W-9000-model-stdout com.amazonaws.ml.mms.wlm.WorkerLifeCycle - Model model loaded io_fd=0242a9fffefeff83-00000025-00000008-e979c58128738eeb-a81432ea\u001b[0m\n",
      "\u001b[34m2024-08-19T11:44:09,163 [INFO ] W-9000-model com.amazonaws.ml.mms.wlm.WorkerThread - Backend response time: 5151\u001b[0m\n",
      "\u001b[34m2024-08-19T11:44:09,163 [WARN ] W-9000-model com.amazonaws.ml.mms.wlm.WorkerLifeCycle - attachIOStreams() threadName=W-model-1\u001b[0m\n",
      "\u001b[34m2024-08-19T11:44:09,187 [INFO ] W-9000-model-stdout com.amazonaws.ml.mms.wlm.WorkerLifeCycle - Persisting 7 models in memory. Models will require 0.0% of memory.\u001b[0m\n",
      "\u001b[34m2024-08-19T11:44:09,198 [INFO ] W-9000-model-stdout com.amazonaws.ml.mms.wlm.WorkerLifeCycle - Model model loaded io_fd=0242a9fffefeff83-00000025-00000007-e6c2c58128738eeb-23c8ff63\u001b[0m\n",
      "\u001b[34m2024-08-19T11:44:09,199 [INFO ] W-9000-model com.amazonaws.ml.mms.wlm.WorkerThread - Backend response time: 5259\u001b[0m\n",
      "\u001b[34m2024-08-19T11:44:09,199 [WARN ] W-9000-model com.amazonaws.ml.mms.wlm.WorkerLifeCycle - attachIOStreams() threadName=W-model-6\u001b[0m\n",
      "\u001b[34m2024-08-19T11:44:09,230 [INFO ] W-9000-model-stdout com.amazonaws.ml.mms.wlm.WorkerLifeCycle - Persisting 7 models in memory. Models will require 0.0% of memory.\u001b[0m\n",
      "\u001b[34m2024-08-19T11:44:09,246 [INFO ] W-9000-model-stdout com.amazonaws.ml.mms.wlm.WorkerLifeCycle - Model model loaded io_fd=0242a9fffefeff83-00000025-00000000-93c0858128738eea-9e4e21eb\u001b[0m\n",
      "\u001b[34m2024-08-19T11:44:09,246 [INFO ] W-9000-model com.amazonaws.ml.mms.wlm.WorkerThread - Backend response time: 5235\u001b[0m\n",
      "\u001b[34m2024-08-19T11:44:09,247 [WARN ] W-9000-model com.amazonaws.ml.mms.wlm.WorkerLifeCycle - attachIOStreams() threadName=W-model-8\u001b[0m\n",
      "\u001b[34m2024-08-19T11:44:09,248 [INFO ] W-9000-model-stdout com.amazonaws.ml.mms.wlm.WorkerLifeCycle - Persisting 7 models in memory. Models will require 0.0% of memory.\u001b[0m\n",
      "\u001b[34m2024-08-19T11:44:09,258 [INFO ] W-9000-model-stdout com.amazonaws.ml.mms.wlm.WorkerLifeCycle - Model model loaded io_fd=0242a9fffefeff83-00000025-00000004-4c39858128738eeb-a410bdbf\u001b[0m\n",
      "\u001b[34m2024-08-19T11:44:09,258 [INFO ] W-9000-model com.amazonaws.ml.mms.wlm.WorkerThread - Backend response time: 5250\u001b[0m\n",
      "\u001b[34m2024-08-19T11:44:09,259 [WARN ] W-9000-model com.amazonaws.ml.mms.wlm.WorkerLifeCycle - attachIOStreams() threadName=W-model-7\u001b[0m\n",
      "\u001b[35m2024-08-19T11:44:09,163 [INFO ] W-9000-model com.amazonaws.ml.mms.wlm.WorkerThread - Backend response time: 5151\u001b[0m\n",
      "\u001b[35m2024-08-19T11:44:09,163 [WARN ] W-9000-model com.amazonaws.ml.mms.wlm.WorkerLifeCycle - attachIOStreams() threadName=W-model-1\u001b[0m\n",
      "\u001b[35m2024-08-19T11:44:09,187 [INFO ] W-9000-model-stdout com.amazonaws.ml.mms.wlm.WorkerLifeCycle - Persisting 7 models in memory. Models will require 0.0% of memory.\u001b[0m\n",
      "\u001b[35m2024-08-19T11:44:09,198 [INFO ] W-9000-model-stdout com.amazonaws.ml.mms.wlm.WorkerLifeCycle - Model model loaded io_fd=0242a9fffefeff83-00000025-00000007-e6c2c58128738eeb-23c8ff63\u001b[0m\n",
      "\u001b[35m2024-08-19T11:44:09,199 [INFO ] W-9000-model com.amazonaws.ml.mms.wlm.WorkerThread - Backend response time: 5259\u001b[0m\n",
      "\u001b[35m2024-08-19T11:44:09,199 [WARN ] W-9000-model com.amazonaws.ml.mms.wlm.WorkerLifeCycle - attachIOStreams() threadName=W-model-6\u001b[0m\n",
      "\u001b[35m2024-08-19T11:44:09,230 [INFO ] W-9000-model-stdout com.amazonaws.ml.mms.wlm.WorkerLifeCycle - Persisting 7 models in memory. Models will require 0.0% of memory.\u001b[0m\n",
      "\u001b[35m2024-08-19T11:44:09,246 [INFO ] W-9000-model-stdout com.amazonaws.ml.mms.wlm.WorkerLifeCycle - Model model loaded io_fd=0242a9fffefeff83-00000025-00000000-93c0858128738eea-9e4e21eb\u001b[0m\n",
      "\u001b[35m2024-08-19T11:44:09,246 [INFO ] W-9000-model com.amazonaws.ml.mms.wlm.WorkerThread - Backend response time: 5235\u001b[0m\n",
      "\u001b[35m2024-08-19T11:44:09,247 [WARN ] W-9000-model com.amazonaws.ml.mms.wlm.WorkerLifeCycle - attachIOStreams() threadName=W-model-8\u001b[0m\n",
      "\u001b[35m2024-08-19T11:44:09,248 [INFO ] W-9000-model-stdout com.amazonaws.ml.mms.wlm.WorkerLifeCycle - Persisting 7 models in memory. Models will require 0.0% of memory.\u001b[0m\n",
      "\u001b[35m2024-08-19T11:44:09,258 [INFO ] W-9000-model-stdout com.amazonaws.ml.mms.wlm.WorkerLifeCycle - Model model loaded io_fd=0242a9fffefeff83-00000025-00000004-4c39858128738eeb-a410bdbf\u001b[0m\n",
      "\u001b[35m2024-08-19T11:44:09,258 [INFO ] W-9000-model com.amazonaws.ml.mms.wlm.WorkerThread - Backend response time: 5250\u001b[0m\n",
      "\u001b[35m2024-08-19T11:44:09,259 [WARN ] W-9000-model com.amazonaws.ml.mms.wlm.WorkerLifeCycle - attachIOStreams() threadName=W-model-7\u001b[0m\n",
      "\u001b[34m2024-08-19T11:44:10,826 [INFO ] pool-2-thread-10 ACCESS_LOG - /169.254.255.130:42384 \"GET /ping HTTP/1.1\" 200 8\u001b[0m\n",
      "\u001b[34m2024-08-19T11:44:10,835 [INFO ] epollEventLoopGroup-3-2 ACCESS_LOG - /169.254.255.130:42398 \"GET /execution-parameters HTTP/1.1\" 404 1\u001b[0m\n",
      "\u001b[35m2024-08-19T11:44:10,826 [INFO ] pool-2-thread-10 ACCESS_LOG - /169.254.255.130:42384 \"GET /ping HTTP/1.1\" 200 8\u001b[0m\n",
      "\u001b[35m2024-08-19T11:44:10,835 [INFO ] epollEventLoopGroup-3-2 ACCESS_LOG - /169.254.255.130:42398 \"GET /execution-parameters HTTP/1.1\" 404 1\u001b[0m\n",
      "\u001b[34m2024-08-19T11:44:11,110 [INFO ] W-9000-model com.amazonaws.ml.mms.wlm.WorkerThread - Backend response time: 242\u001b[0m\n",
      "\u001b[34m2024-08-19T11:44:11,110 [INFO ] W-9000-model ACCESS_LOG - /169.254.255.130:42400 \"POST /invocations HTTP/1.1\" 200 244\u001b[0m\n",
      "\u001b[35m2024-08-19T11:44:11,110 [INFO ] W-9000-model com.amazonaws.ml.mms.wlm.WorkerThread - Backend response time: 242\u001b[0m\n",
      "\u001b[35m2024-08-19T11:44:11,110 [INFO ] W-9000-model ACCESS_LOG - /169.254.255.130:42400 \"POST /invocations HTTP/1.1\" 200 244\u001b[0m\n",
      "\u001b[32m2024-08-19T11:44:10.841:[sagemaker logs]: MaxConcurrentTransforms=1, MaxPayloadInMB=6, BatchStrategy=MULTI_RECORD\u001b[0m\n",
      "\n"
     ]
    }
   ],
   "source": [
    "# create the model\n",
    "model = automl.create_model(\n",
    "    name=\"equity-trend-model\",\n",
    "    sagemaker_session=session,\n",
    "    inference_response_keys=[\"probabilities\", \"labels\", \"predicted_label\", \"probability\"]\n",
    ")\n",
    "\n",
    "# create the transformer\n",
    "transformer = model.transformer(\n",
    "    instance_count=1,\n",
    "    instance_type=\"ml.m5.2xlarge\",\n",
    ")\n",
    "\n",
    "# run the transform job\n",
    "transformer.transform(\n",
    "    data=test_data,\n",
    "    content_type=\"text/csv\",\n",
    ")"
   ]
  },
  {
   "cell_type": "markdown",
   "id": "5ca45ff8-e532-4737-9fac-b373f1112f43",
   "metadata": {},
   "source": [
    "Get the test set predictions from S3."
   ]
  },
  {
   "cell_type": "code",
   "execution_count": 29,
   "id": "1d39de73-8550-4ac9-b7b6-02002234d98f",
   "metadata": {},
   "outputs": [],
   "source": [
    "# download the predictions from S3\n",
    "predictions = session.read_s3_file(\n",
    "    bucket=bucket,\n",
    "    key_prefix=f\"{transformer.latest_transform_job.name}/test.csv.out\"\n",
    ")\n",
    "\n",
    "# cast the predictions to data frame\n",
    "predictions = pd.read_csv(io.StringIO(predictions), header=None)\n",
    "predictions.columns = [\"probabilities\", \"labels\", \"predicted_label\", \"probability\"]"
   ]
  },
  {
   "cell_type": "code",
   "execution_count": 30,
   "id": "9c3b9665-0c54-4607-b593-29c4830a3614",
   "metadata": {
    "tags": []
   },
   "outputs": [
    {
     "data": {
      "text/plain": [
       "(30, 4)"
      ]
     },
     "execution_count": 30,
     "metadata": {},
     "output_type": "execute_result"
    }
   ],
   "source": [
    "predictions.shape"
   ]
  },
  {
   "cell_type": "code",
   "execution_count": 31,
   "id": "9582d681-914e-4b74-8d5e-2c9c4c03df42",
   "metadata": {},
   "outputs": [
    {
     "data": {
      "text/html": [
       "<div>\n",
       "<style scoped>\n",
       "    .dataframe tbody tr th:only-of-type {\n",
       "        vertical-align: middle;\n",
       "    }\n",
       "\n",
       "    .dataframe tbody tr th {\n",
       "        vertical-align: top;\n",
       "    }\n",
       "\n",
       "    .dataframe thead th {\n",
       "        text-align: right;\n",
       "    }\n",
       "</style>\n",
       "<table border=\"1\" class=\"dataframe\">\n",
       "  <thead>\n",
       "    <tr style=\"text-align: right;\">\n",
       "      <th></th>\n",
       "      <th>probabilities</th>\n",
       "      <th>labels</th>\n",
       "      <th>predicted_label</th>\n",
       "      <th>probability</th>\n",
       "    </tr>\n",
       "  </thead>\n",
       "  <tbody>\n",
       "    <tr>\n",
       "      <th>0</th>\n",
       "      <td>[0.44339269399642944, 0.5566073060035706]</td>\n",
       "      <td>['1.0', '0.0']</td>\n",
       "      <td>0.0</td>\n",
       "      <td>0.556607</td>\n",
       "    </tr>\n",
       "    <tr>\n",
       "      <th>1</th>\n",
       "      <td>[0.3947669267654419, 0.6052330732345581]</td>\n",
       "      <td>['1.0', '0.0']</td>\n",
       "      <td>0.0</td>\n",
       "      <td>0.605233</td>\n",
       "    </tr>\n",
       "    <tr>\n",
       "      <th>2</th>\n",
       "      <td>[0.35636866092681885, 0.6436313390731812]</td>\n",
       "      <td>['1.0', '0.0']</td>\n",
       "      <td>0.0</td>\n",
       "      <td>0.643631</td>\n",
       "    </tr>\n",
       "    <tr>\n",
       "      <th>3</th>\n",
       "      <td>[0.4925159811973572, 0.5074840188026428]</td>\n",
       "      <td>['1.0', '0.0']</td>\n",
       "      <td>0.0</td>\n",
       "      <td>0.507484</td>\n",
       "    </tr>\n",
       "    <tr>\n",
       "      <th>4</th>\n",
       "      <td>[0.4931630492210388, 0.5068369507789612]</td>\n",
       "      <td>['1.0', '0.0']</td>\n",
       "      <td>0.0</td>\n",
       "      <td>0.506837</td>\n",
       "    </tr>\n",
       "  </tbody>\n",
       "</table>\n",
       "</div>"
      ],
      "text/plain": [
       "                               probabilities          labels  predicted_label  \\\n",
       "0  [0.44339269399642944, 0.5566073060035706]  ['1.0', '0.0']              0.0   \n",
       "1   [0.3947669267654419, 0.6052330732345581]  ['1.0', '0.0']              0.0   \n",
       "2  [0.35636866092681885, 0.6436313390731812]  ['1.0', '0.0']              0.0   \n",
       "3   [0.4925159811973572, 0.5074840188026428]  ['1.0', '0.0']              0.0   \n",
       "4   [0.4931630492210388, 0.5068369507789612]  ['1.0', '0.0']              0.0   \n",
       "\n",
       "   probability  \n",
       "0     0.556607  \n",
       "1     0.605233  \n",
       "2     0.643631  \n",
       "3     0.507484  \n",
       "4     0.506837  "
      ]
     },
     "execution_count": 31,
     "metadata": {},
     "output_type": "execute_result"
    }
   ],
   "source": [
    "predictions.head()"
   ]
  },
  {
   "cell_type": "code",
   "execution_count": 32,
   "id": "a973e6ac-2db2-4fc6-8755-3ee64d4d84b9",
   "metadata": {},
   "outputs": [
    {
     "data": {
      "text/html": [
       "<div>\n",
       "<style scoped>\n",
       "    .dataframe tbody tr th:only-of-type {\n",
       "        vertical-align: middle;\n",
       "    }\n",
       "\n",
       "    .dataframe tbody tr th {\n",
       "        vertical-align: top;\n",
       "    }\n",
       "\n",
       "    .dataframe thead th {\n",
       "        text-align: right;\n",
       "    }\n",
       "</style>\n",
       "<table border=\"1\" class=\"dataframe\">\n",
       "  <thead>\n",
       "    <tr style=\"text-align: right;\">\n",
       "      <th></th>\n",
       "      <th>probabilities</th>\n",
       "      <th>labels</th>\n",
       "      <th>predicted_label</th>\n",
       "      <th>probability</th>\n",
       "    </tr>\n",
       "  </thead>\n",
       "  <tbody>\n",
       "    <tr>\n",
       "      <th>25</th>\n",
       "      <td>[0.4145863652229309, 0.5854136347770691]</td>\n",
       "      <td>['1.0', '0.0']</td>\n",
       "      <td>0.0</td>\n",
       "      <td>0.585414</td>\n",
       "    </tr>\n",
       "    <tr>\n",
       "      <th>26</th>\n",
       "      <td>[0.46709680557250977, 0.5329031944274902]</td>\n",
       "      <td>['1.0', '0.0']</td>\n",
       "      <td>0.0</td>\n",
       "      <td>0.532903</td>\n",
       "    </tr>\n",
       "    <tr>\n",
       "      <th>27</th>\n",
       "      <td>[0.4988706707954407, 0.5011293292045593]</td>\n",
       "      <td>['1.0', '0.0']</td>\n",
       "      <td>0.0</td>\n",
       "      <td>0.501129</td>\n",
       "    </tr>\n",
       "    <tr>\n",
       "      <th>28</th>\n",
       "      <td>[0.3520074486732483, 0.6479925513267517]</td>\n",
       "      <td>['1.0', '0.0']</td>\n",
       "      <td>0.0</td>\n",
       "      <td>0.647993</td>\n",
       "    </tr>\n",
       "    <tr>\n",
       "      <th>29</th>\n",
       "      <td>[0.5043209195137024, 0.4956790804862976]</td>\n",
       "      <td>['1.0', '0.0']</td>\n",
       "      <td>1.0</td>\n",
       "      <td>0.504321</td>\n",
       "    </tr>\n",
       "  </tbody>\n",
       "</table>\n",
       "</div>"
      ],
      "text/plain": [
       "                                probabilities          labels  \\\n",
       "25   [0.4145863652229309, 0.5854136347770691]  ['1.0', '0.0']   \n",
       "26  [0.46709680557250977, 0.5329031944274902]  ['1.0', '0.0']   \n",
       "27   [0.4988706707954407, 0.5011293292045593]  ['1.0', '0.0']   \n",
       "28   [0.3520074486732483, 0.6479925513267517]  ['1.0', '0.0']   \n",
       "29   [0.5043209195137024, 0.4956790804862976]  ['1.0', '0.0']   \n",
       "\n",
       "    predicted_label  probability  \n",
       "25              0.0     0.585414  \n",
       "26              0.0     0.532903  \n",
       "27              0.0     0.501129  \n",
       "28              0.0     0.647993  \n",
       "29              1.0     0.504321  "
      ]
     },
     "execution_count": 32,
     "metadata": {},
     "output_type": "execute_result"
    }
   ],
   "source": [
    "predictions.tail()"
   ]
  },
  {
   "cell_type": "markdown",
   "id": "a176b906-25c0-47c2-beae-3419d44e6db3",
   "metadata": {},
   "source": [
    "Process the test set predictions."
   ]
  },
  {
   "cell_type": "code",
   "execution_count": 33,
   "id": "5928056b-0c72-4650-8de1-566a0f27b51e",
   "metadata": {
    "tags": []
   },
   "outputs": [],
   "source": [
    "# extract the predicted probabilities\n",
    "predictions[\"Class 0 Probability\"] = predictions[\"probabilities\"].apply(lambda x: json.loads(x)[1])\n",
    "predictions[\"Class 1 Probability\"] = predictions[\"probabilities\"].apply(lambda x: json.loads(x)[0])\n",
    "predictions[\"Predicted Trend\"] = predictions[[\"Class 0 Probability\", \"Class 1 Probability\"]].apply(lambda x: np.argmax(x), axis=1)\n",
    "\n",
    "# add the dates\n",
    "predictions.index = test_dataset.index\n",
    "\n",
    "# add the ground truth labels\n",
    "predictions[\"Actual Trend\"] = test_dataset[\"Trend\"].astype(int)\n",
    "\n",
    "# drop the unnecessary columns\n",
    "predictions = predictions[[\"Class 0 Probability\", \"Class 1 Probability\", \"Predicted Trend\", \"Actual Trend\"]]"
   ]
  },
  {
   "cell_type": "code",
   "execution_count": 34,
   "id": "cc8c3094-bd75-4b07-98a2-42e414d023ba",
   "metadata": {},
   "outputs": [
    {
     "data": {
      "text/plain": [
       "(30, 4)"
      ]
     },
     "execution_count": 34,
     "metadata": {},
     "output_type": "execute_result"
    }
   ],
   "source": [
    "predictions.shape"
   ]
  },
  {
   "cell_type": "code",
   "execution_count": 35,
   "id": "b60e3385-1682-4b06-9c0a-c0e95cf37ed6",
   "metadata": {
    "tags": []
   },
   "outputs": [
    {
     "data": {
      "text/html": [
       "<div>\n",
       "<style scoped>\n",
       "    .dataframe tbody tr th:only-of-type {\n",
       "        vertical-align: middle;\n",
       "    }\n",
       "\n",
       "    .dataframe tbody tr th {\n",
       "        vertical-align: top;\n",
       "    }\n",
       "\n",
       "    .dataframe thead th {\n",
       "        text-align: right;\n",
       "    }\n",
       "</style>\n",
       "<table border=\"1\" class=\"dataframe\">\n",
       "  <thead>\n",
       "    <tr style=\"text-align: right;\">\n",
       "      <th></th>\n",
       "      <th>Class 0 Probability</th>\n",
       "      <th>Class 1 Probability</th>\n",
       "      <th>Predicted Trend</th>\n",
       "      <th>Actual Trend</th>\n",
       "    </tr>\n",
       "    <tr>\n",
       "      <th>Date</th>\n",
       "      <th></th>\n",
       "      <th></th>\n",
       "      <th></th>\n",
       "      <th></th>\n",
       "    </tr>\n",
       "  </thead>\n",
       "  <tbody>\n",
       "    <tr>\n",
       "      <th>2024-06-17</th>\n",
       "      <td>0.556607</td>\n",
       "      <td>0.443393</td>\n",
       "      <td>0</td>\n",
       "      <td>1</td>\n",
       "    </tr>\n",
       "    <tr>\n",
       "      <th>2024-06-18</th>\n",
       "      <td>0.605233</td>\n",
       "      <td>0.394767</td>\n",
       "      <td>0</td>\n",
       "      <td>0</td>\n",
       "    </tr>\n",
       "    <tr>\n",
       "      <th>2024-06-20</th>\n",
       "      <td>0.643631</td>\n",
       "      <td>0.356369</td>\n",
       "      <td>0</td>\n",
       "      <td>0</td>\n",
       "    </tr>\n",
       "    <tr>\n",
       "      <th>2024-06-21</th>\n",
       "      <td>0.507484</td>\n",
       "      <td>0.492516</td>\n",
       "      <td>0</td>\n",
       "      <td>0</td>\n",
       "    </tr>\n",
       "    <tr>\n",
       "      <th>2024-06-24</th>\n",
       "      <td>0.506837</td>\n",
       "      <td>0.493163</td>\n",
       "      <td>0</td>\n",
       "      <td>1</td>\n",
       "    </tr>\n",
       "  </tbody>\n",
       "</table>\n",
       "</div>"
      ],
      "text/plain": [
       "            Class 0 Probability  Class 1 Probability  Predicted Trend  \\\n",
       "Date                                                                    \n",
       "2024-06-17             0.556607             0.443393                0   \n",
       "2024-06-18             0.605233             0.394767                0   \n",
       "2024-06-20             0.643631             0.356369                0   \n",
       "2024-06-21             0.507484             0.492516                0   \n",
       "2024-06-24             0.506837             0.493163                0   \n",
       "\n",
       "            Actual Trend  \n",
       "Date                      \n",
       "2024-06-17             1  \n",
       "2024-06-18             0  \n",
       "2024-06-20             0  \n",
       "2024-06-21             0  \n",
       "2024-06-24             1  "
      ]
     },
     "execution_count": 35,
     "metadata": {},
     "output_type": "execute_result"
    }
   ],
   "source": [
    "predictions.head()"
   ]
  },
  {
   "cell_type": "code",
   "execution_count": 36,
   "id": "b0a927ce-3347-4b98-8ebf-0643649f4f2a",
   "metadata": {
    "tags": []
   },
   "outputs": [
    {
     "data": {
      "text/html": [
       "<div>\n",
       "<style scoped>\n",
       "    .dataframe tbody tr th:only-of-type {\n",
       "        vertical-align: middle;\n",
       "    }\n",
       "\n",
       "    .dataframe tbody tr th {\n",
       "        vertical-align: top;\n",
       "    }\n",
       "\n",
       "    .dataframe thead th {\n",
       "        text-align: right;\n",
       "    }\n",
       "</style>\n",
       "<table border=\"1\" class=\"dataframe\">\n",
       "  <thead>\n",
       "    <tr style=\"text-align: right;\">\n",
       "      <th></th>\n",
       "      <th>Class 0 Probability</th>\n",
       "      <th>Class 1 Probability</th>\n",
       "      <th>Predicted Trend</th>\n",
       "      <th>Actual Trend</th>\n",
       "    </tr>\n",
       "    <tr>\n",
       "      <th>Date</th>\n",
       "      <th></th>\n",
       "      <th></th>\n",
       "      <th></th>\n",
       "      <th></th>\n",
       "    </tr>\n",
       "  </thead>\n",
       "  <tbody>\n",
       "    <tr>\n",
       "      <th>2024-07-24</th>\n",
       "      <td>0.585414</td>\n",
       "      <td>0.414586</td>\n",
       "      <td>0</td>\n",
       "      <td>0</td>\n",
       "    </tr>\n",
       "    <tr>\n",
       "      <th>2024-07-25</th>\n",
       "      <td>0.532903</td>\n",
       "      <td>0.467097</td>\n",
       "      <td>0</td>\n",
       "      <td>1</td>\n",
       "    </tr>\n",
       "    <tr>\n",
       "      <th>2024-07-26</th>\n",
       "      <td>0.501129</td>\n",
       "      <td>0.498871</td>\n",
       "      <td>0</td>\n",
       "      <td>1</td>\n",
       "    </tr>\n",
       "    <tr>\n",
       "      <th>2024-07-29</th>\n",
       "      <td>0.647993</td>\n",
       "      <td>0.352007</td>\n",
       "      <td>0</td>\n",
       "      <td>0</td>\n",
       "    </tr>\n",
       "    <tr>\n",
       "      <th>2024-07-30</th>\n",
       "      <td>0.495679</td>\n",
       "      <td>0.504321</td>\n",
       "      <td>1</td>\n",
       "      <td>1</td>\n",
       "    </tr>\n",
       "  </tbody>\n",
       "</table>\n",
       "</div>"
      ],
      "text/plain": [
       "            Class 0 Probability  Class 1 Probability  Predicted Trend  \\\n",
       "Date                                                                    \n",
       "2024-07-24             0.585414             0.414586                0   \n",
       "2024-07-25             0.532903             0.467097                0   \n",
       "2024-07-26             0.501129             0.498871                0   \n",
       "2024-07-29             0.647993             0.352007                0   \n",
       "2024-07-30             0.495679             0.504321                1   \n",
       "\n",
       "            Actual Trend  \n",
       "Date                      \n",
       "2024-07-24             0  \n",
       "2024-07-25             1  \n",
       "2024-07-26             1  \n",
       "2024-07-29             0  \n",
       "2024-07-30             1  "
      ]
     },
     "execution_count": 36,
     "metadata": {},
     "output_type": "execute_result"
    }
   ],
   "source": [
    "predictions.tail()"
   ]
  },
  {
   "cell_type": "markdown",
   "id": "5ddcf4a5-6f4f-4868-8aef-2a010d016e2f",
   "metadata": {},
   "source": [
    "Calculate the classification metrics."
   ]
  },
  {
   "cell_type": "code",
   "execution_count": 37,
   "id": "dfaeb23b-e8ab-46ec-bb6a-78106d705eee",
   "metadata": {
    "tags": []
   },
   "outputs": [],
   "source": [
    "metrics = pd.DataFrame(\n",
    "    data={\n",
    "        \"Accuracy\": accuracy_score(y_true=predictions[\"Actual Trend\"], y_pred=predictions[\"Predicted Trend\"]),\n",
    "        \"ROC-AUC\": roc_auc_score(y_true=predictions[\"Actual Trend\"], y_score=predictions[\"Class 1 Probability\"]),\n",
    "        \"Precision\": precision_score(y_true=predictions[\"Actual Trend\"], y_pred=predictions[\"Predicted Trend\"]),\n",
    "        \"Recall\": recall_score(y_true=predictions[\"Actual Trend\"], y_pred=predictions[\"Predicted Trend\"]),\n",
    "        \"F1\": f1_score(y_true=predictions[\"Actual Trend\"], y_pred=predictions[\"Predicted Trend\"]),\n",
    "    },\n",
    "    index=[\"Value\"]\n",
    ").transpose().reset_index().rename(columns={\"index\": \"Metric\"})"
   ]
  },
  {
   "cell_type": "code",
   "execution_count": 38,
   "id": "6660cbc5-43df-4b0a-ad09-8e57bbefa3bc",
   "metadata": {
    "tags": []
   },
   "outputs": [
    {
     "data": {
      "text/html": [
       "<div>\n",
       "<style scoped>\n",
       "    .dataframe tbody tr th:only-of-type {\n",
       "        vertical-align: middle;\n",
       "    }\n",
       "\n",
       "    .dataframe tbody tr th {\n",
       "        vertical-align: top;\n",
       "    }\n",
       "\n",
       "    .dataframe thead th {\n",
       "        text-align: right;\n",
       "    }\n",
       "</style>\n",
       "<table border=\"1\" class=\"dataframe\">\n",
       "  <thead>\n",
       "    <tr style=\"text-align: right;\">\n",
       "      <th></th>\n",
       "      <th>Metric</th>\n",
       "      <th>Value</th>\n",
       "    </tr>\n",
       "  </thead>\n",
       "  <tbody>\n",
       "    <tr>\n",
       "      <th>0</th>\n",
       "      <td>Accuracy</td>\n",
       "      <td>0.633333</td>\n",
       "    </tr>\n",
       "    <tr>\n",
       "      <th>1</th>\n",
       "      <td>ROC-AUC</td>\n",
       "      <td>0.800926</td>\n",
       "    </tr>\n",
       "    <tr>\n",
       "      <th>2</th>\n",
       "      <td>Precision</td>\n",
       "      <td>0.818182</td>\n",
       "    </tr>\n",
       "    <tr>\n",
       "      <th>3</th>\n",
       "      <td>Recall</td>\n",
       "      <td>0.500000</td>\n",
       "    </tr>\n",
       "    <tr>\n",
       "      <th>4</th>\n",
       "      <td>F1</td>\n",
       "      <td>0.620690</td>\n",
       "    </tr>\n",
       "  </tbody>\n",
       "</table>\n",
       "</div>"
      ],
      "text/plain": [
       "      Metric     Value\n",
       "0   Accuracy  0.633333\n",
       "1    ROC-AUC  0.800926\n",
       "2  Precision  0.818182\n",
       "3     Recall  0.500000\n",
       "4         F1  0.620690"
      ]
     },
     "execution_count": 38,
     "metadata": {},
     "output_type": "execute_result"
    }
   ],
   "source": [
    "metrics"
   ]
  },
  {
   "cell_type": "markdown",
   "id": "fa4c61e0-17f4-4624-a47f-61ea11ec5577",
   "metadata": {},
   "source": [
    "Calculate the confusion matrix."
   ]
  },
  {
   "cell_type": "code",
   "execution_count": 39,
   "id": "40ba341c-2d9e-40c5-a3d4-02b7da0ad762",
   "metadata": {
    "tags": []
   },
   "outputs": [],
   "source": [
    "matrix = pd.crosstab(\n",
    "    index=predictions[\"Actual Trend\"],\n",
    "    columns=predictions[\"Predicted Trend\"],\n",
    ")"
   ]
  },
  {
   "cell_type": "code",
   "execution_count": 40,
   "id": "bbb287d0-9999-4b4b-8dea-b83f2f6b0227",
   "metadata": {
    "tags": []
   },
   "outputs": [
    {
     "data": {
      "text/html": [
       "<div>\n",
       "<style scoped>\n",
       "    .dataframe tbody tr th:only-of-type {\n",
       "        vertical-align: middle;\n",
       "    }\n",
       "\n",
       "    .dataframe tbody tr th {\n",
       "        vertical-align: top;\n",
       "    }\n",
       "\n",
       "    .dataframe thead th {\n",
       "        text-align: right;\n",
       "    }\n",
       "</style>\n",
       "<table border=\"1\" class=\"dataframe\">\n",
       "  <thead>\n",
       "    <tr style=\"text-align: right;\">\n",
       "      <th>Predicted Trend</th>\n",
       "      <th>0</th>\n",
       "      <th>1</th>\n",
       "    </tr>\n",
       "    <tr>\n",
       "      <th>Actual Trend</th>\n",
       "      <th></th>\n",
       "      <th></th>\n",
       "    </tr>\n",
       "  </thead>\n",
       "  <tbody>\n",
       "    <tr>\n",
       "      <th>0</th>\n",
       "      <td>10</td>\n",
       "      <td>2</td>\n",
       "    </tr>\n",
       "    <tr>\n",
       "      <th>1</th>\n",
       "      <td>9</td>\n",
       "      <td>9</td>\n",
       "    </tr>\n",
       "  </tbody>\n",
       "</table>\n",
       "</div>"
      ],
      "text/plain": [
       "Predicted Trend   0  1\n",
       "Actual Trend          \n",
       "0                10  2\n",
       "1                 9  9"
      ]
     },
     "execution_count": 40,
     "metadata": {},
     "output_type": "execute_result"
    }
   ],
   "source": [
    "matrix"
   ]
  },
  {
   "cell_type": "markdown",
   "id": "2e7ab433-a94e-4278-976b-11ceacddd098",
   "metadata": {},
   "source": [
    "Delete the model."
   ]
  },
  {
   "cell_type": "code",
   "execution_count": 41,
   "id": "52b33d2f-4602-4118-98f9-98957d0b3488",
   "metadata": {
    "tags": []
   },
   "outputs": [
    {
     "name": "stderr",
     "output_type": "stream",
     "text": [
      "INFO:sagemaker:Deleting model with name: equity-trend-model\n"
     ]
    }
   ],
   "source": [
    "transformer.delete_model()"
   ]
  }
 ],
 "metadata": {
  "kernelspec": {
   "display_name": "Python 3 (ipykernel)",
   "language": "python",
   "name": "python3"
  },
  "language_info": {
   "codemirror_mode": {
    "name": "ipython",
    "version": 3
   },
   "file_extension": ".py",
   "mimetype": "text/x-python",
   "name": "python",
   "nbconvert_exporter": "python",
   "pygments_lexer": "ipython3",
   "version": "3.10.11"
  }
 },
 "nbformat": 4,
 "nbformat_minor": 5
}

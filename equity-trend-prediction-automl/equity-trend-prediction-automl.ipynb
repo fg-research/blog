{
 "cells": [
  {
   "cell_type": "markdown",
   "id": "89aa67b6-4594-42f0-8379-9b6c9ceb7943",
   "metadata": {
    "tags": []
   },
   "source": [
    "# Predicting Stock Market Trends with Amazon SageMaker Autopilot\n",
    "\n",
    "**Blog post:** https://fg-research.com/blog/general/posts/equity-trend-prediction-automl.html"
   ]
  },
  {
   "cell_type": "markdown",
   "id": "3c73d16b-18fb-4ceb-a175-ceb040e8a89b",
   "metadata": {
    "tags": []
   },
   "source": [
    "## Environment Set-Up"
   ]
  },
  {
   "cell_type": "code",
   "execution_count": 1,
   "id": "fe780b9d-033b-400d-baf5-29ba959dd7c2",
   "metadata": {
    "tags": []
   },
   "outputs": [
    {
     "name": "stdout",
     "output_type": "stream",
     "text": [
      "Collecting yfinance\n",
      "  Downloading yfinance-0.2.41-py2.py3-none-any.whl.metadata (11 kB)\n",
      "Collecting pyti\n",
      "  Downloading pyti-0.2.2-py3-none-any.whl.metadata (719 bytes)\n",
      "Requirement already satisfied: pandas>=1.3.0 in /home/ec2-user/anaconda3/envs/python3/lib/python3.10/site-packages (from yfinance) (2.2.2)\n",
      "Requirement already satisfied: numpy>=1.16.5 in /home/ec2-user/anaconda3/envs/python3/lib/python3.10/site-packages (from yfinance) (1.22.4)\n",
      "Requirement already satisfied: requests>=2.31 in /home/ec2-user/anaconda3/envs/python3/lib/python3.10/site-packages (from yfinance) (2.32.3)\n",
      "Collecting multitasking>=0.0.7 (from yfinance)\n",
      "  Downloading multitasking-0.0.11-py3-none-any.whl.metadata (5.5 kB)\n",
      "Collecting lxml>=4.9.1 (from yfinance)\n",
      "  Downloading lxml-5.3.0-cp310-cp310-manylinux_2_17_x86_64.manylinux2014_x86_64.whl.metadata (3.8 kB)\n",
      "Requirement already satisfied: platformdirs>=2.0.0 in /home/ec2-user/anaconda3/envs/python3/lib/python3.10/site-packages (from yfinance) (4.2.2)\n",
      "Requirement already satisfied: pytz>=2022.5 in /home/ec2-user/anaconda3/envs/python3/lib/python3.10/site-packages (from yfinance) (2024.1)\n",
      "Collecting frozendict>=2.3.4 (from yfinance)\n",
      "  Downloading frozendict-2.4.4-cp310-cp310-manylinux_2_17_x86_64.manylinux2014_x86_64.whl.metadata (23 kB)\n",
      "Collecting peewee>=3.16.2 (from yfinance)\n",
      "  Downloading peewee-3.17.6.tar.gz (3.0 MB)\n",
      "\u001b[2K     \u001b[90m━━━━━━━━━━━━━━━━━━━━━━━━━━━━━━━━━━━━━━━━\u001b[0m \u001b[32m3.0/3.0 MB\u001b[0m \u001b[31m18.1 MB/s\u001b[0m eta \u001b[36m0:00:00\u001b[0m00:01\u001b[0m00:01\u001b[0m\n",
      "\u001b[?25h  Installing build dependencies ... \u001b[?25ldone\n",
      "\u001b[?25h  Getting requirements to build wheel ... \u001b[?25ldone\n",
      "\u001b[?25h  Preparing metadata (pyproject.toml) ... \u001b[?25ldone\n",
      "\u001b[?25hRequirement already satisfied: beautifulsoup4>=4.11.1 in /home/ec2-user/anaconda3/envs/python3/lib/python3.10/site-packages (from yfinance) (4.12.3)\n",
      "Collecting html5lib>=1.1 (from yfinance)\n",
      "  Downloading html5lib-1.1-py2.py3-none-any.whl.metadata (16 kB)\n",
      "Requirement already satisfied: soupsieve>1.2 in /home/ec2-user/anaconda3/envs/python3/lib/python3.10/site-packages (from beautifulsoup4>=4.11.1->yfinance) (2.5)\n",
      "Requirement already satisfied: six>=1.9 in /home/ec2-user/anaconda3/envs/python3/lib/python3.10/site-packages (from html5lib>=1.1->yfinance) (1.16.0)\n",
      "Requirement already satisfied: webencodings in /home/ec2-user/anaconda3/envs/python3/lib/python3.10/site-packages (from html5lib>=1.1->yfinance) (0.5.1)\n",
      "Requirement already satisfied: python-dateutil>=2.8.2 in /home/ec2-user/anaconda3/envs/python3/lib/python3.10/site-packages (from pandas>=1.3.0->yfinance) (2.9.0)\n",
      "Requirement already satisfied: tzdata>=2022.7 in /home/ec2-user/anaconda3/envs/python3/lib/python3.10/site-packages (from pandas>=1.3.0->yfinance) (2024.1)\n",
      "Requirement already satisfied: charset-normalizer<4,>=2 in /home/ec2-user/anaconda3/envs/python3/lib/python3.10/site-packages (from requests>=2.31->yfinance) (3.3.2)\n",
      "Requirement already satisfied: idna<4,>=2.5 in /home/ec2-user/anaconda3/envs/python3/lib/python3.10/site-packages (from requests>=2.31->yfinance) (3.7)\n",
      "Requirement already satisfied: urllib3<3,>=1.21.1 in /home/ec2-user/anaconda3/envs/python3/lib/python3.10/site-packages (from requests>=2.31->yfinance) (2.2.1)\n",
      "Requirement already satisfied: certifi>=2017.4.17 in /home/ec2-user/anaconda3/envs/python3/lib/python3.10/site-packages (from requests>=2.31->yfinance) (2024.6.2)\n",
      "Downloading yfinance-0.2.41-py2.py3-none-any.whl (73 kB)\n",
      "\u001b[2K   \u001b[90m━━━━━━━━━━━━━━━━━━━━━━━━━━━━━━━━━━━━━━━━\u001b[0m \u001b[32m73.5/73.5 kB\u001b[0m \u001b[31m12.7 MB/s\u001b[0m eta \u001b[36m0:00:00\u001b[0m\n",
      "\u001b[?25hDownloading pyti-0.2.2-py3-none-any.whl (27 kB)\n",
      "Downloading frozendict-2.4.4-cp310-cp310-manylinux_2_17_x86_64.manylinux2014_x86_64.whl (117 kB)\n",
      "\u001b[2K   \u001b[90m━━━━━━━━━━━━━━━━━━━━━━━━━━━━━━━━━━━━━━━━\u001b[0m \u001b[32m117.3/117.3 kB\u001b[0m \u001b[31m14.3 MB/s\u001b[0m eta \u001b[36m0:00:00\u001b[0m\n",
      "\u001b[?25hDownloading html5lib-1.1-py2.py3-none-any.whl (112 kB)\n",
      "\u001b[2K   \u001b[90m━━━━━━━━━━━━━━━━━━━━━━━━━━━━━━━━━━━━━━━━\u001b[0m \u001b[32m112.2/112.2 kB\u001b[0m \u001b[31m15.5 MB/s\u001b[0m eta \u001b[36m0:00:00\u001b[0m\n",
      "\u001b[?25hDownloading lxml-5.3.0-cp310-cp310-manylinux_2_17_x86_64.manylinux2014_x86_64.whl (5.0 MB)\n",
      "\u001b[2K   \u001b[90m━━━━━━━━━━━━━━━━━━━━━━━━━━━━━━━━━━━━━━━━\u001b[0m \u001b[32m5.0/5.0 MB\u001b[0m \u001b[31m107.7 MB/s\u001b[0m eta \u001b[36m0:00:00\u001b[0m00:01\u001b[0m\n",
      "\u001b[?25hDownloading multitasking-0.0.11-py3-none-any.whl (8.5 kB)\n",
      "Building wheels for collected packages: peewee\n",
      "  Building wheel for peewee (pyproject.toml) ... \u001b[?25ldone\n",
      "\u001b[?25h  Created wheel for peewee: filename=peewee-3.17.6-cp310-cp310-linux_x86_64.whl size=279107 sha256=261d672507eb26fa779a302c510f2c53a60d1904c92c13463646e3fc72b0c5e9\n",
      "  Stored in directory: /home/ec2-user/.cache/pip/wheels/4b/b9/b0/83d6e258e8f963f5ff111a2cd8c483ca59372a86e6a2535212\n",
      "Successfully built peewee\n",
      "Installing collected packages: peewee, multitasking, lxml, html5lib, frozendict, yfinance, pyti\n",
      "Successfully installed frozendict-2.4.4 html5lib-1.1 lxml-5.3.0 multitasking-0.0.11 peewee-3.17.6 pyti-0.2.2 yfinance-0.2.41\n"
     ]
    }
   ],
   "source": [
    "!pip install yfinance pyti"
   ]
  },
  {
   "cell_type": "code",
   "execution_count": 2,
   "id": "272b2138-dcb6-42aa-b9db-f841bb962781",
   "metadata": {
    "tags": []
   },
   "outputs": [
    {
     "name": "stdout",
     "output_type": "stream",
     "text": [
      "sagemaker.config INFO - Not applying SDK defaults from location: /etc/xdg/sagemaker/config.yaml\n",
      "sagemaker.config INFO - Not applying SDK defaults from location: /home/ec2-user/.config/sagemaker/config.yaml\n"
     ]
    }
   ],
   "source": [
    "import warnings\n",
    "import io\n",
    "import boto3\n",
    "import json\n",
    "import sagemaker\n",
    "import yfinance as yf\n",
    "import pandas as pd\n",
    "import numpy as np\n",
    "from pyti.simple_moving_average import simple_moving_average\n",
    "from pyti.weighted_moving_average import weighted_moving_average\n",
    "from pyti.momentum import momentum\n",
    "from pyti.stochastic import percent_k, percent_d\n",
    "from pyti.williams_percent_r import williams_percent_r\n",
    "from pyti.accumulation_distribution import accumulation_distribution\n",
    "from pyti.moving_average_convergence_divergence import moving_average_convergence_divergence\n",
    "from pyti.relative_strength_index import relative_strength_index\n",
    "from pyti.commodity_channel_index import commodity_channel_index\n",
    "from sklearn.metrics import precision_score, recall_score, f1_score, accuracy_score, roc_auc_score\n",
    "warnings.filterwarnings(action=\"ignore\")\n",
    "\n",
    "# SageMaker session\n",
    "session = sagemaker.Session()\n",
    "\n",
    "# SageMaker role\n",
    "role = sagemaker.get_execution_role()\n",
    "\n",
    "# S3 bucket\n",
    "bucket = session.default_bucket()\n",
    "\n",
    "# Boto3 client\n",
    "client = boto3.client(\"sagemaker-runtime\")"
   ]
  },
  {
   "cell_type": "markdown",
   "id": "d6c8f676-f6f0-416b-9a4a-b757450a44b2",
   "metadata": {
    "tags": []
   },
   "source": [
    "## Data Preparation"
   ]
  },
  {
   "cell_type": "markdown",
   "id": "5c5b935c-c8d6-4cd1-a458-a0fda7bf2f9b",
   "metadata": {},
   "source": [
    "Download the data."
   ]
  },
  {
   "cell_type": "code",
   "execution_count": 3,
   "id": "94f79819-88c2-4895-9c7e-3dc01c1d2e19",
   "metadata": {
    "tags": []
   },
   "outputs": [
    {
     "name": "stderr",
     "output_type": "stream",
     "text": [
      "[*********************100%%**********************]  1 of 1 completed\n"
     ]
    }
   ],
   "source": [
    "dataset = yf.download(tickers=\"^SPX\", start=\"2021-08-01\", end=\"2024-08-01\")"
   ]
  },
  {
   "cell_type": "markdown",
   "id": "5c1b5bc8-823a-4091-8865-3fafb4782d6b",
   "metadata": {},
   "source": [
    "Calculate the technical indicators."
   ]
  },
  {
   "cell_type": "code",
   "execution_count": 4,
   "id": "85200c8f-1b11-485e-97b9-3d71347cbe58",
   "metadata": {},
   "outputs": [],
   "source": [
    "# simple moving average\n",
    "dataset[\"Simple MA\"] = simple_moving_average(\n",
    "    data=dataset[\"Close\"],\n",
    "    period=10\n",
    ")\n",
    "\n",
    "# weighted moving average\n",
    "dataset[\"Weighted MA\"] = weighted_moving_average(\n",
    "    data=dataset[\"Close\"],\n",
    "    period=10\n",
    ")\n",
    "\n",
    "# momentum\n",
    "dataset[\"Momentum\"] = momentum(\n",
    "    data=dataset[\"Close\"],\n",
    "    period=10\n",
    ")\n",
    "\n",
    "# stochastic K%\n",
    "dataset[\"Stochastic K%\"] = percent_k(\n",
    "    data=dataset[\"Close\"],\n",
    "    period=10\n",
    ")\n",
    "\n",
    "# stochastic D%\n",
    "dataset[\"Stochastic D%\"] = percent_d(\n",
    "    data=dataset[\"Close\"],\n",
    "    period=10\n",
    ")\n",
    "\n",
    "# relative strength index\n",
    "dataset[\"RSI\"] = relative_strength_index(\n",
    "    data=dataset[\"Close\"],\n",
    "    period=10\n",
    ")\n",
    "\n",
    "# moving average convergence divergence\n",
    "dataset[\"MACD\"] = moving_average_convergence_divergence(\n",
    "    data=dataset[\"Close\"],\n",
    "    short_period=12,\n",
    "    long_period=26\n",
    ")\n",
    "\n",
    "# Larry William’s R%\n",
    "dataset[\"LW R%\"] = williams_percent_r(\n",
    "    close_data=dataset[\"Close\"],\n",
    ")\n",
    "\n",
    "# accumulation / distribution oscillator\n",
    "dataset[\"A/D Oscillator\"] = accumulation_distribution(\n",
    "    close_data=dataset[\"Close\"],\n",
    "    low_data=dataset[\"Low\"],\n",
    "    high_data=dataset[\"High\"],\n",
    "    volume=dataset[\"Volume\"]\n",
    ")\n",
    "\n",
    "# commodity channel index\n",
    "dataset[\"CCI\"] = commodity_channel_index(\n",
    "    close_data=dataset[\"Close\"],\n",
    "    low_data=dataset[\"Low\"],\n",
    "    high_data=dataset[\"High\"],\n",
    "    period=10\n",
    ")"
   ]
  },
  {
   "cell_type": "markdown",
   "id": "b4903b0e-da56-42b9-a8d9-f337bdf47263",
   "metadata": {},
   "source": [
    "Derive the class labels (up = `1`, down = `0`)."
   ]
  },
  {
   "cell_type": "code",
   "execution_count": 5,
   "id": "a05d8782-9b48-44fb-ba0a-19b2ca63bfa2",
   "metadata": {},
   "outputs": [],
   "source": [
    "dataset.insert(0, \"Trend\", (dataset[\"Close\"].shift(periods=-1) > dataset[\"Close\"]).astype(int))"
   ]
  },
  {
   "cell_type": "markdown",
   "id": "23f023b4-8e5c-4470-b98a-7888d177a31b",
   "metadata": {},
   "source": [
    "Drop the unnecessary columns."
   ]
  },
  {
   "cell_type": "code",
   "execution_count": 6,
   "id": "aa2ac013-8e36-4be3-9a5b-352578984448",
   "metadata": {},
   "outputs": [],
   "source": [
    "dataset.drop(labels=[\"Close\", \"Open\", \"High\", \"Low\", \"Volume\", \"Adj Close\"], axis=1, inplace=True)"
   ]
  },
  {
   "cell_type": "markdown",
   "id": "85d4182c-e92a-45d9-b4bd-dd413a101bd0",
   "metadata": {},
   "source": [
    "Drop the missing values."
   ]
  },
  {
   "cell_type": "code",
   "execution_count": 7,
   "id": "777f57f9-64b7-4430-88c9-ec1af7105ee2",
   "metadata": {
    "tags": []
   },
   "outputs": [],
   "source": [
    "dataset.dropna(inplace=True)"
   ]
  },
  {
   "cell_type": "code",
   "execution_count": 8,
   "id": "bdf2f6fa-922f-4175-b835-bb067f277ed8",
   "metadata": {},
   "outputs": [
    {
     "data": {
      "text/plain": [
       "(729, 11)"
      ]
     },
     "execution_count": 8,
     "metadata": {},
     "output_type": "execute_result"
    }
   ],
   "source": [
    "dataset.shape"
   ]
  },
  {
   "cell_type": "code",
   "execution_count": 9,
   "id": "8e60c5fe-e27b-47c6-9350-4825ef746f37",
   "metadata": {},
   "outputs": [
    {
     "data": {
      "text/html": [
       "<div>\n",
       "<style scoped>\n",
       "    .dataframe tbody tr th:only-of-type {\n",
       "        vertical-align: middle;\n",
       "    }\n",
       "\n",
       "    .dataframe tbody tr th {\n",
       "        vertical-align: top;\n",
       "    }\n",
       "\n",
       "    .dataframe thead th {\n",
       "        text-align: right;\n",
       "    }\n",
       "</style>\n",
       "<table border=\"1\" class=\"dataframe\">\n",
       "  <thead>\n",
       "    <tr style=\"text-align: right;\">\n",
       "      <th></th>\n",
       "      <th>Trend</th>\n",
       "      <th>Simple MA</th>\n",
       "      <th>Weighted MA</th>\n",
       "      <th>Momentum</th>\n",
       "      <th>Stochastic K%</th>\n",
       "      <th>Stochastic D%</th>\n",
       "      <th>RSI</th>\n",
       "      <th>MACD</th>\n",
       "      <th>LW R%</th>\n",
       "      <th>A/D Oscillator</th>\n",
       "      <th>CCI</th>\n",
       "    </tr>\n",
       "    <tr>\n",
       "      <th>Date</th>\n",
       "      <th></th>\n",
       "      <th></th>\n",
       "      <th></th>\n",
       "      <th></th>\n",
       "      <th></th>\n",
       "      <th></th>\n",
       "      <th></th>\n",
       "      <th></th>\n",
       "      <th></th>\n",
       "      <th></th>\n",
       "      <th></th>\n",
       "    </tr>\n",
       "  </thead>\n",
       "  <tbody>\n",
       "    <tr>\n",
       "      <th>2021-09-07</th>\n",
       "      <td>0</td>\n",
       "      <td>4512.976025</td>\n",
       "      <td>4521.627663</td>\n",
       "      <td>33.799805</td>\n",
       "      <td>0.747269</td>\n",
       "      <td>0.908188</td>\n",
       "      <td>63.584309</td>\n",
       "      <td>29.019350</td>\n",
       "      <td>-54.884068</td>\n",
       "      <td>1.653819e+10</td>\n",
       "      <td>1.835139</td>\n",
       "    </tr>\n",
       "    <tr>\n",
       "      <th>2021-09-08</th>\n",
       "      <td>0</td>\n",
       "      <td>4515.760010</td>\n",
       "      <td>4521.826536</td>\n",
       "      <td>17.879883</td>\n",
       "      <td>0.658248</td>\n",
       "      <td>0.794271</td>\n",
       "      <td>61.036421</td>\n",
       "      <td>26.950266</td>\n",
       "      <td>-55.169210</td>\n",
       "      <td>1.820877e+10</td>\n",
       "      <td>-0.940604</td>\n",
       "    </tr>\n",
       "    <tr>\n",
       "      <th>2021-09-09</th>\n",
       "      <td>0</td>\n",
       "      <td>4515.468994</td>\n",
       "      <td>4517.739222</td>\n",
       "      <td>23.279785</td>\n",
       "      <td>0.347718</td>\n",
       "      <td>0.584412</td>\n",
       "      <td>52.831201</td>\n",
       "      <td>22.518786</td>\n",
       "      <td>-56.163868</td>\n",
       "      <td>1.471232e+10</td>\n",
       "      <td>-2.023420</td>\n",
       "    </tr>\n",
       "    <tr>\n",
       "      <th>2021-09-10</th>\n",
       "      <td>1</td>\n",
       "      <td>4514.327002</td>\n",
       "      <td>4507.395783</td>\n",
       "      <td>-50.790039</td>\n",
       "      <td>0.000000</td>\n",
       "      <td>0.335322</td>\n",
       "      <td>42.288508</td>\n",
       "      <td>15.094595</td>\n",
       "      <td>-57.824006</td>\n",
       "      <td>1.119527e+10</td>\n",
       "      <td>-6.831255</td>\n",
       "    </tr>\n",
       "    <tr>\n",
       "      <th>2021-09-13</th>\n",
       "      <td>0</td>\n",
       "      <td>4510.262988</td>\n",
       "      <td>4499.105415</td>\n",
       "      <td>-60.060059</td>\n",
       "      <td>0.129512</td>\n",
       "      <td>0.159077</td>\n",
       "      <td>45.803512</td>\n",
       "      <td>9.960096</td>\n",
       "      <td>-57.338404</td>\n",
       "      <td>1.109343e+10</td>\n",
       "      <td>-8.074242</td>\n",
       "    </tr>\n",
       "  </tbody>\n",
       "</table>\n",
       "</div>"
      ],
      "text/plain": [
       "            Trend    Simple MA  Weighted MA   Momentum  Stochastic K%  \\\n",
       "Date                                                                    \n",
       "2021-09-07      0  4512.976025  4521.627663  33.799805       0.747269   \n",
       "2021-09-08      0  4515.760010  4521.826536  17.879883       0.658248   \n",
       "2021-09-09      0  4515.468994  4517.739222  23.279785       0.347718   \n",
       "2021-09-10      1  4514.327002  4507.395783 -50.790039       0.000000   \n",
       "2021-09-13      0  4510.262988  4499.105415 -60.060059       0.129512   \n",
       "\n",
       "            Stochastic D%        RSI       MACD      LW R%  A/D Oscillator  \\\n",
       "Date                                                                         \n",
       "2021-09-07       0.908188  63.584309  29.019350 -54.884068    1.653819e+10   \n",
       "2021-09-08       0.794271  61.036421  26.950266 -55.169210    1.820877e+10   \n",
       "2021-09-09       0.584412  52.831201  22.518786 -56.163868    1.471232e+10   \n",
       "2021-09-10       0.335322  42.288508  15.094595 -57.824006    1.119527e+10   \n",
       "2021-09-13       0.159077  45.803512   9.960096 -57.338404    1.109343e+10   \n",
       "\n",
       "                 CCI  \n",
       "Date                  \n",
       "2021-09-07  1.835139  \n",
       "2021-09-08 -0.940604  \n",
       "2021-09-09 -2.023420  \n",
       "2021-09-10 -6.831255  \n",
       "2021-09-13 -8.074242  "
      ]
     },
     "execution_count": 9,
     "metadata": {},
     "output_type": "execute_result"
    }
   ],
   "source": [
    "dataset.head()"
   ]
  },
  {
   "cell_type": "code",
   "execution_count": 10,
   "id": "cfe499f5-1069-4f5e-aeb2-bb59484d7644",
   "metadata": {
    "tags": []
   },
   "outputs": [
    {
     "data": {
      "text/html": [
       "<div>\n",
       "<style scoped>\n",
       "    .dataframe tbody tr th:only-of-type {\n",
       "        vertical-align: middle;\n",
       "    }\n",
       "\n",
       "    .dataframe tbody tr th {\n",
       "        vertical-align: top;\n",
       "    }\n",
       "\n",
       "    .dataframe thead th {\n",
       "        text-align: right;\n",
       "    }\n",
       "</style>\n",
       "<table border=\"1\" class=\"dataframe\">\n",
       "  <thead>\n",
       "    <tr style=\"text-align: right;\">\n",
       "      <th></th>\n",
       "      <th>Trend</th>\n",
       "      <th>Simple MA</th>\n",
       "      <th>Weighted MA</th>\n",
       "      <th>Momentum</th>\n",
       "      <th>Stochastic K%</th>\n",
       "      <th>Stochastic D%</th>\n",
       "      <th>RSI</th>\n",
       "      <th>MACD</th>\n",
       "      <th>LW R%</th>\n",
       "      <th>A/D Oscillator</th>\n",
       "      <th>CCI</th>\n",
       "    </tr>\n",
       "    <tr>\n",
       "      <th>Date</th>\n",
       "      <th></th>\n",
       "      <th></th>\n",
       "      <th></th>\n",
       "      <th></th>\n",
       "      <th></th>\n",
       "      <th></th>\n",
       "      <th></th>\n",
       "      <th></th>\n",
       "      <th></th>\n",
       "      <th></th>\n",
       "      <th></th>\n",
       "    </tr>\n",
       "  </thead>\n",
       "  <tbody>\n",
       "    <tr>\n",
       "      <th>2024-07-25</th>\n",
       "      <td>1</td>\n",
       "      <td>5549.813086</td>\n",
       "      <td>5513.065172</td>\n",
       "      <td>-216.129883</td>\n",
       "      <td>0.000000</td>\n",
       "      <td>0.104275</td>\n",
       "      <td>33.716938</td>\n",
       "      <td>-11.579047</td>\n",
       "      <td>-12.820965</td>\n",
       "      <td>2.610277e+11</td>\n",
       "      <td>-24.196463</td>\n",
       "    </tr>\n",
       "    <tr>\n",
       "      <th>2024-07-26</th>\n",
       "      <td>1</td>\n",
       "      <td>5534.188086</td>\n",
       "      <td>5496.571902</td>\n",
       "      <td>-172.120117</td>\n",
       "      <td>0.223449</td>\n",
       "      <td>0.074483</td>\n",
       "      <td>42.986717</td>\n",
       "      <td>-19.550389</td>\n",
       "      <td>-9.956132</td>\n",
       "      <td>2.609759e+11</td>\n",
       "      <td>-15.360060</td>\n",
       "    </tr>\n",
       "    <tr>\n",
       "      <th>2024-07-29</th>\n",
       "      <td>0</td>\n",
       "      <td>5517.420068</td>\n",
       "      <td>5483.726802</td>\n",
       "      <td>-203.660156</td>\n",
       "      <td>0.240017</td>\n",
       "      <td>0.154489</td>\n",
       "      <td>43.636131</td>\n",
       "      <td>-24.402278</td>\n",
       "      <td>-9.743712</td>\n",
       "      <td>2.605778e+11</td>\n",
       "      <td>-11.126445</td>\n",
       "    </tr>\n",
       "    <tr>\n",
       "      <th>2024-07-30</th>\n",
       "      <td>1</td>\n",
       "      <td>5494.344043</td>\n",
       "      <td>5469.003143</td>\n",
       "      <td>-151.830078</td>\n",
       "      <td>0.196878</td>\n",
       "      <td>0.220115</td>\n",
       "      <td>40.506981</td>\n",
       "      <td>-31.457025</td>\n",
       "      <td>-11.040262</td>\n",
       "      <td>2.597909e+11</td>\n",
       "      <td>-11.327447</td>\n",
       "    </tr>\n",
       "    <tr>\n",
       "      <th>2024-07-31</th>\n",
       "      <td>0</td>\n",
       "      <td>5487.747021</td>\n",
       "      <td>5474.086009</td>\n",
       "      <td>-22.290039</td>\n",
       "      <td>0.745079</td>\n",
       "      <td>0.393991</td>\n",
       "      <td>52.498281</td>\n",
       "      <td>-29.555742</td>\n",
       "      <td>-6.932469</td>\n",
       "      <td>2.597390e+11</td>\n",
       "      <td>4.720467</td>\n",
       "    </tr>\n",
       "  </tbody>\n",
       "</table>\n",
       "</div>"
      ],
      "text/plain": [
       "            Trend    Simple MA  Weighted MA    Momentum  Stochastic K%  \\\n",
       "Date                                                                     \n",
       "2024-07-25      1  5549.813086  5513.065172 -216.129883       0.000000   \n",
       "2024-07-26      1  5534.188086  5496.571902 -172.120117       0.223449   \n",
       "2024-07-29      0  5517.420068  5483.726802 -203.660156       0.240017   \n",
       "2024-07-30      1  5494.344043  5469.003143 -151.830078       0.196878   \n",
       "2024-07-31      0  5487.747021  5474.086009  -22.290039       0.745079   \n",
       "\n",
       "            Stochastic D%        RSI       MACD      LW R%  A/D Oscillator  \\\n",
       "Date                                                                         \n",
       "2024-07-25       0.104275  33.716938 -11.579047 -12.820965    2.610277e+11   \n",
       "2024-07-26       0.074483  42.986717 -19.550389  -9.956132    2.609759e+11   \n",
       "2024-07-29       0.154489  43.636131 -24.402278  -9.743712    2.605778e+11   \n",
       "2024-07-30       0.220115  40.506981 -31.457025 -11.040262    2.597909e+11   \n",
       "2024-07-31       0.393991  52.498281 -29.555742  -6.932469    2.597390e+11   \n",
       "\n",
       "                  CCI  \n",
       "Date                   \n",
       "2024-07-25 -24.196463  \n",
       "2024-07-26 -15.360060  \n",
       "2024-07-29 -11.126445  \n",
       "2024-07-30 -11.327447  \n",
       "2024-07-31   4.720467  "
      ]
     },
     "execution_count": 10,
     "metadata": {},
     "output_type": "execute_result"
    }
   ],
   "source": [
    "dataset.tail()"
   ]
  },
  {
   "cell_type": "markdown",
   "id": "77adc4ce-77d7-49e4-bf47-5cf189af28ef",
   "metadata": {},
   "source": [
    "Split the data."
   ]
  },
  {
   "cell_type": "code",
   "execution_count": 11,
   "id": "3d0a681e-0a74-4913-a59e-c57387f2eb25",
   "metadata": {
    "tags": []
   },
   "outputs": [],
   "source": [
    "test_size = 30"
   ]
  },
  {
   "cell_type": "code",
   "execution_count": 12,
   "id": "1411b367-4dac-49c1-8c87-e3e2ab5ed9c9",
   "metadata": {
    "tags": []
   },
   "outputs": [],
   "source": [
    "training_dataset = dataset.iloc[:- 2 * test_size]"
   ]
  },
  {
   "cell_type": "code",
   "execution_count": 13,
   "id": "5f34b450-4529-46ed-abde-0597677a5aa0",
   "metadata": {},
   "outputs": [
    {
     "name": "stdout",
     "output_type": "stream",
     "text": [
      "training samples: 669\n",
      "training dates: 2021-09-07 / 2024-05-03\n"
     ]
    }
   ],
   "source": [
    "print(f\"training samples: {len(training_dataset)}\")\n",
    "print(f\"training dates: {training_dataset.index.min().date()} / {training_dataset.index.max().date()}\")"
   ]
  },
  {
   "cell_type": "code",
   "execution_count": 14,
   "id": "b66195cb-90fc-462a-9728-5b0a3e7deea5",
   "metadata": {
    "tags": []
   },
   "outputs": [],
   "source": [
    "validation_dataset = dataset.iloc[- 2 * test_size: - test_size]"
   ]
  },
  {
   "cell_type": "code",
   "execution_count": 15,
   "id": "239b4400-cd78-4a53-a84e-efe38f6e7f11",
   "metadata": {},
   "outputs": [
    {
     "name": "stdout",
     "output_type": "stream",
     "text": [
      "validation samples: 30\n",
      "validation dates: 2024-05-06 / 2024-06-17\n"
     ]
    }
   ],
   "source": [
    "print(f\"validation samples: {len(validation_dataset)}\")\n",
    "print(f\"validation dates: {validation_dataset.index.min().date()} / {validation_dataset.index.max().date()}\")"
   ]
  },
  {
   "cell_type": "code",
   "execution_count": 16,
   "id": "5715d85e-12fe-4aa0-9de3-2396c2c7c60f",
   "metadata": {
    "tags": []
   },
   "outputs": [],
   "source": [
    "test_dataset = dataset.iloc[- test_size:]"
   ]
  },
  {
   "cell_type": "code",
   "execution_count": 17,
   "id": "d324ef31-8345-4b3e-a1a3-b920a52b49ad",
   "metadata": {
    "tags": []
   },
   "outputs": [
    {
     "name": "stdout",
     "output_type": "stream",
     "text": [
      "test samples: 30\n",
      "test dates: 2024-06-18 / 2024-07-31\n"
     ]
    }
   ],
   "source": [
    "print(f\"test samples: {len(test_dataset)}\")\n",
    "print(f\"test dates: {test_dataset.index.min().date()} / {test_dataset.index.max().date()}\")"
   ]
  },
  {
   "cell_type": "markdown",
   "id": "332b527d-45fc-4a63-b050-d764d7c92890",
   "metadata": {},
   "source": [
    "Save the data to S3."
   ]
  },
  {
   "cell_type": "code",
   "execution_count": 18,
   "id": "7afa7d58-699a-48f8-835c-c29d35fd46ae",
   "metadata": {},
   "outputs": [],
   "source": [
    "training_data = session.upload_string_as_file_body(\n",
    "    body=training_dataset.to_csv(index=False),\n",
    "    bucket=bucket,\n",
    "    key=\"data/train.csv\"\n",
    ")"
   ]
  },
  {
   "cell_type": "code",
   "execution_count": 19,
   "id": "0c823491-3097-4900-8357-e0e17caa193b",
   "metadata": {
    "tags": []
   },
   "outputs": [
    {
     "data": {
      "text/plain": [
       "'s3://sagemaker-eu-west-1-661670223746/data/train.csv'"
      ]
     },
     "execution_count": 19,
     "metadata": {},
     "output_type": "execute_result"
    }
   ],
   "source": [
    "training_data"
   ]
  },
  {
   "cell_type": "code",
   "execution_count": 20,
   "id": "e110e003-d937-441c-ae35-61b8a768c4fd",
   "metadata": {},
   "outputs": [],
   "source": [
    "validation_data = session.upload_string_as_file_body(\n",
    "    body=validation_dataset.to_csv(index=False),\n",
    "    bucket=bucket,\n",
    "    key=\"data/valid.csv\"\n",
    ")"
   ]
  },
  {
   "cell_type": "code",
   "execution_count": 21,
   "id": "af68a72a-b49a-4d06-9dea-f311757ff0d6",
   "metadata": {
    "tags": []
   },
   "outputs": [
    {
     "data": {
      "text/plain": [
       "'s3://sagemaker-eu-west-1-661670223746/data/valid.csv'"
      ]
     },
     "execution_count": 21,
     "metadata": {},
     "output_type": "execute_result"
    }
   ],
   "source": [
    "validation_data"
   ]
  },
  {
   "cell_type": "code",
   "execution_count": 22,
   "id": "a6eba86f-7e3f-4043-9132-24e2d243c3be",
   "metadata": {
    "tags": []
   },
   "outputs": [],
   "source": [
    "test_data = session.upload_string_as_file_body(\n",
    "    body=test_dataset.drop(labels=[\"Trend\"], axis=1).to_csv(index=False, header=False),\n",
    "    bucket=bucket,\n",
    "    key=\"data/test.csv\"\n",
    ")"
   ]
  },
  {
   "cell_type": "code",
   "execution_count": 23,
   "id": "d1b34a68-1e08-40ca-bd9e-de3007080931",
   "metadata": {
    "tags": []
   },
   "outputs": [
    {
     "data": {
      "text/plain": [
       "'s3://sagemaker-eu-west-1-661670223746/data/test.csv'"
      ]
     },
     "execution_count": 23,
     "metadata": {},
     "output_type": "execute_result"
    }
   ],
   "source": [
    "test_data"
   ]
  },
  {
   "cell_type": "markdown",
   "id": "0eadc750-8dde-4463-98d8-ae23f58ea579",
   "metadata": {},
   "source": [
    "## Model Selection"
   ]
  },
  {
   "cell_type": "markdown",
   "id": "f4898a67-919e-43f6-a0f0-a66fce0462ce",
   "metadata": {},
   "source": [
    "Find the best model."
   ]
  },
  {
   "cell_type": "code",
   "execution_count": 24,
   "id": "e9993382-cd1c-49b9-8bd9-89c88e90a43f",
   "metadata": {
    "tags": []
   },
   "outputs": [
    {
     "name": "stdout",
     "output_type": "stream",
     "text": [
      "{\"AutoMLJobName\": \"equity-t-2024-08-18-17-50-22-071\", \"AutoMLJobInputDataConfig\": [{\"DataSource\": {\"S3DataSource\": {\"S3DataType\": \"S3Prefix\", \"S3Uri\": \"s3://sagemaker-eu-west-1-661670223746/data/train.csv\"}}, \"ChannelType\": \"training\", \"ContentType\": \"text/csv;header=present\"}, {\"DataSource\": {\"S3DataSource\": {\"S3DataType\": \"S3Prefix\", \"S3Uri\": \"s3://sagemaker-eu-west-1-661670223746/data/valid.csv\"}}, \"ChannelType\": \"validation\", \"ContentType\": \"text/csv;header=present\"}], \"OutputDataConfig\": {\"S3OutputPath\": \"s3://sagemaker-eu-west-1-661670223746/output/\"}, \"AutoMLProblemTypeConfig\": {\"TabularJobConfig\": {\"CompletionCriteria\": {\"MaxCandidates\": 10}, \"TargetAttributeName\": \"Trend\", \"ProblemType\": \"BinaryClassification\", \"Mode\": \"ENSEMBLING\", \"CandidateGenerationConfig\": {\"AlgorithmsConfig\": [{\"AutoMLAlgorithms\": [\"xgboost\", \"lightgbm\", \"catboost\"]}]}}}, \"RoleArn\": \"arn:aws:iam::661670223746:role/service-role/AmazonSageMaker-ExecutionRole-20191030T162743\", \"AutoMLJobObjective\": {\"MetricName\": \"Accuracy\"}, \"SecurityConfig\": {\"EnableInterContainerTrafficEncryption\": false}}\n",
      "................................................\n",
      ".."
     ]
    }
   ],
   "source": [
    "# define the AutoML job configuration\n",
    "automl = sagemaker.automl.automlv2.AutoMLV2(\n",
    "    problem_config=sagemaker.automl.automlv2.AutoMLTabularConfig(\n",
    "        target_attribute_name=\"Trend\",\n",
    "        algorithms_config=[\"xgboost\", \"lightgbm\", \"catboost\"],\n",
    "        mode=\"ENSEMBLING\",\n",
    "        problem_type=\"BinaryClassification\",\n",
    "        max_candidates=10,\n",
    "    ),\n",
    "    output_path=f\"s3://{bucket}/output/\",\n",
    "    job_objective={\"MetricName\": \"Accuracy\"},\n",
    "    base_job_name=\"equity-trend-automl\",\n",
    "    role=role,\n",
    "    sagemaker_session=session,\n",
    ")\n",
    "\n",
    "# run the AutoML job\n",
    "automl.fit(\n",
    "    inputs=[\n",
    "        sagemaker.automl.automlv2.AutoMLDataChannel(\n",
    "            s3_data_type=\"S3Prefix\",\n",
    "            s3_uri=training_data,\n",
    "            channel_type=\"training\",\n",
    "            compression_type=None,\n",
    "            content_type=\"text/csv;header=present\"\n",
    "        ),\n",
    "        sagemaker.automl.automlv2.AutoMLDataChannel(\n",
    "            s3_data_type=\"S3Prefix\",\n",
    "            s3_uri=validation_data,\n",
    "            channel_type=\"validation\",\n",
    "            compression_type=None,\n",
    "            content_type=\"text/csv;header=present\"\n",
    "        ),\n",
    "    ]\n",
    ")"
   ]
  },
  {
   "cell_type": "markdown",
   "id": "c8371151-5643-4842-a1b8-0483eeacbf72",
   "metadata": {},
   "source": [
    "## Model Evaluation"
   ]
  },
  {
   "cell_type": "markdown",
   "id": "aa069d74-27cf-48db-8a5b-59c61731aeda",
   "metadata": {},
   "source": [
    "Generate the test set predictions using the best model."
   ]
  },
  {
   "cell_type": "code",
   "execution_count": 25,
   "id": "a2730414-daa7-496a-92f0-8178a99f7a58",
   "metadata": {
    "tags": []
   },
   "outputs": [
    {
     "name": "stderr",
     "output_type": "stream",
     "text": [
      "INFO:sagemaker:Creating transform job with name: equity-trend-model-2024-08-18-17-58-45-465\n"
     ]
    },
    {
     "name": "stdout",
     "output_type": "stream",
     "text": [
      "...............................\u001b[34mWarning: MMS is using non-default JVM parameters: -XX:-UseContainerSupport\u001b[0m\n",
      "\u001b[34m2024-08-18T18:03:54,345 [INFO ] main com.amazonaws.ml.mms.ModelServer - \u001b[0m\n",
      "\u001b[34mMMS Home: /usr/local/lib/python3.8/dist-packages\u001b[0m\n",
      "\u001b[34mCurrent directory: /\u001b[0m\n",
      "\u001b[34mTemp directory: /home/model-server/tmp\u001b[0m\n",
      "\u001b[34mNumber of GPUs: 0\u001b[0m\n",
      "\u001b[34mNumber of CPUs: 8\u001b[0m\n",
      "\u001b[34mMax heap size: 6969 M\u001b[0m\n",
      "\u001b[34mPython executable: /usr/bin/python3\u001b[0m\n",
      "\u001b[34mConfig file: /etc/sagemaker-mms.properties\u001b[0m\n",
      "\u001b[34mInference address: http://0.0.0.0:8080\u001b[0m\n",
      "\u001b[34mManagement address: http://0.0.0.0:8080\u001b[0m\n",
      "\u001b[34mModel Store: /.sagemaker/mms/models\u001b[0m\n",
      "\u001b[34mInitial Models: ALL\u001b[0m\n",
      "\u001b[34mLog dir: null\u001b[0m\n",
      "\u001b[34mMetrics dir: null\u001b[0m\n",
      "\u001b[34mNetty threads: 0\u001b[0m\n",
      "\u001b[34mNetty client threads: 0\u001b[0m\n",
      "\u001b[34mDefault workers per model: 8\u001b[0m\n",
      "\u001b[34mBlacklist Regex: N/A\u001b[0m\n",
      "\u001b[34mMaximum Response Size: 6553500\u001b[0m\n",
      "\u001b[34mMaximum Request Size: 6553500\u001b[0m\n",
      "\u001b[34mPreload model: false\u001b[0m\n",
      "\u001b[34mPrefer direct buffer: false\u001b[0m\n",
      "\u001b[34m2024-08-18T18:03:54,397 [WARN ] W-9000-model com.amazonaws.ml.mms.wlm.WorkerLifeCycle - attachIOStreams() threadName=W-9000-model\u001b[0m\n",
      "\u001b[34m2024-08-18T18:03:54,461 [INFO ] W-9000-model-stdout com.amazonaws.ml.mms.wlm.WorkerLifeCycle - model_service_worker started with args: --sock-type unix --sock-name /home/model-server/tmp/.mms.sock.9000 --handler sagemaker_mxnet_serving_container.handler_service --model-path /.sagemaker/mms/models/model --model-name model --preload-model false --tmp-dir /home/model-server/tmp\u001b[0m\n",
      "\u001b[34m2024-08-18T18:03:54,462 [INFO ] W-9000-model-stdout com.amazonaws.ml.mms.wlm.WorkerLifeCycle - Listening on port: /home/model-server/tmp/.mms.sock.9000\u001b[0m\n",
      "\u001b[34m2024-08-18T18:03:54,462 [INFO ] W-9000-model-stdout com.amazonaws.ml.mms.wlm.WorkerLifeCycle - [PID] 61\u001b[0m\n",
      "\u001b[34m2024-08-18T18:03:54,462 [INFO ] W-9000-model-stdout com.amazonaws.ml.mms.wlm.WorkerLifeCycle - MMS worker started.\u001b[0m\n",
      "\u001b[34m2024-08-18T18:03:54,462 [INFO ] W-9000-model-stdout com.amazonaws.ml.mms.wlm.WorkerLifeCycle - Python runtime: 3.8.10\u001b[0m\n",
      "\u001b[34m2024-08-18T18:03:54,463 [INFO ] main com.amazonaws.ml.mms.wlm.ModelManager - Model model loaded.\u001b[0m\n",
      "\u001b[34m2024-08-18T18:03:54,467 [INFO ] main com.amazonaws.ml.mms.ModelServer - Initialize Inference server with: EpollServerSocketChannel.\u001b[0m\n",
      "\u001b[34m2024-08-18T18:03:54,474 [INFO ] W-9000-model com.amazonaws.ml.mms.wlm.WorkerThread - Connecting to: /home/model-server/tmp/.mms.sock.9000\u001b[0m\n",
      "\u001b[34m2024-08-18T18:03:54,475 [INFO ] W-9000-model com.amazonaws.ml.mms.wlm.WorkerThread - Connecting to: /home/model-server/tmp/.mms.sock.9000\u001b[0m\n",
      "\u001b[34m2024-08-18T18:03:54,475 [INFO ] W-9000-model com.amazonaws.ml.mms.wlm.WorkerThread - Connecting to: /home/model-server/tmp/.mms.sock.9000\u001b[0m\n",
      "\u001b[34m2024-08-18T18:03:54,474 [INFO ] W-9000-model com.amazonaws.ml.mms.wlm.WorkerThread - Connecting to: /home/model-server/tmp/.mms.sock.9000\u001b[0m\n",
      "\u001b[34m2024-08-18T18:03:54,474 [INFO ] W-9000-model com.amazonaws.ml.mms.wlm.WorkerThread - Connecting to: /home/model-server/tmp/.mms.sock.9000\u001b[0m\n",
      "\u001b[34m2024-08-18T18:03:54,474 [INFO ] W-9000-model com.amazonaws.ml.mms.wlm.WorkerThread - Connecting to: /home/model-server/tmp/.mms.sock.9000\u001b[0m\n",
      "\u001b[34m2024-08-18T18:03:54,474 [INFO ] W-9000-model com.amazonaws.ml.mms.wlm.WorkerThread - Connecting to: /home/model-server/tmp/.mms.sock.9000\u001b[0m\n",
      "\u001b[34m2024-08-18T18:03:54,475 [INFO ] W-9000-model com.amazonaws.ml.mms.wlm.WorkerThread - Connecting to: /home/model-server/tmp/.mms.sock.9000\u001b[0m\n",
      "\u001b[34m2024-08-18T18:03:54,536 [INFO ] W-9000-model-stdout com.amazonaws.ml.mms.wlm.WorkerLifeCycle - Connection accepted: /home/model-server/tmp/.mms.sock.9000.\u001b[0m\n",
      "\u001b[34m2024-08-18T18:03:54,538 [INFO ] W-9000-model-stdout com.amazonaws.ml.mms.wlm.WorkerLifeCycle - Connection accepted: /home/model-server/tmp/.mms.sock.9000.\u001b[0m\n",
      "\u001b[34m2024-08-18T18:03:54,539 [INFO ] W-9000-model-stdout com.amazonaws.ml.mms.wlm.WorkerLifeCycle - Connection accepted: /home/model-server/tmp/.mms.sock.9000.\u001b[0m\n",
      "\u001b[34m2024-08-18T18:03:54,541 [INFO ] W-9000-model-stdout com.amazonaws.ml.mms.wlm.WorkerLifeCycle - Connection accepted: /home/model-server/tmp/.mms.sock.9000.\u001b[0m\n",
      "\u001b[34m2024-08-18T18:03:54,546 [INFO ] W-9000-model-stdout com.amazonaws.ml.mms.wlm.WorkerLifeCycle - Connection accepted: /home/model-server/tmp/.mms.sock.9000.\u001b[0m\n",
      "\u001b[34m2024-08-18T18:03:54,547 [INFO ] W-9000-model-stdout com.amazonaws.ml.mms.wlm.WorkerLifeCycle - Connection accepted: /home/model-server/tmp/.mms.sock.9000.\u001b[0m\n",
      "\u001b[34m2024-08-18T18:03:54,548 [INFO ] W-9000-model-stdout com.amazonaws.ml.mms.wlm.WorkerLifeCycle - Connection accepted: /home/model-server/tmp/.mms.sock.9000.\u001b[0m\n",
      "\u001b[34m2024-08-18T18:03:54,549 [INFO ] W-9000-model-stdout com.amazonaws.ml.mms.wlm.WorkerLifeCycle - Connection accepted: /home/model-server/tmp/.mms.sock.9000.\u001b[0m\n",
      "\u001b[34m2024-08-18T18:03:54,551 [INFO ] main com.amazonaws.ml.mms.ModelServer - Inference API bind to: http://0.0.0.0:8080\u001b[0m\n",
      "\u001b[34mModel server started.\u001b[0m\n",
      "\u001b[34m2024-08-18T18:03:54,555 [WARN ] pool-3-thread-1 com.amazonaws.ml.mms.metrics.MetricCollector - worker pid is not available yet.\u001b[0m\n",
      "\u001b[34m2024-08-18T18:04:00,063 [INFO ] W-9000-model-stdout com.amazonaws.ml.mms.wlm.WorkerLifeCycle - Persisting 9 models in memory. Models will require 0.01% of memory.\u001b[0m\n",
      "\u001b[34m2024-08-18T18:04:00,086 [INFO ] W-9000-model-stdout com.amazonaws.ml.mms.wlm.WorkerLifeCycle - Persisting 9 models in memory. Models will require 0.01% of memory.\u001b[0m\n",
      "\u001b[34m2024-08-18T18:04:00,089 [INFO ] W-9000-model-stdout com.amazonaws.ml.mms.wlm.WorkerLifeCycle - Model model loaded io_fd=0242a9fffefeff83-00000025-00000006-ae4dc8e964a8f4f0-f025a035\u001b[0m\n",
      "\u001b[34m2024-08-18T18:04:00,095 [INFO ] W-9000-model-stdout com.amazonaws.ml.mms.wlm.WorkerLifeCycle - Persisting 9 models in memory. Models will require 0.01% of memory.\u001b[0m\n",
      "\u001b[34m2024-08-18T18:04:00,098 [INFO ] W-9000-model com.amazonaws.ml.mms.wlm.WorkerThread - Backend response time: 5490\u001b[0m\n",
      "\u001b[34m2024-08-18T18:04:00,100 [WARN ] W-9000-model com.amazonaws.ml.mms.wlm.WorkerLifeCycle - attachIOStreams() threadName=W-model-6\u001b[0m\n",
      "\u001b[34m2024-08-18T18:04:00,111 [INFO ] W-9000-model-stdout com.amazonaws.ml.mms.wlm.WorkerLifeCycle - Model model loaded io_fd=0242a9fffefeff83-00000025-00000005-4e4e48e964a8f4f0-bfdb57f3\u001b[0m\n",
      "\u001b[34m2024-08-18T18:04:00,112 [INFO ] W-9000-model com.amazonaws.ml.mms.wlm.WorkerThread - Backend response time: 5502\u001b[0m\n",
      "\u001b[34m2024-08-18T18:04:00,113 [WARN ] W-9000-model com.amazonaws.ml.mms.wlm.WorkerLifeCycle - attachIOStreams() threadName=W-model-1\u001b[0m\n",
      "\u001b[34m2024-08-18T18:04:00,118 [INFO ] W-9000-model-stdout com.amazonaws.ml.mms.wlm.WorkerLifeCycle - Model model loaded io_fd=0242a9fffefeff83-00000025-00000002-8d2588e964a8f4f0-903890da\u001b[0m\n",
      "\u001b[34m2024-08-18T18:04:00,119 [INFO ] W-9000-model com.amazonaws.ml.mms.wlm.WorkerThread - Backend response time: 5509\u001b[0m\n",
      "\u001b[34m2024-08-18T18:04:00,119 [WARN ] W-9000-model com.amazonaws.ml.mms.wlm.WorkerLifeCycle - attachIOStreams() threadName=W-model-7\u001b[0m\n",
      "\u001b[34m2024-08-18T18:04:00,138 [INFO ] W-9000-model-stdout com.amazonaws.ml.mms.wlm.WorkerLifeCycle - Persisting 9 models in memory. Models will require 0.01% of memory.\u001b[0m\n",
      "\u001b[34m2024-08-18T18:04:00,153 [INFO ] W-9000-model-stdout com.amazonaws.ml.mms.wlm.WorkerLifeCycle - Persisting 9 models in memory. Models will require 0.01% of memory.\u001b[0m\n",
      "\u001b[34m2024-08-18T18:04:00,161 [INFO ] W-9000-model-stdout com.amazonaws.ml.mms.wlm.WorkerLifeCycle - Model model loaded io_fd=0242a9fffefeff83-00000025-00000003-7b6f88e964a8f4f0-cc98096e\u001b[0m\n",
      "\u001b[34m2024-08-18T18:04:00,161 [INFO ] W-9000-model com.amazonaws.ml.mms.wlm.WorkerThread - Backend response time: 5480\u001b[0m\n",
      "\u001b[34m2024-08-18T18:04:00,161 [WARN ] W-9000-model com.amazonaws.ml.mms.wlm.WorkerLifeCycle - attachIOStreams() threadName=W-model-3\u001b[0m\n",
      "\u001b[34m2024-08-18T18:04:00,169 [INFO ] W-9000-model-stdout com.amazonaws.ml.mms.wlm.WorkerLifeCycle - Model model loaded io_fd=0242a9fffefeff83-00000025-00000004-385648e964a8f4f0-697c76be\u001b[0m\n",
      "\u001b[34m2024-08-18T18:04:00,170 [INFO ] W-9000-model com.amazonaws.ml.mms.wlm.WorkerThread - Backend response time: 5491\u001b[0m\n",
      "\u001b[34m2024-08-18T18:04:00,170 [WARN ] W-9000-model com.amazonaws.ml.mms.wlm.WorkerLifeCycle - attachIOStreams() threadName=W-model-4\u001b[0m\n",
      "\u001b[34m2024-08-18T18:04:00,205 [INFO ] W-9000-model-stdout com.amazonaws.ml.mms.wlm.WorkerLifeCycle - Persisting 9 models in memory. Models will require 0.01% of memory.\u001b[0m\n",
      "\u001b[34m2024-08-18T18:04:00,220 [INFO ] W-9000-model-stdout com.amazonaws.ml.mms.wlm.WorkerLifeCycle - Model model loaded io_fd=0242a9fffefeff83-00000025-00000008-ee5864e964a8f4f2-d302a262\u001b[0m\n",
      "\u001b[34m2024-08-18T18:04:00,220 [INFO ] W-9000-model com.amazonaws.ml.mms.wlm.WorkerThread - Backend response time: 5616\u001b[0m\n",
      "\u001b[34m2024-08-18T18:04:00,220 [WARN ] W-9000-model com.amazonaws.ml.mms.wlm.WorkerLifeCycle - attachIOStreams() threadName=W-model-5\u001b[0m\n",
      "\u001b[34m2024-08-18T18:04:00,254 [INFO ] W-9000-model-stdout com.amazonaws.ml.mms.wlm.WorkerLifeCycle - Persisting 9 models in memory. Models will require 0.01% of memory.\u001b[0m\n",
      "\u001b[34m2024-08-18T18:04:00,280 [INFO ] W-9000-model-stdout com.amazonaws.ml.mms.wlm.WorkerLifeCycle - Model model loaded io_fd=0242a9fffefeff83-00000025-00000007-dceaa4e964a8f4f2-75f3c412\u001b[0m\n",
      "\u001b[34m2024-08-18T18:04:00,280 [INFO ] W-9000-model com.amazonaws.ml.mms.wlm.WorkerThread - Backend response time: 5665\u001b[0m\n",
      "\u001b[34m2024-08-18T18:04:00,280 [WARN ] W-9000-model com.amazonaws.ml.mms.wlm.WorkerLifeCycle - attachIOStreams() threadName=W-model-2\u001b[0m\n",
      "\u001b[34m2024-08-18T18:04:00,376 [INFO ] W-9000-model-stdout com.amazonaws.ml.mms.wlm.WorkerLifeCycle - Persisting 9 models in memory. Models will require 0.01% of memory.\u001b[0m\n",
      "\u001b[34m2024-08-18T18:04:00,391 [INFO ] W-9000-model-stdout com.amazonaws.ml.mms.wlm.WorkerLifeCycle - Model model loaded io_fd=0242a9fffefeff83-00000025-00000001-e56988e964a8f4f0-ff303a64\u001b[0m\n",
      "\u001b[34m2024-08-18T18:04:00,393 [INFO ] W-9000-model com.amazonaws.ml.mms.wlm.WorkerThread - Backend response time: 5712\u001b[0m\n",
      "\u001b[34m2024-08-18T18:04:00,394 [WARN ] W-9000-model com.amazonaws.ml.mms.wlm.WorkerLifeCycle - attachIOStreams() threadName=W-model-8\u001b[0m\n",
      "\u001b[34m2024-08-18T18:04:01,859 [INFO ] pool-2-thread-10 ACCESS_LOG - /169.254.255.130:42336 \"GET /ping HTTP/1.1\" 200 9\u001b[0m\n",
      "\u001b[34m2024-08-18T18:04:01,867 [INFO ] epollEventLoopGroup-3-2 ACCESS_LOG - /169.254.255.130:42344 \"GET /execution-parameters HTTP/1.1\" 404 1\u001b[0m\n",
      "\u001b[34m2024-08-18T18:04:02,068 [INFO ] W-9000-model com.amazonaws.ml.mms.wlm.WorkerThread - Backend response time: 177\u001b[0m\n",
      "\u001b[34m2024-08-18T18:04:02,069 [INFO ] W-9000-model ACCESS_LOG - /169.254.255.130:42348 \"POST /invocations HTTP/1.1\" 200 181\u001b[0m\n",
      "\u001b[32m2024-08-18T18:04:01.872:[sagemaker logs]: MaxConcurrentTransforms=1, MaxPayloadInMB=6, BatchStrategy=MULTI_RECORD\u001b[0m\n",
      "\n"
     ]
    }
   ],
   "source": [
    "# create the model\n",
    "model = automl.create_model(\n",
    "    name=\"equity-trend-model\",\n",
    "    sagemaker_session=session,\n",
    "    inference_response_keys=[\"probabilities\", \"labels\"]\n",
    ")\n",
    "\n",
    "# create the transformer\n",
    "transformer = model.transformer(\n",
    "    instance_count=1,\n",
    "    instance_type=\"ml.m5.2xlarge\",\n",
    ")\n",
    "\n",
    "# run the transform job\n",
    "transformer.transform(\n",
    "    data=test_data,\n",
    "    content_type=\"text/csv\",\n",
    ")"
   ]
  },
  {
   "cell_type": "markdown",
   "id": "5ca45ff8-e532-4737-9fac-b373f1112f43",
   "metadata": {},
   "source": [
    "Get the test set predictions from S3."
   ]
  },
  {
   "cell_type": "code",
   "execution_count": 26,
   "id": "5928056b-0c72-4650-8de1-566a0f27b51e",
   "metadata": {
    "tags": []
   },
   "outputs": [],
   "source": [
    "# download the predictions from S3\n",
    "predictions = session.read_s3_file(\n",
    "    bucket=bucket,\n",
    "    key_prefix=f\"{transformer.latest_transform_job.name}/test.csv.out\"\n",
    ")\n",
    "\n",
    "# cast the predictions to data frame\n",
    "predictions = pd.read_csv(io.StringIO(predictions), header=None)\n",
    "\n",
    "# extract the predicted probabilities\n",
    "predictions[\"Class 0 Probability\"] = predictions.iloc[:, 0].apply(lambda x: json.loads(x)[1])\n",
    "predictions[\"Class 1 Probability\"] = predictions.iloc[:, 0].apply(lambda x: json.loads(x)[0])\n",
    "predictions[\"Predicted Trend\"] = predictions[[\"Class 0 Probability\", \"Class 1 Probability\"]].apply(lambda x: np.argmax(x), axis=1)\n",
    "\n",
    "# add the dates\n",
    "predictions.index = test_dataset.index\n",
    "\n",
    "# add the ground truth labels\n",
    "predictions[\"Actual Trend\"] = test_dataset[\"Trend\"]"
   ]
  },
  {
   "cell_type": "code",
   "execution_count": 27,
   "id": "cc8c3094-bd75-4b07-98a2-42e414d023ba",
   "metadata": {},
   "outputs": [
    {
     "data": {
      "text/plain": [
       "(30, 6)"
      ]
     },
     "execution_count": 27,
     "metadata": {},
     "output_type": "execute_result"
    }
   ],
   "source": [
    "predictions.shape"
   ]
  },
  {
   "cell_type": "code",
   "execution_count": 28,
   "id": "b60e3385-1682-4b06-9c0a-c0e95cf37ed6",
   "metadata": {},
   "outputs": [
    {
     "data": {
      "text/html": [
       "<div>\n",
       "<style scoped>\n",
       "    .dataframe tbody tr th:only-of-type {\n",
       "        vertical-align: middle;\n",
       "    }\n",
       "\n",
       "    .dataframe tbody tr th {\n",
       "        vertical-align: top;\n",
       "    }\n",
       "\n",
       "    .dataframe thead th {\n",
       "        text-align: right;\n",
       "    }\n",
       "</style>\n",
       "<table border=\"1\" class=\"dataframe\">\n",
       "  <thead>\n",
       "    <tr style=\"text-align: right;\">\n",
       "      <th></th>\n",
       "      <th>0</th>\n",
       "      <th>1</th>\n",
       "      <th>Class 0 Probability</th>\n",
       "      <th>Class 1 Probability</th>\n",
       "      <th>Predicted Trend</th>\n",
       "      <th>Actual Trend</th>\n",
       "    </tr>\n",
       "    <tr>\n",
       "      <th>Date</th>\n",
       "      <th></th>\n",
       "      <th></th>\n",
       "      <th></th>\n",
       "      <th></th>\n",
       "      <th></th>\n",
       "      <th></th>\n",
       "    </tr>\n",
       "  </thead>\n",
       "  <tbody>\n",
       "    <tr>\n",
       "      <th>2024-06-18</th>\n",
       "      <td>[0.4382489323616028, 0.5617510676383972]</td>\n",
       "      <td>['1', '0']</td>\n",
       "      <td>0.561751</td>\n",
       "      <td>0.438249</td>\n",
       "      <td>0</td>\n",
       "      <td>0</td>\n",
       "    </tr>\n",
       "    <tr>\n",
       "      <th>2024-06-20</th>\n",
       "      <td>[0.43870627880096436, 0.5612937211990356]</td>\n",
       "      <td>['1', '0']</td>\n",
       "      <td>0.561294</td>\n",
       "      <td>0.438706</td>\n",
       "      <td>0</td>\n",
       "      <td>0</td>\n",
       "    </tr>\n",
       "    <tr>\n",
       "      <th>2024-06-21</th>\n",
       "      <td>[0.4012412428855896, 0.5987587571144104]</td>\n",
       "      <td>['1', '0']</td>\n",
       "      <td>0.598759</td>\n",
       "      <td>0.401241</td>\n",
       "      <td>0</td>\n",
       "      <td>0</td>\n",
       "    </tr>\n",
       "    <tr>\n",
       "      <th>2024-06-24</th>\n",
       "      <td>[0.5052646398544312, 0.49473533034324646]</td>\n",
       "      <td>['1', '0']</td>\n",
       "      <td>0.494735</td>\n",
       "      <td>0.505265</td>\n",
       "      <td>1</td>\n",
       "      <td>1</td>\n",
       "    </tr>\n",
       "    <tr>\n",
       "      <th>2024-06-25</th>\n",
       "      <td>[0.525606095790863, 0.47439390420913696]</td>\n",
       "      <td>['1', '0']</td>\n",
       "      <td>0.474394</td>\n",
       "      <td>0.525606</td>\n",
       "      <td>1</td>\n",
       "      <td>1</td>\n",
       "    </tr>\n",
       "  </tbody>\n",
       "</table>\n",
       "</div>"
      ],
      "text/plain": [
       "                                                    0           1  \\\n",
       "Date                                                                \n",
       "2024-06-18   [0.4382489323616028, 0.5617510676383972]  ['1', '0']   \n",
       "2024-06-20  [0.43870627880096436, 0.5612937211990356]  ['1', '0']   \n",
       "2024-06-21   [0.4012412428855896, 0.5987587571144104]  ['1', '0']   \n",
       "2024-06-24  [0.5052646398544312, 0.49473533034324646]  ['1', '0']   \n",
       "2024-06-25   [0.525606095790863, 0.47439390420913696]  ['1', '0']   \n",
       "\n",
       "            Class 0 Probability  Class 1 Probability  Predicted Trend  \\\n",
       "Date                                                                    \n",
       "2024-06-18             0.561751             0.438249                0   \n",
       "2024-06-20             0.561294             0.438706                0   \n",
       "2024-06-21             0.598759             0.401241                0   \n",
       "2024-06-24             0.494735             0.505265                1   \n",
       "2024-06-25             0.474394             0.525606                1   \n",
       "\n",
       "            Actual Trend  \n",
       "Date                      \n",
       "2024-06-18             0  \n",
       "2024-06-20             0  \n",
       "2024-06-21             0  \n",
       "2024-06-24             1  \n",
       "2024-06-25             1  "
      ]
     },
     "execution_count": 28,
     "metadata": {},
     "output_type": "execute_result"
    }
   ],
   "source": [
    "predictions.head()"
   ]
  },
  {
   "cell_type": "code",
   "execution_count": 29,
   "id": "b0a927ce-3347-4b98-8ebf-0643649f4f2a",
   "metadata": {
    "tags": []
   },
   "outputs": [
    {
     "data": {
      "text/html": [
       "<div>\n",
       "<style scoped>\n",
       "    .dataframe tbody tr th:only-of-type {\n",
       "        vertical-align: middle;\n",
       "    }\n",
       "\n",
       "    .dataframe tbody tr th {\n",
       "        vertical-align: top;\n",
       "    }\n",
       "\n",
       "    .dataframe thead th {\n",
       "        text-align: right;\n",
       "    }\n",
       "</style>\n",
       "<table border=\"1\" class=\"dataframe\">\n",
       "  <thead>\n",
       "    <tr style=\"text-align: right;\">\n",
       "      <th></th>\n",
       "      <th>0</th>\n",
       "      <th>1</th>\n",
       "      <th>Class 0 Probability</th>\n",
       "      <th>Class 1 Probability</th>\n",
       "      <th>Predicted Trend</th>\n",
       "      <th>Actual Trend</th>\n",
       "    </tr>\n",
       "    <tr>\n",
       "      <th>Date</th>\n",
       "      <th></th>\n",
       "      <th></th>\n",
       "      <th></th>\n",
       "      <th></th>\n",
       "      <th></th>\n",
       "      <th></th>\n",
       "    </tr>\n",
       "  </thead>\n",
       "  <tbody>\n",
       "    <tr>\n",
       "      <th>2024-07-25</th>\n",
       "      <td>[0.657383918762207, 0.3426160514354706]</td>\n",
       "      <td>['1', '0']</td>\n",
       "      <td>0.342616</td>\n",
       "      <td>0.657384</td>\n",
       "      <td>1</td>\n",
       "      <td>1</td>\n",
       "    </tr>\n",
       "    <tr>\n",
       "      <th>2024-07-26</th>\n",
       "      <td>[0.33009588718414307, 0.6699041128158569]</td>\n",
       "      <td>['1', '0']</td>\n",
       "      <td>0.669904</td>\n",
       "      <td>0.330096</td>\n",
       "      <td>0</td>\n",
       "      <td>1</td>\n",
       "    </tr>\n",
       "    <tr>\n",
       "      <th>2024-07-29</th>\n",
       "      <td>[0.43021517992019653, 0.5697848200798035]</td>\n",
       "      <td>['1', '0']</td>\n",
       "      <td>0.569785</td>\n",
       "      <td>0.430215</td>\n",
       "      <td>0</td>\n",
       "      <td>0</td>\n",
       "    </tr>\n",
       "    <tr>\n",
       "      <th>2024-07-30</th>\n",
       "      <td>[0.26679760217666626, 0.7332023978233337]</td>\n",
       "      <td>['1', '0']</td>\n",
       "      <td>0.733202</td>\n",
       "      <td>0.266798</td>\n",
       "      <td>0</td>\n",
       "      <td>1</td>\n",
       "    </tr>\n",
       "    <tr>\n",
       "      <th>2024-07-31</th>\n",
       "      <td>[0.41644930839538574, 0.5835506916046143]</td>\n",
       "      <td>['1', '0']</td>\n",
       "      <td>0.583551</td>\n",
       "      <td>0.416449</td>\n",
       "      <td>0</td>\n",
       "      <td>0</td>\n",
       "    </tr>\n",
       "  </tbody>\n",
       "</table>\n",
       "</div>"
      ],
      "text/plain": [
       "                                                    0           1  \\\n",
       "Date                                                                \n",
       "2024-07-25    [0.657383918762207, 0.3426160514354706]  ['1', '0']   \n",
       "2024-07-26  [0.33009588718414307, 0.6699041128158569]  ['1', '0']   \n",
       "2024-07-29  [0.43021517992019653, 0.5697848200798035]  ['1', '0']   \n",
       "2024-07-30  [0.26679760217666626, 0.7332023978233337]  ['1', '0']   \n",
       "2024-07-31  [0.41644930839538574, 0.5835506916046143]  ['1', '0']   \n",
       "\n",
       "            Class 0 Probability  Class 1 Probability  Predicted Trend  \\\n",
       "Date                                                                    \n",
       "2024-07-25             0.342616             0.657384                1   \n",
       "2024-07-26             0.669904             0.330096                0   \n",
       "2024-07-29             0.569785             0.430215                0   \n",
       "2024-07-30             0.733202             0.266798                0   \n",
       "2024-07-31             0.583551             0.416449                0   \n",
       "\n",
       "            Actual Trend  \n",
       "Date                      \n",
       "2024-07-25             1  \n",
       "2024-07-26             1  \n",
       "2024-07-29             0  \n",
       "2024-07-30             1  \n",
       "2024-07-31             0  "
      ]
     },
     "execution_count": 29,
     "metadata": {},
     "output_type": "execute_result"
    }
   ],
   "source": [
    "predictions.tail()"
   ]
  },
  {
   "cell_type": "markdown",
   "id": "5ddcf4a5-6f4f-4868-8aef-2a010d016e2f",
   "metadata": {},
   "source": [
    "Calculate the classification metrics."
   ]
  },
  {
   "cell_type": "code",
   "execution_count": 30,
   "id": "dfaeb23b-e8ab-46ec-bb6a-78106d705eee",
   "metadata": {
    "tags": []
   },
   "outputs": [],
   "source": [
    "metrics = pd.DataFrame(\n",
    "    data={\n",
    "        \"Accuracy\": accuracy_score(y_true=predictions[\"Actual Trend\"], y_pred=predictions[\"Predicted Trend\"]),\n",
    "        \"ROC-AUC\": roc_auc_score(y_true=predictions[\"Actual Trend\"], y_score=predictions[\"Class 1 Probability\"]),\n",
    "        \"Precision\": precision_score(y_true=predictions[\"Actual Trend\"], y_pred=predictions[\"Predicted Trend\"]),\n",
    "        \"Recall\": recall_score(y_true=predictions[\"Actual Trend\"], y_pred=predictions[\"Predicted Trend\"]),\n",
    "        \"F1\": f1_score(y_true=predictions[\"Actual Trend\"], y_pred=predictions[\"Predicted Trend\"]),\n",
    "    },\n",
    "    index=[\"Value\"]\n",
    ").transpose().reset_index().rename(columns={\"index\": \"Metric\"})"
   ]
  },
  {
   "cell_type": "code",
   "execution_count": 31,
   "id": "6660cbc5-43df-4b0a-ad09-8e57bbefa3bc",
   "metadata": {
    "tags": []
   },
   "outputs": [
    {
     "data": {
      "text/html": [
       "<div>\n",
       "<style scoped>\n",
       "    .dataframe tbody tr th:only-of-type {\n",
       "        vertical-align: middle;\n",
       "    }\n",
       "\n",
       "    .dataframe tbody tr th {\n",
       "        vertical-align: top;\n",
       "    }\n",
       "\n",
       "    .dataframe thead th {\n",
       "        text-align: right;\n",
       "    }\n",
       "</style>\n",
       "<table border=\"1\" class=\"dataframe\">\n",
       "  <thead>\n",
       "    <tr style=\"text-align: right;\">\n",
       "      <th></th>\n",
       "      <th>Metric</th>\n",
       "      <th>Value</th>\n",
       "    </tr>\n",
       "  </thead>\n",
       "  <tbody>\n",
       "    <tr>\n",
       "      <th>0</th>\n",
       "      <td>Accuracy</td>\n",
       "      <td>0.633333</td>\n",
       "    </tr>\n",
       "    <tr>\n",
       "      <th>1</th>\n",
       "      <td>ROC-AUC</td>\n",
       "      <td>0.556561</td>\n",
       "    </tr>\n",
       "    <tr>\n",
       "      <th>2</th>\n",
       "      <td>Precision</td>\n",
       "      <td>0.800000</td>\n",
       "    </tr>\n",
       "    <tr>\n",
       "      <th>3</th>\n",
       "      <td>Recall</td>\n",
       "      <td>0.470588</td>\n",
       "    </tr>\n",
       "    <tr>\n",
       "      <th>4</th>\n",
       "      <td>F1</td>\n",
       "      <td>0.592593</td>\n",
       "    </tr>\n",
       "  </tbody>\n",
       "</table>\n",
       "</div>"
      ],
      "text/plain": [
       "      Metric     Value\n",
       "0   Accuracy  0.633333\n",
       "1    ROC-AUC  0.556561\n",
       "2  Precision  0.800000\n",
       "3     Recall  0.470588\n",
       "4         F1  0.592593"
      ]
     },
     "execution_count": 31,
     "metadata": {},
     "output_type": "execute_result"
    }
   ],
   "source": [
    "metrics"
   ]
  },
  {
   "cell_type": "markdown",
   "id": "fa4c61e0-17f4-4624-a47f-61ea11ec5577",
   "metadata": {},
   "source": [
    "Calculate the confusion matrix."
   ]
  },
  {
   "cell_type": "code",
   "execution_count": 32,
   "id": "40ba341c-2d9e-40c5-a3d4-02b7da0ad762",
   "metadata": {
    "tags": []
   },
   "outputs": [],
   "source": [
    "matrix = pd.crosstab(\n",
    "    index=predictions[\"Actual Trend\"],\n",
    "    columns=predictions[\"Predicted Trend\"],\n",
    ")"
   ]
  },
  {
   "cell_type": "code",
   "execution_count": 33,
   "id": "bbb287d0-9999-4b4b-8dea-b83f2f6b0227",
   "metadata": {
    "tags": []
   },
   "outputs": [
    {
     "data": {
      "text/html": [
       "<div>\n",
       "<style scoped>\n",
       "    .dataframe tbody tr th:only-of-type {\n",
       "        vertical-align: middle;\n",
       "    }\n",
       "\n",
       "    .dataframe tbody tr th {\n",
       "        vertical-align: top;\n",
       "    }\n",
       "\n",
       "    .dataframe thead th {\n",
       "        text-align: right;\n",
       "    }\n",
       "</style>\n",
       "<table border=\"1\" class=\"dataframe\">\n",
       "  <thead>\n",
       "    <tr style=\"text-align: right;\">\n",
       "      <th>Predicted Trend</th>\n",
       "      <th>0</th>\n",
       "      <th>1</th>\n",
       "    </tr>\n",
       "    <tr>\n",
       "      <th>Actual Trend</th>\n",
       "      <th></th>\n",
       "      <th></th>\n",
       "    </tr>\n",
       "  </thead>\n",
       "  <tbody>\n",
       "    <tr>\n",
       "      <th>0</th>\n",
       "      <td>11</td>\n",
       "      <td>2</td>\n",
       "    </tr>\n",
       "    <tr>\n",
       "      <th>1</th>\n",
       "      <td>9</td>\n",
       "      <td>8</td>\n",
       "    </tr>\n",
       "  </tbody>\n",
       "</table>\n",
       "</div>"
      ],
      "text/plain": [
       "Predicted Trend   0  1\n",
       "Actual Trend          \n",
       "0                11  2\n",
       "1                 9  8"
      ]
     },
     "execution_count": 33,
     "metadata": {},
     "output_type": "execute_result"
    }
   ],
   "source": [
    "matrix"
   ]
  },
  {
   "cell_type": "markdown",
   "id": "2e7ab433-a94e-4278-976b-11ceacddd098",
   "metadata": {},
   "source": [
    "Delete the model."
   ]
  },
  {
   "cell_type": "code",
   "execution_count": 34,
   "id": "52b33d2f-4602-4118-98f9-98957d0b3488",
   "metadata": {
    "tags": []
   },
   "outputs": [
    {
     "name": "stderr",
     "output_type": "stream",
     "text": [
      "INFO:sagemaker:Deleting model with name: equity-trend-model\n"
     ]
    }
   ],
   "source": [
    "transformer.delete_model()"
   ]
  }
 ],
 "metadata": {
  "kernelspec": {
   "display_name": "conda_python3",
   "language": "python",
   "name": "conda_python3"
  },
  "language_info": {
   "codemirror_mode": {
    "name": "ipython",
    "version": 3
   },
   "file_extension": ".py",
   "mimetype": "text/x-python",
   "name": "python",
   "nbconvert_exporter": "python",
   "pygments_lexer": "ipython3",
   "version": "3.10.14"
  }
 },
 "nbformat": 4,
 "nbformat_minor": 5
}
